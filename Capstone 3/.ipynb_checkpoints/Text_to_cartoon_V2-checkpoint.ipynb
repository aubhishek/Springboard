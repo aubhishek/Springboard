{
 "cells": [
  {
   "cell_type": "code",
   "execution_count": 13,
   "id": "8b549764",
   "metadata": {},
   "outputs": [
    {
     "name": "stdout",
     "output_type": "stream",
     "text": [
      "['', 'antisense-oligonucleotide-with-mrna', 'app_biorender_com', 'aptamer-3-dna-rna', 'aptamer-antibody-conjugate', 'aptamer-chemotherapy-drug-conjugate-bound-to-cell', 'aptamer-sirna-chimera', 'cas9-2', 'Cas9-tracrRNA-and-crRNA-complex', 'catenated-DNA-2', 'catenated-dna', 'cdna-reverse-transcription-from-purified-rna', 'cDNA-synthesis', 'chromatin-condensed-loops', 'chromosome-simple-anaphase-bent-kineotochore-removed', 'chromosome-simple-recombinant', 'chromosomes-simple-bivalent-2', 'dicer-with-rna-fragments', 'dna-2d-long', 'dna-2d-short', 'dna-circular-small', 'dna-damage-in-cancer-cells-02', 'dna-double-stranded-break-left', 'dna-double-stranded-break-no-fragments', 'dna-ligase-dna-damage-recognition (1)', 'dna-ligase-dna-damage-recognition', 'dna-ligase-ligation', 'dna-ligase-repaired-dna', 'dna-loop-m-shaped', 'dna-loop-medium', 'dna-loop', 'dna-origami-dodecahedron-dsrna', 'dna-origami-dodecahedron-ssdna', 'dna-origami-icosahedron-dsrna', 'dna-origami-icosahedron-ssdna', 'dna-overhang-with-damage', 'dna-polymerase-transcribing', 'dna-primer', 'dna-sample-fluorescent-label', 'dna-short-3d-02', 'dna-single-turn-02', 'dna-sticky-ends-2', 'dna-unwinding-left', 'dna-unwinding-open-left', 'dna-unwinding-right', 'dna-unwound-long', 'dna-unwound-short', 'dna-unwound-single-stranded-break-2', 'dna-unwound-single-stranded-break', 'dna-unwound-ssbreak-long-2', 'dna-with-overhangs-editable', 'dna-with-overhangs', 'dna-with-primer-1', 'dna-with-primer', 'fusion-genes', 'gene-regulation-diagram', 'genome-structural-variation-deletion', 'genome-structural-variation-inter-chromosome-insertion', 'genome-structural-variation-intra-chromosome-insertion', 'genome-structural-variation-tandem-duplication', 'genome-structural-variation-translocation', 'gibson-assembly-transformed-vector', 'gibson-assembly', 'graph-of-pcr-stages-relative-to-temperature', 'human-karyotype-chromosome-12', 'human-karyotype-chromosome-2', 'human-karyotype-chromosome-23-y', 'human-karyotype-chromosome-4', 'human-karyotype-chromosome-5', 'human-karyotype-chromosome-6', 'human-telomerase-rna', 'knotted-DNA', 'meganuclease-with-dna', 'mirna-duplex-2', 'mirna-duplex', 'mirna-fragment', 'mirna-inhibited-by-lncrna', 'mirna-mechanism (1)', 'mirna-mechanism', 'mirna-mrna-degradation', 'mirna-with-target-mrna', 'mouse-model-inducible', 'mouse-model-transgenic', 'mrna-degradation-3d', 'mrna-splicing-alternative-3prime-splice-sites', 'mrna-splicing-alternative-5prime-splice-sites', 'mrna-splicing-constitutive-splicing', 'mrna-splicing-exon-skipping-exclusion', 'mrna-vaccine-curved-neoantigens-nucleotides-1', 'mrna-vaccine-curved-neoantigens-nucleotides-2', 'mrna-vaccine-curved-neoantigens', 'mrna-vaccine-curved-with-neoantigens-and-nucleotides-3', 'mrna-vaccine-straight-neoantigens-nucleotides', 'mrna-vaccine-straight-neoantigens', 'mRNA', 'NFAT-transcription', 'NFKB-transcription', 'nucleosome-3d', 'nucleosome-long', 'nucleosomes-chromatin-open', 'nucleotide-addition', 'nucleotide-deletion', 'pegrna-reverse-transcription', 'pegrna', 'pkm2-specific-sirna-apoptosis', 'pre-mirna-2', 'pre-sliced-introns-and-exons (1)', 'pre-sliced-introns-and-exons', 'pregenomic-rna-pgrna', 'primary-mirna', 'prime-editor-01', 'purified-rna', 'restriction-enzyme-cleavage (1)', 'restriction-enzyme-cleavage-site-recognition', 'restriction-enzyme-cleavage', 'restriction-enzyme-sticky-ends (1)', 'restriction-enzyme-sticky-ends', 'reverse-transcriptase-1', 'reverse-transcriptase-transcribing-1', 'ribosome-3d (1)', 'ribosome-3d-30s', 'ribosome-3d-50s (1)', 'ribosome-3d-50s', 'ribosome-3d', 'ribozyme-with-template', 'ribozyme', 'risc-with-sirna-and-mrna', 'risc-with-sirna', 'rna-ds-long', 'rna-fragment', 'rna-interior-loop-large', 'rna-interior-loop-medium', 'rna-introns-and-exons', 'rna-long', 'rna-polymerase-01-transcribing (1)', 'rna-polymerase-01-transcribing', 'RNA-polymerase-01', 'rna-polymerase-2 (1)', 'RNA-polymerase-2-transcribing-1 (1)', 'RNA-polymerase-2-transcribing-1', 'RNA-polymerase-2-transcribing-2', 'RNA-polymerase-2-transcribing-3 (1)', 'RNA-polymerase-2-transcribing-3', 'RNA-polymerase-2-transcribing-4 (1)', 'RNA-polymerase-2-transcribing-4', 'rna-polymerase-2', 'rna-polymerase-i-bottom', 'rna-polymerase-i-top', 'rna-polymerase-ii-bottom', 'rna-polymerase-ii-top', 'rna-polymerase-ii-transcirbing-2', 'rna-with-fluorescent-tag', 'rrna-16s', 'rt-pcr-denaturation', 'rt-pcr-extension', 'rt-pcr-initiation', 'rt-pcr-primer-annealing', 'rt-pcr-results', 'schematic-mRNA', 'sgrna-simple', 'short-hairpin-rna-shrna-2', 'short-hairpin-rna-shrna', 'shrna-processed-by-dicer', 'single-guided-rna-sgrna-2', 'single-guided-rna-sgrna-3', 'single-guided-rna-sgrna-4', 'single-guided-rna-sgrna', 'sirna-in-stock-solution', 'sirna-in-working-solution', 'small-interfering-rna-sirna-dumbbell', 'small-interfering-rna-sirna-fork', 'spcas9-sgrna-1', 'spcas9-sgrna-2', 'spcas9-sgrna-3', 'spcas9-sgrna-4', 'spcas9-sgrna-5', 'spcas9-sgrna-6', 'spcas9-sgrna-8', 'spcas9-sgrna-base', 'spcas9-sgrna-stem-loop-bent', 'spcas9-sgrna-stem-loop-long', 'spcas9-sgrna-stem-loop-medium-with-buldge', 'spcas9-sgrna-stem-loop-medium', 'spcas9-sgrna-stem-loop-short', 'spcas9-sgrna7-', 'spliceosome-human-domains', 'spliceosome-human', 'spliceosome', 'ssdna-2d-fragment', 'ssdna-2d-long', 'ssdna-2d-short', 'ssdna-2d-squiggle-2', 'ssdna-2d-squiggle-3', 'ssdna-arc-large', 'ssdna-arc-medium', 'ssdna-catenated', 'ssdna-curved', 'ssdna-fragment', 'ssdna-long', 'ssdna-medium', 'ssdna-shape-1', 'ssdna-short', 'stem-loop-rna', 'supercoiled-dna-2d-3-loops', 'supercoiled-dna-2d-open', 'supercoiled-dna-2d', 'target-dependent-mirna-degradation-mechanism (1)', 'target-dependent-mirna-degradation-mechanism', 'target-dependent-mirna-degradation', 'telomere', 'tracrRNA-CRISPR', 'trans-activating-crRNA-tracrRNA-1', 'trans-activating-crRNA-tracrRNA-2', 'transcription', 'trna-01', 'trna-backbone', 'trna-intermediate', 'trna-mature', 'trna-primary', 'trp-operon', 'xist-rna-1', 'xist-rna-2', 'xist-rna-3', 'xx-chromosomes', 'y-rna-hy1', 'y-rna', 'yeast-diploid', 'yeast-haploid', 'yeast-sporulation', 'zdna-medium', 'zdna-short']\n"
     ]
    }
   ],
   "source": [
    "import os\n",
    "\n",
    "# Assuming your images are stored in a directory\n",
    "image_directory = r'C:\\Users\\aubhi\\OneDrive - University of California, San Francisco\\Desktop\\Biorender\\DNA'\n",
    "\n",
    "# Get the list of image file names\n",
    "image_files = os.listdir(image_directory)\n",
    "\n",
    "# Extract the labels from the file names\n",
    "labels = [file.split('.')[0] for file in image_files]\n",
    "\n",
    "# Print the labels\n",
    "print(labels)"
   ]
  },
  {
   "cell_type": "code",
   "execution_count": 14,
   "id": "1a8d3b66",
   "metadata": {},
   "outputs": [],
   "source": [
    "import os\n",
    "from PIL import Image\n",
    "\n",
    "# Directory containing the images\n",
    "image_directory = \"C:\\\\DNA\"\n",
    "\n",
    "# List to store image-label associations\n",
    "image_label_mapping = {}\n",
    "\n",
    "# Iterate over the image files in the directory\n",
    "for file_name in os.listdir(image_directory):\n",
    "    # Construct the file path for the current image\n",
    "    image_path = os.path.join(image_directory, file_name)\n",
    "    \n",
    "    # Open the image using a suitable library like Pillow (PIL)\n",
    "    image = Image.open(image_path)\n",
    "    \n",
    "    # Associate the image path with the file name (label) in the mapping dictionary\n",
    "    image_label_mapping[file_name] = image\n",
    "\n",
    "# Accessing an image based on its label\n",
    "label = 'antisense-oligonucleotide-with-mrna.png'\n",
    "image = image_label_mapping[label]\n",
    "# Now you can use the 'image' variable for further processing or display"
   ]
  },
  {
   "cell_type": "code",
   "execution_count": 15,
   "id": "5d8bf576",
   "metadata": {},
   "outputs": [
    {
     "data": {
      "image/png": "[encoded data removed]",
      "text/plain": [
       "<Figure size 576x432 with 1 Axes>"
      ]
     },
     "metadata": {
      "needs_background": "light"
     },
     "output_type": "display_data"
    }
   ],
   "source": [
    "import matplotlib.pyplot as plt\n",
    "\n",
    "# Accessing an image based on its label\n",
    "label = 'antisense-oligonucleotide-with-mrna.png'\n",
    "image = image_label_mapping[label]\n",
    "\n",
    "# Display the image and its label\n",
    "plt.figure(figsize=(8, 6))\n",
    "plt.imshow(image)\n",
    "plt.title(label)\n",
    "plt.axis('off')\n",
    "plt.show()"
   ]
  },
  {
   "cell_type": "code",
   "execution_count": 16,
   "id": "8911aa79",
   "metadata": {},
   "outputs": [
    {
     "name": "stdout",
     "output_type": "stream",
     "text": [
      "Requirement already satisfied: nltk in c:\\users\\aubhi\\appdata\\roaming\\python\\python39\\site-packages (3.8.1)\n",
      "Requirement already satisfied: click in c:\\users\\aubhi\\anaconda3\\lib\\site-packages (from nltk) (8.0.3)\n",
      "Requirement already satisfied: joblib in c:\\users\\aubhi\\anaconda3\\lib\\site-packages (from nltk) (1.1.0)\n",
      "Requirement already satisfied: tqdm in c:\\users\\aubhi\\anaconda3\\lib\\site-packages (from nltk) (4.62.3)\n",
      "Requirement already satisfied: regex>=2021.8.3 in c:\\users\\aubhi\\anaconda3\\lib\\site-packages (from nltk) (2021.8.3)\n",
      "Requirement already satisfied: colorama in c:\\users\\aubhi\\anaconda3\\lib\\site-packages (from click->nltk) (0.4.6)\n",
      "Note: you may need to restart the kernel to use updated packages.\n"
     ]
    }
   ],
   "source": [
    "pip install nltk"
   ]
  },
  {
   "cell_type": "code",
   "execution_count": 17,
   "id": "fecf97a1",
   "metadata": {},
   "outputs": [],
   "source": [
    "from nltk.tokenize import sent_tokenize, word_tokenize\n",
    "import nltk"
   ]
  },
  {
   "cell_type": "code",
   "execution_count": 18,
   "id": "b7e3c62d",
   "metadata": {},
   "outputs": [
    {
     "name": "stderr",
     "output_type": "stream",
     "text": [
      "[nltk_data] Downloading package averaged_perceptron_tagger to\n",
      "[nltk_data]     C:\\Users\\aubhi\\AppData\\Roaming\\nltk_data...\n",
      "[nltk_data]   Package averaged_perceptron_tagger is already up-to-\n",
      "[nltk_data]       date!\n"
     ]
    },
    {
     "data": {
      "text/plain": [
       "True"
      ]
     },
     "execution_count": 18,
     "metadata": {},
     "output_type": "execute_result"
    }
   ],
   "source": [
    "nltk.download('averaged_perceptron_tagger')"
   ]
  },
  {
   "cell_type": "code",
   "execution_count": 19,
   "id": "1dd1fc5b",
   "metadata": {},
   "outputs": [
    {
     "data": {
      "text/plain": [
       "[('Phosphate', 'NNP'),\n",
       " ('is', 'VBZ'),\n",
       " ('transferred', 'VBN'),\n",
       " ('from', 'IN'),\n",
       " ('ATP', 'NNP'),\n",
       " ('to', 'TO'),\n",
       " ('Glucose', 'VB')]"
      ]
     },
     "execution_count": 19,
     "metadata": {},
     "output_type": "execute_result"
    }
   ],
   "source": [
    "text = word_tokenize(\"Phosphate is transferred from ATP to Glucose\")\n",
    "nltk.pos_tag(text)"
   ]
  },
  {
   "cell_type": "code",
   "execution_count": 22,
   "id": "e62d90e1",
   "metadata": {},
   "outputs": [],
   "source": [
    "from nltk import pos_tag\n",
    "# Tokenize the text into sentences and words\n",
    "sentences = sent_tokenize(\"Phosphate is transferred from ATP to Glucose\")\n",
    "words = [word_tokenize(sent) for sent in sentences]\n",
    "\n",
    "# Tag the words with part-of-speech\n",
    "tagged_words = [pos_tag(sent) for sent in words]"
   ]
  },
  {
   "cell_type": "code",
   "execution_count": 27,
   "id": "20e60d68",
   "metadata": {},
   "outputs": [],
   "source": [
    "nouns = [word for sentence in tagged_words for (word, tag) in sentence if tag.startswith('NNP')]\n",
    "verbs = [word for sentence in tagged_words for (word, tag) in sentence if tag.startswith('VBN')]"
   ]
  },
  {
   "cell_type": "code",
   "execution_count": 28,
   "id": "263a0098",
   "metadata": {},
   "outputs": [
    {
     "data": {
      "text/plain": [
       "['Phosphate', 'ATP']"
      ]
     },
     "execution_count": 28,
     "metadata": {},
     "output_type": "execute_result"
    }
   ],
   "source": [
    "nouns"
   ]
  },
  {
   "cell_type": "code",
   "execution_count": 29,
   "id": "6b5c636f",
   "metadata": {},
   "outputs": [
    {
     "data": {
      "text/plain": [
       "['transferred']"
      ]
     },
     "execution_count": 29,
     "metadata": {},
     "output_type": "execute_result"
    }
   ],
   "source": [
    "verbs"
   ]
  },
  {
   "cell_type": "code",
   "execution_count": null,
   "id": "0c27113f",
   "metadata": {},
   "outputs": [],
   "source": []
  }
 ],
 "metadata": {
  "kernelspec": {
   "display_name": "Python 3 (ipykernel)",
   "language": "python",
   "name": "python3"
  },
  "language_info": {
   "codemirror_mode": {
    "name": "ipython",
    "version": 3
   },
   "file_extension": ".py",
   "mimetype": "text/x-python",
   "name": "python",
   "nbconvert_exporter": "python",
   "pygments_lexer": "ipython3",
   "version": "3.9.7"
  }
 },
 "nbformat": 4,
 "nbformat_minor": 5
}
