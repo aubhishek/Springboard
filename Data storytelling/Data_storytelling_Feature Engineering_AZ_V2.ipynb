{
 "cells": [
  {
   "cell_type": "markdown",
   "metadata": {
    "id": "Jm610Jk_tkL4"
   },
   "source": [
    "**Note**: This notebook has been adapted from the one [here](https://github.com/Featuretools/predict-customer-churn/blob/master/churn/3.%20Feature%20Engineering.ipynb) to remove any dependencies on AWS and S3 so as to just focus on the featuretools functionality without requireming you to make an AWS account and set up the `aws` cli. You should check out the full repo for some other cool notebooks and examples using Spark and Dask."
   ]
  },
  {
   "cell_type": "markdown",
   "metadata": {
    "id": "_lCM2rhNtkL6"
   },
   "source": [
    "<a href=\"https://colab.research.google.com/github/springboard-curriculum/featuretools/blob/master/Feature%20Engineering.ipynb\" target=\"_blank\"><img src=\"https://colab.research.google.com/assets/colab-badge.svg\" alt=\"Open In Colab\"/></a>"
   ]
  },
  {
   "cell_type": "code",
   "execution_count": 1,
   "metadata": {
    "colab": {
     "base_uri": "https://localhost:8080/"
    },
    "executionInfo": {
     "elapsed": 1184253,
     "status": "ok",
     "timestamp": 1680888931200,
     "user": {
      "displayName": "Aubhishek Zaman",
      "userId": "15254556533391548233"
     },
     "user_tz": 420
    },
    "id": "WYsOblddtkL6",
    "outputId": "821df4c1-b551-4348-d6c0-7c89b63ef7ea"
   },
   "outputs": [
    {
     "name": "stdout",
     "output_type": "stream",
     "text": [
      "Collecting pandas==1.1.1\n",
      "  Downloading pandas-1.1.1.tar.gz (5.2 MB)\n",
      "     ---------------------------------------- 5.2/5.2 MB 3.3 MB/s eta 0:00:00\n",
      "  Installing build dependencies: started\n",
      "  Installing build dependencies: finished with status 'error'\n"
     ]
    },
    {
     "name": "stderr",
     "output_type": "stream",
     "text": [
      "WARNING: Ignoring invalid distribution -illow (c:\\users\\aubhi\\anaconda3\\lib\\site-packages)\n",
      "  error: subprocess-exited-with-error\n",
      "  \n",
      "  pip subprocess to install build dependencies did not run successfully.\n",
      "  exit code: 1\n",
      "  \n",
      "  [324 lines of output]\n",
      "  Ignoring numpy: markers 'python_version == \"3.6\" and platform_system != \"AIX\"' don't match your environment\n",
      "  Ignoring numpy: markers 'python_version == \"3.7\" and platform_system != \"AIX\"' don't match your environment\n",
      "  Ignoring numpy: markers 'python_version == \"3.6\" and platform_system == \"AIX\"' don't match your environment\n",
      "  Ignoring numpy: markers 'python_version == \"3.7\" and platform_system == \"AIX\"' don't match your environment\n",
      "  Ignoring numpy: markers 'python_version >= \"3.8\" and platform_system == \"AIX\"' don't match your environment\n",
      "  Collecting setuptools\n",
      "    Using cached setuptools-68.0.0-py3-none-any.whl (804 kB)\n",
      "  Collecting wheel\n",
      "    Using cached wheel-0.40.0-py3-none-any.whl (64 kB)\n",
      "  Collecting Cython<3,>=0.29.16\n",
      "    Downloading Cython-0.29.36-py2.py3-none-any.whl (988 kB)\n",
      "       -------------------------------------- 988.3/988.3 kB 7.8 MB/s eta 0:00:00\n",
      "  Collecting numpy==1.17.3\n",
      "    Downloading numpy-1.17.3.zip (6.4 MB)\n",
      "       ---------------------------------------- 6.4/6.4 MB 14.0 MB/s eta 0:00:00\n",
      "    Preparing metadata (setup.py): started\n",
      "    Preparing metadata (setup.py): finished with status 'done'\n",
      "  Building wheels for collected packages: numpy\n",
      "    Building wheel for numpy (setup.py): started\n",
      "    Building wheel for numpy (setup.py): finished with status 'error'\n",
      "    error: subprocess-exited-with-error\n",
      "  \n",
      "    python setup.py bdist_wheel did not run successfully.\n",
      "    exit code: 1\n",
      "  \n",
      "    [268 lines of output]\n",
      "    Running from numpy source directory.\n",
      "    blas_opt_info:\n",
      "    blas_mkl_info:\n",
      "    No module named 'numpy.distutils._msvccompiler' in numpy.distutils; trying from distutils\n",
      "    customize MSVCCompiler\n",
      "      libraries mkl_rt not found in ['C:\\\\Users\\\\aubhi\\\\anaconda3\\\\lib', 'C:\\\\', 'C:\\\\Users\\\\aubhi\\\\anaconda3\\\\libs']\n",
      "      NOT AVAILABLE\n",
      "  \n",
      "    blis_info:\n",
      "    No module named 'numpy.distutils._msvccompiler' in numpy.distutils; trying from distutils\n",
      "    customize MSVCCompiler\n",
      "      libraries blis not found in ['C:\\\\Users\\\\aubhi\\\\anaconda3\\\\lib', 'C:\\\\', 'C:\\\\Users\\\\aubhi\\\\anaconda3\\\\libs']\n",
      "      NOT AVAILABLE\n",
      "  \n",
      "    openblas_info:\n",
      "    No module named 'numpy.distutils._msvccompiler' in numpy.distutils; trying from distutils\n",
      "    customize MSVCCompiler\n",
      "    No module named 'numpy.distutils._msvccompiler' in numpy.distutils; trying from distutils\n",
      "    customize MSVCCompiler\n",
      "      libraries openblas not found in ['C:\\\\Users\\\\aubhi\\\\anaconda3\\\\lib', 'C:\\\\', 'C:\\\\Users\\\\aubhi\\\\anaconda3\\\\libs']\n",
      "    get_default_fcompiler: matching types: '['gnu', 'intelv', 'absoft', 'compaqv', 'intelev', 'gnu95', 'g95', 'intelvem', 'intelem', 'flang']'\n",
      "    customize GnuFCompiler\n",
      "    Could not locate executable g77\n",
      "    Could not locate executable f77\n",
      "    customize IntelVisualFCompiler\n",
      "    Could not locate executable ifort\n",
      "    Could not locate executable ifl\n",
      "    customize AbsoftFCompiler\n",
      "    Could not locate executable f90\n",
      "    customize CompaqVisualFCompiler\n",
      "    Could not locate executable DF\n",
      "    customize IntelItaniumVisualFCompiler\n",
      "    Could not locate executable efl\n",
      "    customize Gnu95FCompiler\n",
      "    Could not locate executable gfortran\n",
      "    Could not locate executable f95\n",
      "    customize G95FCompiler\n",
      "    Could not locate executable g95\n",
      "    customize IntelEM64VisualFCompiler\n",
      "    customize IntelEM64TFCompiler\n",
      "    Could not locate executable efort\n",
      "    Could not locate executable efc\n",
      "    customize PGroupFlangCompiler\n",
      "    Could not locate executable flang\n",
      "    don't know how to compile Fortran code on platform 'nt'\n",
      "      NOT AVAILABLE\n",
      "  \n",
      "    atlas_3_10_blas_threads_info:\n",
      "    Setting PTATLAS=ATLAS\n",
      "    No module named 'numpy.distutils._msvccompiler' in numpy.distutils; trying from distutils\n",
      "    customize MSVCCompiler\n",
      "      libraries tatlas not found in ['C:\\\\Users\\\\aubhi\\\\anaconda3\\\\lib', 'C:\\\\', 'C:\\\\Users\\\\aubhi\\\\anaconda3\\\\libs']\n",
      "      NOT AVAILABLE\n",
      "  \n",
      "    atlas_3_10_blas_info:\n",
      "    No module named 'numpy.distutils._msvccompiler' in numpy.distutils; trying from distutils\n",
      "    customize MSVCCompiler\n",
      "      libraries satlas not found in ['C:\\\\Users\\\\aubhi\\\\anaconda3\\\\lib', 'C:\\\\', 'C:\\\\Users\\\\aubhi\\\\anaconda3\\\\libs']\n",
      "      NOT AVAILABLE\n",
      "  \n",
      "    atlas_blas_threads_info:\n",
      "    Setting PTATLAS=ATLAS\n",
      "    No module named 'numpy.distutils._msvccompiler' in numpy.distutils; trying from distutils\n",
      "    customize MSVCCompiler\n",
      "      libraries ptf77blas,ptcblas,atlas not found in ['C:\\\\Users\\\\aubhi\\\\anaconda3\\\\lib', 'C:\\\\', 'C:\\\\Users\\\\aubhi\\\\anaconda3\\\\libs']\n",
      "      NOT AVAILABLE\n",
      "  \n",
      "    atlas_blas_info:\n",
      "    No module named 'numpy.distutils._msvccompiler' in numpy.distutils; trying from distutils\n",
      "    customize MSVCCompiler\n",
      "      libraries f77blas,cblas,atlas not found in ['C:\\\\Users\\\\aubhi\\\\anaconda3\\\\lib', 'C:\\\\', 'C:\\\\Users\\\\aubhi\\\\anaconda3\\\\libs']\n",
      "      NOT AVAILABLE\n",
      "  \n",
      "    accelerate_info:\n",
      "      NOT AVAILABLE\n",
      "  \n",
      "    C:\\Users\\aubhi\\AppData\\Local\\Temp\\pip-install-zl0da9cf\\numpy_e1e7f1d7b74c47e8a3b7d26e847dc585\\numpy\\distutils\\system_info.py:690: UserWarning:\n",
      "        Optimized (vendor) Blas libraries are not found.\n",
      "        Falls back to netlib Blas library which has worse performance.\n",
      "        A better performance should be easily gained by switching\n",
      "        Blas library.\n",
      "      self.calc_info()\n",
      "    blas_info:\n",
      "    No module named 'numpy.distutils._msvccompiler' in numpy.distutils; trying from distutils\n",
      "    customize MSVCCompiler\n",
      "      libraries blas not found in ['C:\\\\Users\\\\aubhi\\\\anaconda3\\\\lib', 'C:\\\\', 'C:\\\\Users\\\\aubhi\\\\anaconda3\\\\libs']\n",
      "      NOT AVAILABLE\n",
      "  \n",
      "    C:\\Users\\aubhi\\AppData\\Local\\Temp\\pip-install-zl0da9cf\\numpy_e1e7f1d7b74c47e8a3b7d26e847dc585\\numpy\\distutils\\system_info.py:690: UserWarning:\n",
      "        Blas (http://www.netlib.org/blas/) libraries not found.\n",
      "        Directories to search for the libraries can be specified in the\n",
      "        numpy/distutils/site.cfg file (section [blas]) or by setting\n",
      "        the BLAS environment variable.\n",
      "      self.calc_info()\n",
      "    blas_src_info:\n",
      "      NOT AVAILABLE\n",
      "  \n",
      "    C:\\Users\\aubhi\\AppData\\Local\\Temp\\pip-install-zl0da9cf\\numpy_e1e7f1d7b74c47e8a3b7d26e847dc585\\numpy\\distutils\\system_info.py:690: UserWarning:\n",
      "        Blas (http://www.netlib.org/blas/) sources not found.\n",
      "        Directories to search for the sources can be specified in the\n",
      "        numpy/distutils/site.cfg file (section [blas_src]) or by setting\n",
      "        the BLAS_SRC environment variable.\n",
      "      self.calc_info()\n",
      "      NOT AVAILABLE\n",
      "  \n",
      "    'svnversion' is not recognized as an internal or external command,\n",
      "    operable program or batch file.\n",
      "    non-existing path in 'numpy\\\\distutils': 'site.cfg'\n",
      "    lapack_opt_info:\n",
      "    lapack_mkl_info:\n",
      "    No module named 'numpy.distutils._msvccompiler' in numpy.distutils; trying from distutils\n",
      "    customize MSVCCompiler\n",
      "      libraries mkl_rt not found in ['C:\\\\Users\\\\aubhi\\\\anaconda3\\\\lib', 'C:\\\\', 'C:\\\\Users\\\\aubhi\\\\anaconda3\\\\libs']\n",
      "      NOT AVAILABLE\n",
      "  \n",
      "    openblas_lapack_info:\n",
      "    No module named 'numpy.distutils._msvccompiler' in numpy.distutils; trying from distutils\n",
      "    customize MSVCCompiler\n",
      "    No module named 'numpy.distutils._msvccompiler' in numpy.distutils; trying from distutils\n",
      "    customize MSVCCompiler\n",
      "      libraries openblas not found in ['C:\\\\Users\\\\aubhi\\\\anaconda3\\\\lib', 'C:\\\\', 'C:\\\\Users\\\\aubhi\\\\anaconda3\\\\libs']\n",
      "      NOT AVAILABLE\n",
      "  \n",
      "    openblas_clapack_info:\n",
      "    No module named 'numpy.distutils._msvccompiler' in numpy.distutils; trying from distutils\n",
      "    customize MSVCCompiler\n",
      "    No module named 'numpy.distutils._msvccompiler' in numpy.distutils; trying from distutils\n",
      "    customize MSVCCompiler\n",
      "      libraries openblas,lapack not found in ['C:\\\\Users\\\\aubhi\\\\anaconda3\\\\lib', 'C:\\\\', 'C:\\\\Users\\\\aubhi\\\\anaconda3\\\\libs']\n",
      "      NOT AVAILABLE\n",
      "  \n",
      "    flame_info:\n",
      "    No module named 'numpy.distutils._msvccompiler' in numpy.distutils; trying from distutils\n",
      "    customize MSVCCompiler\n",
      "      libraries flame not found in ['C:\\\\Users\\\\aubhi\\\\anaconda3\\\\lib', 'C:\\\\', 'C:\\\\Users\\\\aubhi\\\\anaconda3\\\\libs']\n",
      "      NOT AVAILABLE\n",
      "  \n",
      "    atlas_3_10_threads_info:\n",
      "    Setting PTATLAS=ATLAS\n",
      "    No module named 'numpy.distutils._msvccompiler' in numpy.distutils; trying from distutils\n",
      "    customize MSVCCompiler\n",
      "      libraries lapack_atlas not found in C:\\Users\\aubhi\\anaconda3\\lib\n",
      "    No module named 'numpy.distutils._msvccompiler' in numpy.distutils; trying from distutils\n",
      "    customize MSVCCompiler\n",
      "      libraries tatlas,tatlas not found in C:\\Users\\aubhi\\anaconda3\\lib\n",
      "    No module named 'numpy.distutils._msvccompiler' in numpy.distutils; trying from distutils\n",
      "    customize MSVCCompiler\n",
      "      libraries lapack_atlas not found in C:\\\n",
      "    No module named 'numpy.distutils._msvccompiler' in numpy.distutils; trying from distutils\n",
      "    customize MSVCCompiler\n",
      "      libraries tatlas,tatlas not found in C:\\\n",
      "    No module named 'numpy.distutils._msvccompiler' in numpy.distutils; trying from distutils\n",
      "    customize MSVCCompiler\n",
      "      libraries lapack_atlas not found in C:\\Users\\aubhi\\anaconda3\\libs\n",
      "    No module named 'numpy.distutils._msvccompiler' in numpy.distutils; trying from distutils\n",
      "    customize MSVCCompiler\n",
      "      libraries tatlas,tatlas not found in C:\\Users\\aubhi\\anaconda3\\libs\n",
      "    <class 'numpy.distutils.system_info.atlas_3_10_threads_info'>\n",
      "      NOT AVAILABLE\n",
      "  \n",
      "    atlas_3_10_info:\n",
      "    No module named 'numpy.distutils._msvccompiler' in numpy.distutils; trying from distutils\n",
      "    customize MSVCCompiler\n",
      "      libraries lapack_atlas not found in C:\\Users\\aubhi\\anaconda3\\lib\n",
      "    No module named 'numpy.distutils._msvccompiler' in numpy.distutils; trying from distutils\n",
      "    customize MSVCCompiler\n",
      "      libraries satlas,satlas not found in C:\\Users\\aubhi\\anaconda3\\lib\n",
      "    No module named 'numpy.distutils._msvccompiler' in numpy.distutils; trying from distutils\n",
      "    customize MSVCCompiler\n",
      "      libraries lapack_atlas not found in C:\\\n",
      "    No module named 'numpy.distutils._msvccompiler' in numpy.distutils; trying from distutils\n",
      "    customize MSVCCompiler\n",
      "      libraries satlas,satlas not found in C:\\\n",
      "    No module named 'numpy.distutils._msvccompiler' in numpy.distutils; trying from distutils\n",
      "    customize MSVCCompiler\n",
      "      libraries lapack_atlas not found in C:\\Users\\aubhi\\anaconda3\\libs\n",
      "    No module named 'numpy.distutils._msvccompiler' in numpy.distutils; trying from distutils\n",
      "    customize MSVCCompiler\n",
      "      libraries satlas,satlas not found in C:\\Users\\aubhi\\anaconda3\\libs\n",
      "    <class 'numpy.distutils.system_info.atlas_3_10_info'>\n",
      "      NOT AVAILABLE\n",
      "  \n",
      "    atlas_threads_info:\n",
      "    Setting PTATLAS=ATLAS\n",
      "    No module named 'numpy.distutils._msvccompiler' in numpy.distutils; trying from distutils\n",
      "    customize MSVCCompiler\n",
      "      libraries lapack_atlas not found in C:\\Users\\aubhi\\anaconda3\\lib\n",
      "    No module named 'numpy.distutils._msvccompiler' in numpy.distutils; trying from distutils\n",
      "    customize MSVCCompiler\n",
      "      libraries ptf77blas,ptcblas,atlas not found in C:\\Users\\aubhi\\anaconda3\\lib\n",
      "    No module named 'numpy.distutils._msvccompiler' in numpy.distutils; trying from distutils\n",
      "    customize MSVCCompiler\n",
      "      libraries lapack_atlas not found in C:\\\n",
      "    No module named 'numpy.distutils._msvccompiler' in numpy.distutils; trying from distutils\n",
      "    customize MSVCCompiler\n",
      "      libraries ptf77blas,ptcblas,atlas not found in C:\\\n",
      "    No module named 'numpy.distutils._msvccompiler' in numpy.distutils; trying from distutils\n",
      "    customize MSVCCompiler\n",
      "      libraries lapack_atlas not found in C:\\Users\\aubhi\\anaconda3\\libs\n",
      "    No module named 'numpy.distutils._msvccompiler' in numpy.distutils; trying from distutils\n",
      "    customize MSVCCompiler\n",
      "      libraries ptf77blas,ptcblas,atlas not found in C:\\Users\\aubhi\\anaconda3\\libs\n",
      "    <class 'numpy.distutils.system_info.atlas_threads_info'>\n",
      "      NOT AVAILABLE\n",
      "  \n",
      "    atlas_info:\n",
      "    No module named 'numpy.distutils._msvccompiler' in numpy.distutils; trying from distutils\n",
      "    customize MSVCCompiler\n",
      "      libraries lapack_atlas not found in C:\\Users\\aubhi\\anaconda3\\lib\n",
      "    No module named 'numpy.distutils._msvccompiler' in numpy.distutils; trying from distutils\n",
      "    customize MSVCCompiler\n",
      "      libraries f77blas,cblas,atlas not found in C:\\Users\\aubhi\\anaconda3\\lib\n",
      "    No module named 'numpy.distutils._msvccompiler' in numpy.distutils; trying from distutils\n",
      "    customize MSVCCompiler\n",
      "      libraries lapack_atlas not found in C:\\\n",
      "    No module named 'numpy.distutils._msvccompiler' in numpy.distutils; trying from distutils\n",
      "    customize MSVCCompiler\n",
      "      libraries f77blas,cblas,atlas not found in C:\\\n",
      "    No module named 'numpy.distutils._msvccompiler' in numpy.distutils; trying from distutils\n",
      "    customize MSVCCompiler\n",
      "      libraries lapack_atlas not found in C:\\Users\\aubhi\\anaconda3\\libs\n",
      "    No module named 'numpy.distutils._msvccompiler' in numpy.distutils; trying from distutils\n",
      "    customize MSVCCompiler\n",
      "      libraries f77blas,cblas,atlas not found in C:\\Users\\aubhi\\anaconda3\\libs\n",
      "    <class 'numpy.distutils.system_info.atlas_info'>\n",
      "      NOT AVAILABLE\n",
      "  \n",
      "    lapack_info:\n",
      "    No module named 'numpy.distutils._msvccompiler' in numpy.distutils; trying from distutils\n",
      "    customize MSVCCompiler\n",
      "      libraries lapack not found in ['C:\\\\Users\\\\aubhi\\\\anaconda3\\\\lib', 'C:\\\\', 'C:\\\\Users\\\\aubhi\\\\anaconda3\\\\libs']\n",
      "      NOT AVAILABLE\n",
      "  \n",
      "    C:\\Users\\aubhi\\AppData\\Local\\Temp\\pip-install-zl0da9cf\\numpy_e1e7f1d7b74c47e8a3b7d26e847dc585\\numpy\\distutils\\system_info.py:1712: UserWarning:\n",
      "        Lapack (http://www.netlib.org/lapack/) libraries not found.\n",
      "        Directories to search for the libraries can be specified in the\n",
      "        numpy/distutils/site.cfg file (section [lapack]) or by setting\n",
      "        the LAPACK environment variable.\n",
      "      if getattr(self, '_calc_info_{}'.format(lapack))():\n",
      "    lapack_src_info:\n",
      "      NOT AVAILABLE\n",
      "  \n",
      "    C:\\Users\\aubhi\\AppData\\Local\\Temp\\pip-install-zl0da9cf\\numpy_e1e7f1d7b74c47e8a3b7d26e847dc585\\numpy\\distutils\\system_info.py:1712: UserWarning:\n",
      "        Lapack (http://www.netlib.org/lapack/) sources not found.\n",
      "        Directories to search for the sources can be specified in the\n",
      "        numpy/distutils/site.cfg file (section [lapack_src]) or by setting\n",
      "        the LAPACK_SRC environment variable.\n",
      "      if getattr(self, '_calc_info_{}'.format(lapack))():\n",
      "      NOT AVAILABLE\n",
      "  \n",
      "    C:\\Users\\aubhi\\anaconda3\\lib\\distutils\\dist.py:274: UserWarning: Unknown distribution option: 'define_macros'\n",
      "      warnings.warn(msg)\n",
      "    running bdist_wheel\n",
      "    running build\n",
      "    running config_cc\n",
      "    unifing config_cc, config, build_clib, build_ext, build commands --compiler options\n",
      "    running config_fc\n",
      "    unifing config_fc, config, build_clib, build_ext, build commands --fcompiler options\n",
      "    running build_src\n",
      "    build_src\n",
      "    building py_modules sources\n",
      "    creating build\n",
      "    creating build\\src.win-amd64-3.9\n",
      "    creating build\\src.win-amd64-3.9\\numpy\n",
      "    creating build\\src.win-amd64-3.9\\numpy\\distutils\n",
      "    building library \"npymath\" sources\n",
      "    No module named 'numpy.distutils._msvccompiler' in numpy.distutils; trying from distutils\n",
      "    error: Microsoft Visual C++ 14.0 or greater is required. Get it with \"Microsoft C++ Build Tools\": https://visualstudio.microsoft.com/visual-cpp-build-tools/\n",
      "    [end of output]\n",
      "  \n",
      "    note: This error originates from a subprocess, and is likely not a problem with pip.\n",
      "    ERROR: Failed building wheel for numpy\n",
      "    Running setup.py clean for numpy\n",
      "    error: subprocess-exited-with-error\n",
      "  \n",
      "    python setup.py clean did not run successfully.\n",
      "    exit code: 1\n",
      "  \n",
      "    [10 lines of output]\n",
      "    Running from numpy source directory.\n",
      "  \n",
      "    `setup.py clean` is not supported, use one of the following instead:\n",
      "  \n",
      "      - `git clean -xdf` (cleans all files)\n",
      "      - `git clean -Xdf` (cleans all versioned files, doesn't touch\n",
      "                          files that aren't checked into the git repo)\n",
      "  \n",
      "    Add `--force` to your command to use it anyway if you must (unsupported).\n",
      "  \n",
      "    [end of output]\n",
      "  \n",
      "    note: This error originates from a subprocess, and is likely not a problem with pip.\n",
      "    ERROR: Failed cleaning build dir for numpy\n",
      "  Failed to build numpy\n",
      "  ERROR: Could not build wheels for numpy, which is required to install pyproject.toml-based projects\n",
      "  \n",
      "  [notice] A new release of pip is available: 23.1.2 -> 23.2\n",
      "  [notice] To update, run: python.exe -m pip install --upgrade pip\n",
      "  [end of output]\n",
      "  \n",
      "  note: This error originates from a subprocess, and is likely not a problem with pip.\n",
      "error: subprocess-exited-with-error\n",
      "\n",
      "pip subprocess to install build dependencies did not run successfully.\n",
      "exit code: 1\n",
      "\n",
      "See above for output.\n",
      "\n",
      "note: This error originates from a subprocess, and is likely not a problem with pip.\n"
     ]
    },
    {
     "name": "stderr",
     "output_type": "stream",
     "text": [
      "\n",
      "[notice] A new release of pip is available: 23.1.2 -> 23.2\n",
      "[notice] To update, run: python.exe -m pip install --upgrade pip\n"
     ]
    }
   ],
   "source": [
    "# uncomment and run below to install required libraries if need to\n",
    "!pip install pandas==1.1.1 featuretools==0.4.0 dask==0.19.4 distributed==1.23.3 tornado==5.0.0"
   ]
  },
  {
   "cell_type": "markdown",
   "metadata": {
    "id": "u21vhYwDtkL7"
   },
   "source": [
    "# Introduction: Automated Feature Engineering with Featuretools\n",
    "\n",
    "__Problem:__ we have a set of cutoff times and labels - in a label times table - and we need to build relevant features for each label using only data from before the cutoff time. Here, we are using automated feature engineering as implemented in Featuretools to build hundreds or thousands of relevant features from a relational dataset with a reusable framework that also automatically filters the data based on the cutoff times. This approachs overcomes the limitations of manual feature engineering, letting us buidl better predictive models in a fraction of the time. \n",
    "\n",
    "The general process of feature engineering is shown below:\n",
    "\n",
    "![](https://github.com/springboard-curriculum/featuretools/blob/master/images/feature_engineering_process.png?raw=1)\n",
    "\n",
    "Currently, the only option for automated feature engineering using multiple related tables is [Featuretools](https://github.com/Featuretools/featuretools), an open-source Python library. \n",
    "\n",
    "![](https://github.com/springboard-curriculum/featuretools/blob/master/images/featuretools-logo.png?raw=1)\n",
    "\n",
    "In this notebook, we'll work with Featuretools to develop an automated feature engineering workflow for the customer churn dataset. The end outcome is a function that takes in a dataset and label times for customers and builds a feature matrix that can be used to train a machine learning model. Because we already partitioned the data into independent subsets (in `Partitioning Data`) we'll be able to apply this function to all of the partitions in parallel using Spark with PySpark.\n",
    "\n",
    "## Featuretools Resources\n",
    "\n",
    "We won't spend too much time on the basics of Featuretools here, so refer to the following sources for more information:\n",
    "\n",
    "* [Featuretools Documentation](https://docs.featuretools.com/)\n",
    "* [Featuretools GitHub](https://github.com/Featuretools/featuretools)\n",
    "* [Introductory tutorial on Featuretools](https://towardsdatascience.com/automated-feature-engineering-in-python-99baf11cc219)\n",
    "* [Why Automated Feature Engineering Will Change Machine Learning](https://towardsdatascience.com/why-automated-feature-engineering-will-change-the-way-you-do-machine-learning-5c15bf188b96)\n",
    "\n",
    "The basics are relatively easy to pick up, and if you're new, you can probably follow along with all the code here! Learning Featuretools requires only a few minutes and it can be applied to any relational dataset.\n",
    "\n",
    "\n",
    "With that in mind, let's get started."
   ]
  },
  {
   "cell_type": "code",
   "execution_count": 3,
   "metadata": {},
   "outputs": [
    {
     "name": "stdout",
     "output_type": "stream",
     "text": [
      "Collecting environment_kernels\n",
      "  Downloading environment_kernels-1.2.0-py3-none-any.whl (31 kB)\n",
      "Installing collected packages: environment_kernels\n",
      "Successfully installed environment_kernels-1.2.0\n"
     ]
    },
    {
     "name": "stderr",
     "output_type": "stream",
     "text": [
      "WARNING: Ignoring invalid distribution -illow (c:\\users\\aubhi\\anaconda3\\lib\\site-packages)\n",
      "WARNING: Ignoring invalid distribution -illow (c:\\users\\aubhi\\anaconda3\\lib\\site-packages)\n",
      "\n",
      "[notice] A new release of pip is available: 23.1.2 -> 23.2\n",
      "[notice] To update, run: python.exe -m pip install --upgrade pip\n"
     ]
    }
   ],
   "source": [
    "!pip install environment_kernels"
   ]
  },
  {
   "cell_type": "code",
   "execution_count": 5,
   "metadata": {},
   "outputs": [
    {
     "name": "stdout",
     "output_type": "stream",
     "text": [
      "Retrieving notices: ...working... done\n",
      "Note: you may need to restart the kernel to use updated packages.\n",
      "\n"
     ]
    },
    {
     "name": "stderr",
     "output_type": "stream",
     "text": [
      "C:\\Users\\aubhi\\anaconda3\\lib\\site-packages\\urllib3\\connectionpool.py:1013: InsecureRequestWarning: Unverified HTTPS request is being made to host 'conda.anaconda.org'. Adding certificate verification is strongly advised. See: https://urllib3.readthedocs.io/en/1.26.x/advanced-usage.html#ssl-warnings\n",
      "  warnings.warn(\n",
      "C:\\Users\\aubhi\\anaconda3\\lib\\site-packages\\urllib3\\connectionpool.py:1013: InsecureRequestWarning: Unverified HTTPS request is being made to host 'repo.anaconda.com'. Adding certificate verification is strongly advised. See: https://urllib3.readthedocs.io/en/1.26.x/advanced-usage.html#ssl-warnings\n",
      "  warnings.warn(\n",
      "C:\\Users\\aubhi\\anaconda3\\lib\\site-packages\\urllib3\\connectionpool.py:1013: InsecureRequestWarning: Unverified HTTPS request is being made to host 'repo.anaconda.com'. Adding certificate verification is strongly advised. See: https://urllib3.readthedocs.io/en/1.26.x/advanced-usage.html#ssl-warnings\n",
      "  warnings.warn(\n",
      "C:\\Users\\aubhi\\anaconda3\\lib\\site-packages\\urllib3\\connectionpool.py:1013: InsecureRequestWarning: Unverified HTTPS request is being made to host 'repo.anaconda.com'. Adding certificate verification is strongly advised. See: https://urllib3.readthedocs.io/en/1.26.x/advanced-usage.html#ssl-warnings\n",
      "  warnings.warn(\n",
      "C:\\Users\\aubhi\\anaconda3\\lib\\site-packages\\urllib3\\connectionpool.py:1013: InsecureRequestWarning: Unverified HTTPS request is being made to host 'conda.anaconda.org'. Adding certificate verification is strongly advised. See: https://urllib3.readthedocs.io/en/1.26.x/advanced-usage.html#ssl-warnings\n",
      "  warnings.warn(\n",
      "\n",
      "The environment is inconsistent, please check the package plan carefully\n",
      "The following packages are causing the inconsistency:\n",
      "\n",
      "  - defaults/win-64::anaconda==custom=py39_1\n",
      "  - defaults/win-64::anaconda-navigator==2.4.1=py39haa95532_0\n",
      "  - defaults/win-64::astropy==4.3.1=py39hc7d831d_0\n",
      "  - defaults/win-64::bcrypt==3.2.0=py39h196d8e1_0\n",
      "  - defaults/win-64::bkcharts==0.2=py39haa95532_0\n",
      "  - defaults/win-64::bokeh==2.4.1=py39haa95532_0\n",
      "  - defaults/win-64::bottleneck==1.3.2=py39h7cc1a96_1\n",
      "  - defaults/win-64::daal4py==2021.3.0=py39h757b272_0\n",
      "  - defaults/noarch::dask==2021.10.0=pyhd3eb1b0_0\n",
      "  - defaults/win-64::h5py==3.2.1=py39h3de5c98_0\n",
      "  - defaults/win-64::imagecodecs==2021.8.26=py39ha1f97ea_0\n",
      "  - defaults/noarch::imageio==2.9.0=pyhd3eb1b0_0\n",
      "  - defaults/win-64::lightgbm==3.3.5=py39hd77b12b_0\n",
      "  - defaults/win-64::matplotlib==3.4.3=py39haa95532_0\n",
      "  - defaults/win-64::matplotlib-base==3.4.3=py39h49ac443_0\n",
      "  - defaults/win-64::mkl_fft==1.3.1=py39h277e83a_0\n",
      "  - defaults/win-64::mkl_random==1.2.2=py39hf11a4ad_0\n",
      "  - defaults/win-64::numba==0.54.1=py39hf11a4ad_0\n",
      "  - defaults/win-64::numexpr==2.7.3=py39hb80d3ca_1\n",
      "  - defaults/win-64::numpy==1.20.3=py39ha4e8547_0\n",
      "  - defaults/win-64::pandas==1.3.4=py39h6214cd6_0\n",
      "  - defaults/noarch::paramiko==2.7.2=py_0\n",
      "  - defaults/win-64::patsy==0.5.2=py39haa95532_0\n",
      "  - defaults/win-64::pyerfa==2.0.0=py39h2bbff1b_0\n",
      "  - defaults/win-64::pytables==3.6.1=py39h56d22b6_1\n",
      "  - defaults/win-64::pywavelets==1.1.1=py39h080aedc_4\n",
      "  - defaults/win-64::scikit-image==0.18.3=py39hf11a4ad_0\n",
      "  - defaults/win-64::scikit-learn==0.24.2=py39hf11a4ad_1\n",
      "  - defaults/win-64::scikit-learn-intelex==2021.3.0=py39haa95532_0\n",
      "  - defaults/win-64::scipy==1.7.1=py39hbe87c03_2\n",
      "  - defaults/noarch::seaborn==0.11.2=pyhd3eb1b0_0\n"
     ]
    },
    {
     "name": "stdout",
     "output_type": "stream",
     "text": [
      "Collecting package metadata (current_repodata.json): ...working... done\n",
      "Solving environment: ...working... unsuccessful initial attempt using frozen solve. Retrying with flexible solve.\n",
      "Collecting package metadata (repodata.json): ...working... done\n",
      "Solving environment: ...working... done\n",
      "\n",
      "## Package Plan ##\n",
      "\n",
      "  environment location: C:\\Users\\aubhi\\anaconda3\n",
      "\n",
      "  added / updated specs:\n",
      "    - featuretools==0.27.0\n",
      "\n",
      "\n",
      "The following packages will be downloaded:\n",
      "\n",
      "    package                    |            build\n",
      "    ---------------------------|-----------------\n",
      "    ca-certificates-2023.5.7   |       h56e8100_0         145 KB  conda-forge\n",
      "    certifi-2023.5.7           |     pyhd8ed1ab_0         149 KB  conda-forge\n",
      "    conda-23.5.2               |   py39hcbf5309_0        1000 KB  conda-forge\n",
      "    featuretools-0.27.0        |     pyhd8ed1ab_0         299 KB  conda-forge\n",
      "    openssl-1.1.1q             |       h8ffe710_0         5.8 MB  conda-forge\n",
      "    pillow-8.2.0               |   py39h1a9d4f7_1         784 KB  conda-forge\n",
      "    pip-23.2                   |     pyhd8ed1ab_0         1.3 MB  conda-forge\n",
      "    ------------------------------------------------------------\n",
      "                                           Total:         9.4 MB\n",
      "\n",
      "The following NEW packages will be INSTALLED:\n",
      "\n",
      "  featuretools       conda-forge/noarch::featuretools-0.27.0-pyhd8ed1ab_0 \n",
      "  numpy-base         pkgs/main/win-64::numpy-base-1.20.3-py39hc2deb75_0 \n",
      "  pillow             conda-forge/win-64::pillow-8.2.0-py39h1a9d4f7_1 \n",
      "  pip                conda-forge/noarch::pip-23.2-pyhd8ed1ab_0 \n",
      "\n",
      "The following packages will be UPDATED:\n",
      "\n",
      "  conda              pkgs/main::conda-23.5.0-py39haa95532_0 --> conda-forge::conda-23.5.2-py39hcbf5309_0 \n",
      "\n",
      "The following packages will be SUPERSEDED by a higher-priority channel:\n",
      "\n",
      "  ca-certificates    pkgs/main::ca-certificates-2023.05.30~ --> conda-forge::ca-certificates-2023.5.7-h56e8100_0 \n",
      "  certifi            pkgs/main/win-64::certifi-2023.5.7-py~ --> conda-forge/noarch::certifi-2023.5.7-pyhd8ed1ab_0 \n",
      "  openssl              pkgs/main::openssl-1.1.1u-h2bbff1b_0 --> conda-forge::openssl-1.1.1q-h8ffe710_0 \n",
      "\n",
      "\n",
      "\n",
      "Downloading and Extracting Packages\n",
      "\n",
      "featuretools-0.27.0  | 299 KB    |            |   0% \n",
      "\n",
      "pip-23.2             | 1.3 MB    |            |   0% \u001b[A\n",
      "\n",
      "\n",
      "ca-certificates-2023 | 145 KB    |            |   0% \u001b[A\u001b[A\n",
      "\n",
      "\n",
      "\n",
      "certifi-2023.5.7     | 149 KB    |            |   0% \u001b[A\u001b[A\u001b[A\n",
      "\n",
      "\n",
      "\n",
      "\n",
      "openssl-1.1.1q       | 5.8 MB    |            |   0% \u001b[A\u001b[A\u001b[A\u001b[A\n",
      "\n",
      "\n",
      "\n",
      "\n",
      "\n",
      "conda-23.5.2         | 1000 KB   |            |   0% \u001b[A\u001b[A\u001b[A\u001b[A\u001b[A\n",
      "\n",
      "\n",
      "\n",
      "\n",
      "\n",
      "\n",
      "pillow-8.2.0         | 784 KB    |            |   0% \u001b[A\u001b[A\u001b[A\u001b[A\u001b[A\u001b[A\n",
      "\n",
      "pip-23.2             | 1.3 MB    | 1          |   1% \u001b[A\n",
      "\n",
      "\n",
      "\n",
      "certifi-2023.5.7     | 149 KB    | #          |  11% \u001b[A\u001b[A\u001b[A\n",
      "\n",
      "\n",
      "\n",
      "\n",
      "openssl-1.1.1q       | 5.8 MB    |            |   0% \u001b[A\u001b[A\u001b[A\u001b[A\n",
      "\n",
      "\n",
      "ca-certificates-2023 | 145 KB    | #1         |  11% \u001b[A\u001b[A\n",
      "\n",
      "pip-23.2             | 1.3 MB    | ##8        |  28% \u001b[A\n",
      "featuretools-0.27.0  | 299 KB    | 5          |   5% \n",
      "\n",
      "\n",
      "\n",
      "\n",
      "openssl-1.1.1q       | 5.8 MB    | 5          |   6% \u001b[A\u001b[A\u001b[A\u001b[A\n",
      "\n",
      "\n",
      "\n",
      "\n",
      "\n",
      "conda-23.5.2         | 1000 KB   | 1          |   2% \u001b[A\u001b[A\u001b[A\u001b[A\u001b[A\n",
      "\n",
      "\n",
      "\n",
      "\n",
      "\n",
      "\n",
      "pillow-8.2.0         | 784 KB    | 2          |   2% \u001b[A\u001b[A\u001b[A\u001b[A\u001b[A\u001b[A\n",
      "featuretools-0.27.0  | 299 KB    | ######4    |  64% \n",
      "\n",
      "\n",
      "\n",
      "\n",
      "openssl-1.1.1q       | 5.8 MB    | #2         |  12% \u001b[A\u001b[A\u001b[A\u001b[A\n",
      "\n",
      "\n",
      "\n",
      "certifi-2023.5.7     | 149 KB    | ########## | 100% \u001b[A\u001b[A\u001b[A\n",
      "\n",
      "\n",
      "\n",
      "certifi-2023.5.7     | 149 KB    | ########## | 100% \u001b[A\u001b[A\u001b[A\n",
      "\n",
      "\n",
      "\n",
      "\n",
      "\n",
      "conda-23.5.2         | 1000 KB   | ##8        |  29% \u001b[A\u001b[A\u001b[A\u001b[A\u001b[A\n",
      "\n",
      "\n",
      "\n",
      "\n",
      "openssl-1.1.1q       | 5.8 MB    | #7         |  17% \u001b[A\u001b[A\u001b[A\u001b[A\n",
      "\n",
      "\n",
      "ca-certificates-2023 | 145 KB    | ########## | 100% \u001b[A\u001b[A\n",
      "\n",
      "\n",
      "ca-certificates-2023 | 145 KB    | ########## | 100% \u001b[A\u001b[A\n",
      "\n",
      "\n",
      "\n",
      "\n",
      "\n",
      "\n",
      "pillow-8.2.0         | 784 KB    | #6         |  16% \u001b[A\u001b[A\u001b[A\u001b[A\u001b[A\u001b[A\n",
      "\n",
      "\n",
      "\n",
      "\n",
      "\n",
      "conda-23.5.2         | 1000 KB   | ######     |  61% \u001b[A\u001b[A\u001b[A\u001b[A\u001b[A\n",
      "\n",
      "\n",
      "\n",
      "\n",
      "\n",
      "\n",
      "pillow-8.2.0         | 784 KB    | ##4        |  24% \u001b[A\u001b[A\u001b[A\u001b[A\u001b[A\u001b[A\n",
      "\n",
      "\n",
      "\n",
      "\n",
      "openssl-1.1.1q       | 5.8 MB    | ##4        |  24% \u001b[A\u001b[A\u001b[A\u001b[A\n",
      "\n",
      "\n",
      "\n",
      "\n",
      "\n",
      "conda-23.5.2         | 1000 KB   | ########6  |  86% \u001b[A\u001b[A\u001b[A\u001b[A\u001b[A\n",
      "featuretools-0.27.0  | 299 KB    | ########## | 100% \n",
      "\n",
      "pip-23.2             | 1.3 MB    | ########## | 100% \u001b[A\n",
      "\n",
      "pip-23.2             | 1.3 MB    | ########## | 100% \u001b[A\n",
      "\n",
      "\n",
      "\n",
      "\n",
      "\n",
      "\n",
      "pillow-8.2.0         | 784 KB    | ########1  |  82% \u001b[A\u001b[A\u001b[A\u001b[A\u001b[A\u001b[A\n",
      "\n",
      "\n",
      "\n",
      "\n",
      "openssl-1.1.1q       | 5.8 MB    | ###2       |  33% \u001b[A\u001b[A\u001b[A\u001b[A\n",
      "featuretools-0.27.0  | 299 KB    | ########## | 100% \n",
      "\n",
      "\n",
      "\n",
      "\n",
      "openssl-1.1.1q       | 5.8 MB    | #####1     |  52% \u001b[A\u001b[A\u001b[A\u001b[A\n",
      "\n",
      "\n",
      "\n",
      "\n",
      "\n",
      "conda-23.5.2         | 1000 KB   | ########## | 100% \u001b[A\u001b[A\u001b[A\u001b[A\u001b[A\n",
      "\n",
      "\n",
      "\n",
      "\n",
      "\n",
      "conda-23.5.2         | 1000 KB   | ########## | 100% \u001b[A\u001b[A\u001b[A\u001b[A\u001b[A\n",
      "\n",
      "\n",
      "\n",
      "\n",
      "openssl-1.1.1q       | 5.8 MB    | ######5    |  66% \u001b[A\u001b[A\u001b[A\u001b[A\n",
      "\n",
      "\n",
      "\n",
      "\n",
      "\n",
      "\n",
      "pillow-8.2.0         | 784 KB    | ########## | 100% \u001b[A\u001b[A\u001b[A\u001b[A\u001b[A\u001b[A\n",
      "\n",
      "\n",
      "\n",
      "\n",
      "\n",
      "\n",
      "pillow-8.2.0         | 784 KB    | ########## | 100% \u001b[A\u001b[A\u001b[A\u001b[A\u001b[A\u001b[A\n",
      "\n",
      "\n",
      "\n",
      "\n",
      "openssl-1.1.1q       | 5.8 MB    | ########7  |  88% \u001b[A\u001b[A\u001b[A\u001b[A\n",
      "\n",
      "\n",
      "\n",
      "\n",
      "openssl-1.1.1q       | 5.8 MB    | ########## | 100% \u001b[A\u001b[A\u001b[A\u001b[A\n",
      "\n",
      "\n",
      "\n",
      "\n",
      "openssl-1.1.1q       | 5.8 MB    | ########## | 100% \u001b[A\u001b[A\u001b[A\u001b[A\n",
      "                                                     \n",
      "\n",
      "\n",
      "                                                     \u001b[A\n",
      "\n",
      "\n",
      "                                                     \u001b[A\u001b[A\n",
      "\n",
      "\n",
      "\n",
      "                                                     \u001b[A\u001b[A\u001b[A\n",
      "\n",
      "\n",
      "\n",
      "\n",
      "                                                     \u001b[A\u001b[A\u001b[A\u001b[A\n",
      "\n",
      "\n",
      "\n",
      "\n",
      "\n",
      "                                                     \u001b[A\u001b[A\u001b[A\u001b[A\u001b[A\n",
      "\n",
      "\n",
      "\n",
      "\n",
      "\n",
      "\n",
      "                                                     \u001b[A\u001b[A\u001b[A\u001b[A\u001b[A\u001b[A\n",
      "\n",
      "Preparing transaction: ...working... done\n",
      "Verifying transaction: ...working... done\n",
      "Executing transaction: ...working... done\n"
     ]
    },
    {
     "name": "stderr",
     "output_type": "stream",
     "text": [
      "  - defaults/win-64::spyder==5.1.5=py39haa95532_1\n",
      "  - defaults/win-64::statsmodels==0.12.2=py39h2bbff1b_0\n",
      "  - defaults/noarch::tifffile==2021.7.2=pyhd3eb1b0_2\n",
      "  - defaults/win-64::_anaconda_depends==2021.11=py39_0\n",
      "\n",
      "\n",
      "==> WARNING: A newer version of conda exists. <==\n",
      "  current version: 23.5.0\n",
      "  latest version: 23.5.2\n",
      "\n",
      "Please update conda by running\n",
      "\n",
      "    $ conda update -n base -c defaults conda\n",
      "\n",
      "Or to minimize the number of packages updated during conda update use\n",
      "\n",
      "     conda install conda=23.5.2\n",
      "\n",
      "\n"
     ]
    }
   ],
   "source": [
    "conda install -c conda-forge featuretools==0.27.0"
   ]
  },
  {
   "cell_type": "code",
   "execution_count": 21,
   "metadata": {
    "colab": {
     "base_uri": "https://localhost:8080/",
     "height": 374
    },
    "executionInfo": {
     "elapsed": 343,
     "status": "error",
     "timestamp": 1680888931528,
     "user": {
      "displayName": "Aubhishek Zaman",
      "userId": "15254556533391548233"
     },
     "user_tz": 420
    },
    "id": "jedE5_x1tkL8",
    "outputId": "2954042f-bb3d-4c2e-8bb1-3d029ae5c02c"
   },
   "outputs": [],
   "source": [
    "# Data science helpers\n",
    "from pathlib import Path\n",
    "import pandas as pd \n",
    "import numpy as np\n",
    "\n",
    "import featuretools as ft\n",
    "\n",
    "# Useful for showing multiple outputs\n",
    "from IPython.core.interactiveshell import InteractiveShell\n",
    "InteractiveShell.ast_node_interactivity = \"all\"\n",
    "\n",
    "# make some folders we will need if they do not exist\n",
    "Path(\"./data/churn\").mkdir(parents=True, exist_ok=True)"
   ]
  },
  {
   "cell_type": "markdown",
   "metadata": {
    "id": "1r4L9Puvu7Jq"
   },
   "source": []
  },
  {
   "cell_type": "code",
   "execution_count": 136,
   "metadata": {
    "executionInfo": {
     "elapsed": 1,
     "status": "aborted",
     "timestamp": 1680888931703,
     "user": {
      "displayName": "Aubhishek Zaman",
      "userId": "15254556533391548233"
     },
     "user_tz": 420
    },
    "id": "FEqxUt5-tkL8"
   },
   "outputs": [],
   "source": [
    "# Read in all data\n",
    "members = pd.read_csv(r'C:\\Users\\aubhi\\OneDrive - University of California, San Francisco\\Desktop\\Springboard_github\\Springboard\\Data storytelling\\members_ft_dataset.csv', \n",
    "                      parse_dates=['registration_init_time'], \n",
    "                      infer_datetime_format = True, \n",
    "                      dtype = {'gender': 'category'})\n",
    "\n",
    "trans = pd.read_csv(r'C:\\Users\\aubhi\\OneDrive - University of California, San Francisco\\Desktop\\Springboard_github\\Springboard\\Data storytelling\\trans_ft_dataset.csv',\n",
    "                   parse_dates=['transaction_date', 'membership_expire_date'], \n",
    "                    infer_datetime_format = True)\n",
    "\n",
    "logs = pd.read_csv(r'C:\\Users\\aubhi\\OneDrive - University of California, San Francisco\\Desktop\\Springboard_github\\Springboard\\Data storytelling\\logs_ft_dataset.csv', parse_dates = ['date'])\n",
    "\n",
    "cutoff_times = pd.read_csv(r'C:\\Users\\aubhi\\OneDrive - University of California, San Francisco\\Desktop\\Springboard_github\\Springboard\\Data storytelling\\lables_ft_dataset.csv', parse_dates = ['cutoff_time'])"
   ]
  },
  {
   "cell_type": "code",
   "execution_count": 120,
   "metadata": {},
   "outputs": [
    {
     "data": {
      "text/html": [
       "<div>\n",
       "<style scoped>\n",
       "    .dataframe tbody tr th:only-of-type {\n",
       "        vertical-align: middle;\n",
       "    }\n",
       "\n",
       "    .dataframe tbody tr th {\n",
       "        vertical-align: top;\n",
       "    }\n",
       "\n",
       "    .dataframe thead th {\n",
       "        text-align: right;\n",
       "    }\n",
       "</style>\n",
       "<table border=\"1\" class=\"dataframe\">\n",
       "  <thead>\n",
       "    <tr style=\"text-align: right;\">\n",
       "      <th></th>\n",
       "      <th>msno</th>\n",
       "      <th>city</th>\n",
       "      <th>bd</th>\n",
       "      <th>gender</th>\n",
       "      <th>registered_via</th>\n",
       "      <th>registration_init_time</th>\n",
       "    </tr>\n",
       "  </thead>\n",
       "  <tbody>\n",
       "    <tr>\n",
       "      <th>0</th>\n",
       "      <td>8hW4+CV3D1oNM0CIsA39YljsF8M3m7g1LAX6AQd3C8I=</td>\n",
       "      <td>4</td>\n",
       "      <td>24</td>\n",
       "      <td>male</td>\n",
       "      <td>3</td>\n",
       "      <td>2014-11-04</td>\n",
       "    </tr>\n",
       "    <tr>\n",
       "      <th>1</th>\n",
       "      <td>yhcODfebyTYezE6KAPklcV1us9zdOYJ+7eHS7f/xgoU=</td>\n",
       "      <td>8</td>\n",
       "      <td>37</td>\n",
       "      <td>male</td>\n",
       "      <td>9</td>\n",
       "      <td>2007-02-11</td>\n",
       "    </tr>\n",
       "    <tr>\n",
       "      <th>2</th>\n",
       "      <td>sBlgSL0AIq49XsmBQ2KceKZNUyIxT1BwSkN/xYQLGMc=</td>\n",
       "      <td>15</td>\n",
       "      <td>21</td>\n",
       "      <td>male</td>\n",
       "      <td>3</td>\n",
       "      <td>2013-02-08</td>\n",
       "    </tr>\n",
       "    <tr>\n",
       "      <th>3</th>\n",
       "      <td>Xy3Au8sZKlEeHBQ+C7ro8Ni3X/dxgrtmx0Tt+jqM1zY=</td>\n",
       "      <td>1</td>\n",
       "      <td>0</td>\n",
       "      <td>NaN</td>\n",
       "      <td>9</td>\n",
       "      <td>2015-02-01</td>\n",
       "    </tr>\n",
       "    <tr>\n",
       "      <th>4</th>\n",
       "      <td>NiCu2GVWgT5QZbI85oYRBEDqHUZbzz2azS48jvM+khg=</td>\n",
       "      <td>12</td>\n",
       "      <td>21</td>\n",
       "      <td>male</td>\n",
       "      <td>3</td>\n",
       "      <td>2015-02-12</td>\n",
       "    </tr>\n",
       "  </tbody>\n",
       "</table>\n",
       "</div>"
      ],
      "text/plain": [
       "                                           msno  city  bd gender  \\\n",
       "0  8hW4+CV3D1oNM0CIsA39YljsF8M3m7g1LAX6AQd3C8I=     4  24   male   \n",
       "1  yhcODfebyTYezE6KAPklcV1us9zdOYJ+7eHS7f/xgoU=     8  37   male   \n",
       "2  sBlgSL0AIq49XsmBQ2KceKZNUyIxT1BwSkN/xYQLGMc=    15  21   male   \n",
       "3  Xy3Au8sZKlEeHBQ+C7ro8Ni3X/dxgrtmx0Tt+jqM1zY=     1   0    NaN   \n",
       "4  NiCu2GVWgT5QZbI85oYRBEDqHUZbzz2azS48jvM+khg=    12  21   male   \n",
       "\n",
       "   registered_via registration_init_time  \n",
       "0               3             2014-11-04  \n",
       "1               9             2007-02-11  \n",
       "2               3             2013-02-08  \n",
       "3               9             2015-02-01  \n",
       "4               3             2015-02-12  "
      ]
     },
     "execution_count": 120,
     "metadata": {},
     "output_type": "execute_result"
    }
   ],
   "source": [
    "members.head()"
   ]
  },
  {
   "cell_type": "code",
   "execution_count": 121,
   "metadata": {
    "scrolled": true
   },
   "outputs": [
    {
     "data": {
      "text/html": [
       "<div>\n",
       "<style scoped>\n",
       "    .dataframe tbody tr th:only-of-type {\n",
       "        vertical-align: middle;\n",
       "    }\n",
       "\n",
       "    .dataframe tbody tr th {\n",
       "        vertical-align: top;\n",
       "    }\n",
       "\n",
       "    .dataframe thead th {\n",
       "        text-align: right;\n",
       "    }\n",
       "</style>\n",
       "<table border=\"1\" class=\"dataframe\">\n",
       "  <thead>\n",
       "    <tr style=\"text-align: right;\">\n",
       "      <th></th>\n",
       "      <th>msno</th>\n",
       "      <th>payment_method_id</th>\n",
       "      <th>payment_plan_days</th>\n",
       "      <th>plan_list_price</th>\n",
       "      <th>actual_amount_paid</th>\n",
       "      <th>is_auto_renew</th>\n",
       "      <th>transaction_date</th>\n",
       "      <th>membership_expire_date</th>\n",
       "      <th>is_cancel</th>\n",
       "    </tr>\n",
       "  </thead>\n",
       "  <tbody>\n",
       "    <tr>\n",
       "      <th>0</th>\n",
       "      <td>5F7G3pHKf5ijGQpoKuko0G7Jm3Bde6ktfPKBZySWoDI=</td>\n",
       "      <td>41</td>\n",
       "      <td>30</td>\n",
       "      <td>99</td>\n",
       "      <td>99</td>\n",
       "      <td>1</td>\n",
       "      <td>2017-02-10</td>\n",
       "      <td>2017-03-10</td>\n",
       "      <td>0</td>\n",
       "    </tr>\n",
       "    <tr>\n",
       "      <th>1</th>\n",
       "      <td>DQMPoCSc6EB39ytgnKCRsUIZnR6ZWSrHeDmX7nbxAKs=</td>\n",
       "      <td>41</td>\n",
       "      <td>30</td>\n",
       "      <td>149</td>\n",
       "      <td>149</td>\n",
       "      <td>1</td>\n",
       "      <td>2016-02-01</td>\n",
       "      <td>2016-03-02</td>\n",
       "      <td>0</td>\n",
       "    </tr>\n",
       "    <tr>\n",
       "      <th>2</th>\n",
       "      <td>Lrais3nsgqYwpfpSoyK3fHuPutf6cloTI5T5dQfs4lA=</td>\n",
       "      <td>38</td>\n",
       "      <td>30</td>\n",
       "      <td>149</td>\n",
       "      <td>149</td>\n",
       "      <td>0</td>\n",
       "      <td>2016-02-23</td>\n",
       "      <td>2016-04-23</td>\n",
       "      <td>0</td>\n",
       "    </tr>\n",
       "    <tr>\n",
       "      <th>3</th>\n",
       "      <td>ZPOjgxQw1/J7v5xgBJTCLXWuwq5Xmk33nO6AoUO1+mY=</td>\n",
       "      <td>41</td>\n",
       "      <td>30</td>\n",
       "      <td>149</td>\n",
       "      <td>119</td>\n",
       "      <td>1</td>\n",
       "      <td>2015-09-06</td>\n",
       "      <td>2016-08-01</td>\n",
       "      <td>0</td>\n",
       "    </tr>\n",
       "    <tr>\n",
       "      <th>4</th>\n",
       "      <td>MvR23u4bIiWM+U+VE1Mvw3qqdj/0Ixs1sf7avavjhRs=</td>\n",
       "      <td>38</td>\n",
       "      <td>30</td>\n",
       "      <td>149</td>\n",
       "      <td>149</td>\n",
       "      <td>0</td>\n",
       "      <td>2016-10-28</td>\n",
       "      <td>2016-11-27</td>\n",
       "      <td>0</td>\n",
       "    </tr>\n",
       "  </tbody>\n",
       "</table>\n",
       "</div>"
      ],
      "text/plain": [
       "                                           msno  payment_method_id  \\\n",
       "0  5F7G3pHKf5ijGQpoKuko0G7Jm3Bde6ktfPKBZySWoDI=                 41   \n",
       "1  DQMPoCSc6EB39ytgnKCRsUIZnR6ZWSrHeDmX7nbxAKs=                 41   \n",
       "2  Lrais3nsgqYwpfpSoyK3fHuPutf6cloTI5T5dQfs4lA=                 38   \n",
       "3  ZPOjgxQw1/J7v5xgBJTCLXWuwq5Xmk33nO6AoUO1+mY=                 41   \n",
       "4  MvR23u4bIiWM+U+VE1Mvw3qqdj/0Ixs1sf7avavjhRs=                 38   \n",
       "\n",
       "   payment_plan_days  plan_list_price  actual_amount_paid  is_auto_renew  \\\n",
       "0                 30               99                  99              1   \n",
       "1                 30              149                 149              1   \n",
       "2                 30              149                 149              0   \n",
       "3                 30              149                 119              1   \n",
       "4                 30              149                 149              0   \n",
       "\n",
       "  transaction_date membership_expire_date  is_cancel  \n",
       "0       2017-02-10             2017-03-10          0  \n",
       "1       2016-02-01             2016-03-02          0  \n",
       "2       2016-02-23             2016-04-23          0  \n",
       "3       2015-09-06             2016-08-01          0  \n",
       "4       2016-10-28             2016-11-27          0  "
      ]
     },
     "execution_count": 121,
     "metadata": {},
     "output_type": "execute_result"
    }
   ],
   "source": [
    "trans.head()"
   ]
  },
  {
   "cell_type": "code",
   "execution_count": 122,
   "metadata": {},
   "outputs": [
    {
     "data": {
      "text/html": [
       "<div>\n",
       "<style scoped>\n",
       "    .dataframe tbody tr th:only-of-type {\n",
       "        vertical-align: middle;\n",
       "    }\n",
       "\n",
       "    .dataframe tbody tr th {\n",
       "        vertical-align: top;\n",
       "    }\n",
       "\n",
       "    .dataframe thead th {\n",
       "        text-align: right;\n",
       "    }\n",
       "</style>\n",
       "<table border=\"1\" class=\"dataframe\">\n",
       "  <thead>\n",
       "    <tr style=\"text-align: right;\">\n",
       "      <th></th>\n",
       "      <th>msno</th>\n",
       "      <th>date</th>\n",
       "      <th>num_25</th>\n",
       "      <th>num_50</th>\n",
       "      <th>num_75</th>\n",
       "      <th>num_985</th>\n",
       "      <th>num_100</th>\n",
       "      <th>num_unq</th>\n",
       "      <th>total_secs</th>\n",
       "    </tr>\n",
       "  </thead>\n",
       "  <tbody>\n",
       "    <tr>\n",
       "      <th>0</th>\n",
       "      <td>6+/V1NwBbqjBOCvRSDueeJZ58F4DY7h7fG6fSZtHaAE=</td>\n",
       "      <td>2017-03-04</td>\n",
       "      <td>29.0</td>\n",
       "      <td>28.0</td>\n",
       "      <td>18.0</td>\n",
       "      <td>11.0</td>\n",
       "      <td>111.0</td>\n",
       "      <td>79.0</td>\n",
       "      <td>34727.142</td>\n",
       "    </tr>\n",
       "    <tr>\n",
       "      <th>1</th>\n",
       "      <td>E2aBGFTKR6jzp+1knh7JOOF39gLuu+CoZMWaAL/DA0M=</td>\n",
       "      <td>2017-03-27</td>\n",
       "      <td>1.0</td>\n",
       "      <td>0.0</td>\n",
       "      <td>2.0</td>\n",
       "      <td>0.0</td>\n",
       "      <td>184.0</td>\n",
       "      <td>173.0</td>\n",
       "      <td>33408.719</td>\n",
       "    </tr>\n",
       "    <tr>\n",
       "      <th>2</th>\n",
       "      <td>g7exJzakJlHXwzUydnShY5w24WXSwJyS6QqgoFeyr7g=</td>\n",
       "      <td>2017-03-15</td>\n",
       "      <td>0.0</td>\n",
       "      <td>0.0</td>\n",
       "      <td>0.0</td>\n",
       "      <td>0.0</td>\n",
       "      <td>21.0</td>\n",
       "      <td>21.0</td>\n",
       "      <td>4951.000</td>\n",
       "    </tr>\n",
       "    <tr>\n",
       "      <th>3</th>\n",
       "      <td>X+i9OmM3P42cETt5gPkOnz8vXGViQL5/M/NMiMQ+Olc=</td>\n",
       "      <td>2017-03-13</td>\n",
       "      <td>3.0</td>\n",
       "      <td>1.0</td>\n",
       "      <td>0.0</td>\n",
       "      <td>0.0</td>\n",
       "      <td>33.0</td>\n",
       "      <td>27.0</td>\n",
       "      <td>8755.599</td>\n",
       "    </tr>\n",
       "    <tr>\n",
       "      <th>4</th>\n",
       "      <td>tbl8blAVl6j4A8zW1Gnyg78Hc0LAQzzcYesmzgJ7ofs=</td>\n",
       "      <td>2017-03-27</td>\n",
       "      <td>6.0</td>\n",
       "      <td>5.0</td>\n",
       "      <td>0.0</td>\n",
       "      <td>0.0</td>\n",
       "      <td>2.0</td>\n",
       "      <td>6.0</td>\n",
       "      <td>1035.853</td>\n",
       "    </tr>\n",
       "  </tbody>\n",
       "</table>\n",
       "</div>"
      ],
      "text/plain": [
       "                                           msno       date  num_25  num_50  \\\n",
       "0  6+/V1NwBbqjBOCvRSDueeJZ58F4DY7h7fG6fSZtHaAE= 2017-03-04    29.0    28.0   \n",
       "1  E2aBGFTKR6jzp+1knh7JOOF39gLuu+CoZMWaAL/DA0M= 2017-03-27     1.0     0.0   \n",
       "2  g7exJzakJlHXwzUydnShY5w24WXSwJyS6QqgoFeyr7g= 2017-03-15     0.0     0.0   \n",
       "3  X+i9OmM3P42cETt5gPkOnz8vXGViQL5/M/NMiMQ+Olc= 2017-03-13     3.0     1.0   \n",
       "4  tbl8blAVl6j4A8zW1Gnyg78Hc0LAQzzcYesmzgJ7ofs= 2017-03-27     6.0     5.0   \n",
       "\n",
       "   num_75  num_985  num_100  num_unq  total_secs  \n",
       "0    18.0     11.0    111.0     79.0   34727.142  \n",
       "1     2.0      0.0    184.0    173.0   33408.719  \n",
       "2     0.0      0.0     21.0     21.0    4951.000  \n",
       "3     0.0      0.0     33.0     27.0    8755.599  \n",
       "4     0.0      0.0      2.0      6.0    1035.853  "
      ]
     },
     "execution_count": 122,
     "metadata": {},
     "output_type": "execute_result"
    }
   ],
   "source": [
    "logs.head()"
   ]
  },
  {
   "cell_type": "code",
   "execution_count": 123,
   "metadata": {},
   "outputs": [
    {
     "data": {
      "text/html": [
       "<div>\n",
       "<style scoped>\n",
       "    .dataframe tbody tr th:only-of-type {\n",
       "        vertical-align: middle;\n",
       "    }\n",
       "\n",
       "    .dataframe tbody tr th {\n",
       "        vertical-align: top;\n",
       "    }\n",
       "\n",
       "    .dataframe thead th {\n",
       "        text-align: right;\n",
       "    }\n",
       "</style>\n",
       "<table border=\"1\" class=\"dataframe\">\n",
       "  <thead>\n",
       "    <tr style=\"text-align: right;\">\n",
       "      <th></th>\n",
       "      <th>msno</th>\n",
       "      <th>cutoff_time</th>\n",
       "      <th>label</th>\n",
       "      <th>days_to_churn</th>\n",
       "      <th>churn_date</th>\n",
       "    </tr>\n",
       "  </thead>\n",
       "  <tbody>\n",
       "    <tr>\n",
       "      <th>0</th>\n",
       "      <td>++bK0FRJecXCogqXdjtO2Kyb3jq7uLM7qThTk+nN8tE=</td>\n",
       "      <td>2015-08-01</td>\n",
       "      <td>0.0</td>\n",
       "      <td>NaN</td>\n",
       "      <td>NaN</td>\n",
       "    </tr>\n",
       "    <tr>\n",
       "      <th>1</th>\n",
       "      <td>++bK0FRJecXCogqXdjtO2Kyb3jq7uLM7qThTk+nN8tE=</td>\n",
       "      <td>2015-09-01</td>\n",
       "      <td>0.0</td>\n",
       "      <td>NaN</td>\n",
       "      <td>NaN</td>\n",
       "    </tr>\n",
       "    <tr>\n",
       "      <th>2</th>\n",
       "      <td>++bK0FRJecXCogqXdjtO2Kyb3jq7uLM7qThTk+nN8tE=</td>\n",
       "      <td>2015-10-01</td>\n",
       "      <td>0.0</td>\n",
       "      <td>NaN</td>\n",
       "      <td>NaN</td>\n",
       "    </tr>\n",
       "    <tr>\n",
       "      <th>3</th>\n",
       "      <td>++bK0FRJecXCogqXdjtO2Kyb3jq7uLM7qThTk+nN8tE=</td>\n",
       "      <td>2015-11-01</td>\n",
       "      <td>0.0</td>\n",
       "      <td>NaN</td>\n",
       "      <td>NaN</td>\n",
       "    </tr>\n",
       "    <tr>\n",
       "      <th>4</th>\n",
       "      <td>++bK0FRJecXCogqXdjtO2Kyb3jq7uLM7qThTk+nN8tE=</td>\n",
       "      <td>2015-12-01</td>\n",
       "      <td>0.0</td>\n",
       "      <td>NaN</td>\n",
       "      <td>NaN</td>\n",
       "    </tr>\n",
       "  </tbody>\n",
       "</table>\n",
       "</div>"
      ],
      "text/plain": [
       "                                           msno cutoff_time  label  \\\n",
       "0  ++bK0FRJecXCogqXdjtO2Kyb3jq7uLM7qThTk+nN8tE=  2015-08-01    0.0   \n",
       "1  ++bK0FRJecXCogqXdjtO2Kyb3jq7uLM7qThTk+nN8tE=  2015-09-01    0.0   \n",
       "2  ++bK0FRJecXCogqXdjtO2Kyb3jq7uLM7qThTk+nN8tE=  2015-10-01    0.0   \n",
       "3  ++bK0FRJecXCogqXdjtO2Kyb3jq7uLM7qThTk+nN8tE=  2015-11-01    0.0   \n",
       "4  ++bK0FRJecXCogqXdjtO2Kyb3jq7uLM7qThTk+nN8tE=  2015-12-01    0.0   \n",
       "\n",
       "   days_to_churn churn_date  \n",
       "0            NaN        NaN  \n",
       "1            NaN        NaN  \n",
       "2            NaN        NaN  \n",
       "3            NaN        NaN  \n",
       "4            NaN        NaN  "
      ]
     },
     "execution_count": 123,
     "metadata": {},
     "output_type": "execute_result"
    }
   ],
   "source": [
    "cutoff_times.head()"
   ]
  },
  {
   "cell_type": "code",
   "execution_count": null,
   "metadata": {},
   "outputs": [],
   "source": [
    "!pip install pandas-profiling"
   ]
  },
  {
   "cell_type": "code",
   "execution_count": 28,
   "metadata": {},
   "outputs": [
    {
     "name": "stdout",
     "output_type": "stream",
     "text": [
      "Requirement already satisfied: pydantic in c:\\users\\aubhi\\anaconda3\\lib\\site-packages (1.10.11)\n",
      "Collecting pydantic\n",
      "  Obtaining dependency information for pydantic from https://files.pythonhosted.org/packages/1f/1a/71b404f9acb44402f5b581ade106e9219d6d83824d50943e630fc0ca12e5/pydantic-2.0.3-py3-none-any.whl.metadata\n",
      "  Downloading pydantic-2.0.3-py3-none-any.whl.metadata (128 kB)\n",
      "     -------------------------------------- 128.2/128.2 kB 3.8 MB/s eta 0:00:00\n",
      "Collecting annotated-types>=0.4.0 (from pydantic)\n",
      "  Obtaining dependency information for annotated-types>=0.4.0 from https://files.pythonhosted.org/packages/d8/f0/a2ee543a96cc624c35a9086f39b1ed2aa403c6d355dfe47a11ee5c64a164/annotated_types-0.5.0-py3-none-any.whl.metadata\n",
      "  Downloading annotated_types-0.5.0-py3-none-any.whl.metadata (11 kB)\n",
      "Collecting pydantic-core==2.3.0 (from pydantic)\n",
      "  Obtaining dependency information for pydantic-core==2.3.0 from https://files.pythonhosted.org/packages/7b/b4/fef96844a8ff920524658401411a3653c4d1338711d0b1619bc501b56518/pydantic_core-2.3.0-cp39-none-win_amd64.whl.metadata\n",
      "  Downloading pydantic_core-2.3.0-cp39-none-win_amd64.whl.metadata (5.2 kB)\n",
      "Requirement already satisfied: typing-extensions>=4.6.1 in c:\\users\\aubhi\\anaconda3\\lib\\site-packages (from pydantic) (4.7.1)\n",
      "Downloading pydantic-2.0.3-py3-none-any.whl (364 kB)\n",
      "   ---------------------------------------- 364.0/364.0 kB 5.7 MB/s eta 0:00:00\n",
      "Downloading pydantic_core-2.3.0-cp39-none-win_amd64.whl (1.7 MB)\n",
      "   ---------------------------------------- 1.7/1.7 MB 11.9 MB/s eta 0:00:00\n",
      "Downloading annotated_types-0.5.0-py3-none-any.whl (11 kB)\n",
      "Installing collected packages: pydantic-core, annotated-types, pydantic\n",
      "  Attempting uninstall: pydantic\n",
      "    Found existing installation: pydantic 1.10.11\n",
      "    Uninstalling pydantic-1.10.11:\n",
      "      Successfully uninstalled pydantic-1.10.11\n",
      "Note: you may need to restart the kernel to use updated packages.\n"
     ]
    },
    {
     "name": "stderr",
     "output_type": "stream",
     "text": [
      "WARNING: Ignoring invalid distribution -illow (c:\\users\\aubhi\\anaconda3\\lib\\site-packages)\n",
      "WARNING: Ignoring invalid distribution -illow (c:\\users\\aubhi\\anaconda3\\lib\\site-packages)\n",
      "DEPRECATION: pyodbc 4.0.0-unsupported has a non-standard version number. pip 23.3 will enforce this behaviour change. A possible replacement is to upgrade to a newer version of pyodbc or contact the author to suggest that they release a version with a conforming version number. Discussion can be found at https://github.com/pypa/pip/issues/12063\n",
      "ERROR: Could not install packages due to an OSError: [WinError 5] Access is denied: 'C:\\\\Users\\\\aubhi\\\\anaconda3\\\\Lib\\\\site-packages\\\\~ydantic\\\\dataclasses.cp39-win_amd64.pyd'\n",
      "Consider using the `--user` option or check the permissions.\n",
      "\n"
     ]
    }
   ],
   "source": [
    "pip install --upgrade pydantic"
   ]
  },
  {
   "cell_type": "code",
   "execution_count": 10,
   "metadata": {},
   "outputs": [
    {
     "name": "stdout",
     "output_type": "stream",
     "text": [
      "^C\n",
      "Note: you may need to restart the kernel to use updated packages.\n"
     ]
    }
   ],
   "source": [
    "pip uninstall pydantic"
   ]
  },
  {
   "cell_type": "code",
   "execution_count": 11,
   "metadata": {},
   "outputs": [
    {
     "name": "stdout",
     "output_type": "stream",
     "text": [
      "Note: you may need to restart the kernel to use updated packages.\n"
     ]
    },
    {
     "name": "stderr",
     "output_type": "stream",
     "text": [
      "ERROR: Invalid requirement: '#'\n"
     ]
    }
   ],
   "source": [
    "pip install pydantic==1.8.2  # Replace \"1.8.2\" with an appropriate version before 2.0.3"
   ]
  },
  {
   "cell_type": "code",
   "execution_count": 3,
   "metadata": {},
   "outputs": [
    {
     "name": "stdout",
     "output_type": "stream",
     "text": [
      "Requirement already satisfied: pandas-profiling in c:\\users\\aubhi\\anaconda3\\lib\\site-packages (3.6.6)\n",
      "Requirement already satisfied: ydata-profiling in c:\\users\\aubhi\\anaconda3\\lib\\site-packages (from pandas-profiling) (4.3.2)\n",
      "Requirement already satisfied: scipy<1.11,>=1.4.1 in c:\\users\\aubhi\\anaconda3\\lib\\site-packages (from ydata-profiling->pandas-profiling) (1.7.1)\n",
      "Requirement already satisfied: pandas!=1.4.0,<2.1,>1.1 in c:\\users\\aubhi\\anaconda3\\lib\\site-packages (from ydata-profiling->pandas-profiling) (1.3.4)\n",
      "Requirement already satisfied: matplotlib<4,>=3.2 in c:\\users\\aubhi\\anaconda3\\lib\\site-packages (from ydata-profiling->pandas-profiling) (3.4.3)\n",
      "Collecting pydantic<2,>=1.8.1 (from ydata-profiling->pandas-profiling)\n",
      "  Obtaining dependency information for pydantic<2,>=1.8.1 from https://files.pythonhosted.org/packages/ed/a9/9f6fa825214510f79ce3fae718db66c9c55cba8d087e2e4400e4a634173a/pydantic-1.10.11-cp39-cp39-win_amd64.whl.metadata\n",
      "  Using cached pydantic-1.10.11-cp39-cp39-win_amd64.whl.metadata (150 kB)\n",
      "Requirement already satisfied: PyYAML<6.1,>=5.0.0 in c:\\users\\aubhi\\anaconda3\\lib\\site-packages (from ydata-profiling->pandas-profiling) (6.0)\n",
      "Requirement already satisfied: jinja2<3.2,>=2.11.1 in c:\\users\\aubhi\\anaconda3\\lib\\site-packages (from ydata-profiling->pandas-profiling) (2.11.3)\n",
      "Requirement already satisfied: visions[type_image_path]==0.7.5 in c:\\users\\aubhi\\anaconda3\\lib\\site-packages (from ydata-profiling->pandas-profiling) (0.7.5)\n",
      "Requirement already satisfied: numpy<1.24,>=1.16.0 in c:\\users\\aubhi\\anaconda3\\lib\\site-packages (from ydata-profiling->pandas-profiling) (1.20.3)\n",
      "Requirement already satisfied: htmlmin==0.1.12 in c:\\users\\aubhi\\anaconda3\\lib\\site-packages (from ydata-profiling->pandas-profiling) (0.1.12)\n",
      "Requirement already satisfied: phik<0.13,>=0.11.1 in c:\\users\\aubhi\\anaconda3\\lib\\site-packages (from ydata-profiling->pandas-profiling) (0.12.3)Note: you may need to restart the kernel to use updated packages.\n"
     ]
    },
    {
     "name": "stderr",
     "output_type": "stream",
     "text": [
      "WARNING: Ignoring invalid distribution -illow (c:\\users\\aubhi\\anaconda3\\lib\\site-packages)\n",
      "WARNING: Ignoring invalid distribution -illow (c:\\users\\aubhi\\anaconda3\\lib\\site-packages)\n",
      "DEPRECATION: pyodbc 4.0.0-unsupported has a non-standard version number. pip 23.3 will enforce this behaviour change. A possible replacement is to upgrade to a newer version of pyodbc or contact the author to suggest that they release a version with a conforming version number. Discussion can be found at https://github.com/pypa/pip/issues/12063\n"
     ]
    },
    {
     "name": "stdout",
     "output_type": "stream",
     "text": [
      "\n",
      "Requirement already satisfied: requests<3,>=2.24.0 in c:\\users\\aubhi\\anaconda3\\lib\\site-packages (from ydata-profiling->pandas-profiling) (2.26.0)\n",
      "Requirement already satisfied: tqdm<5,>=4.48.2 in c:\\users\\aubhi\\anaconda3\\lib\\site-packages (from ydata-profiling->pandas-profiling) (4.62.3)\n",
      "Requirement already satisfied: seaborn<0.13,>=0.10.1 in c:\\users\\aubhi\\anaconda3\\lib\\site-packages (from ydata-profiling->pandas-profiling) (0.11.2)\n",
      "Requirement already satisfied: multimethod<2,>=1.4 in c:\\users\\aubhi\\anaconda3\\lib\\site-packages (from ydata-profiling->pandas-profiling) (1.9.1)\n",
      "Requirement already satisfied: statsmodels<1,>=0.13.2 in c:\\users\\aubhi\\anaconda3\\lib\\site-packages (from ydata-profiling->pandas-profiling) (0.14.0)\n",
      "Requirement already satisfied: typeguard<3,>=2.13.2 in c:\\users\\aubhi\\anaconda3\\lib\\site-packages (from ydata-profiling->pandas-profiling) (2.13.3)\n",
      "Requirement already satisfied: imagehash==4.3.1 in c:\\users\\aubhi\\anaconda3\\lib\\site-packages (from ydata-profiling->pandas-profiling) (4.3.1)\n",
      "Requirement already satisfied: wordcloud>=1.9.1 in c:\\users\\aubhi\\anaconda3\\lib\\site-packages (from ydata-profiling->pandas-profiling) (1.9.2)\n",
      "Requirement already satisfied: dacite>=1.8 in c:\\users\\aubhi\\anaconda3\\lib\\site-packages (from ydata-profiling->pandas-profiling) (1.8.1)\n",
      "Requirement already satisfied: PyWavelets in c:\\users\\aubhi\\anaconda3\\lib\\site-packages (from imagehash==4.3.1->ydata-profiling->pandas-profiling) (1.1.1)\n",
      "Requirement already satisfied: pillow in c:\\users\\aubhi\\anaconda3\\lib\\site-packages (from imagehash==4.3.1->ydata-profiling->pandas-profiling) (10.0.0)\n",
      "Requirement already satisfied: attrs>=19.3.0 in c:\\users\\aubhi\\anaconda3\\lib\\site-packages (from visions[type_image_path]==0.7.5->ydata-profiling->pandas-profiling) (21.2.0)\n",
      "Requirement already satisfied: networkx>=2.4 in c:\\users\\aubhi\\anaconda3\\lib\\site-packages (from visions[type_image_path]==0.7.5->ydata-profiling->pandas-profiling) (2.6.3)\n",
      "Requirement already satisfied: tangled-up-in-unicode>=0.0.4 in c:\\users\\aubhi\\anaconda3\\lib\\site-packages (from visions[type_image_path]==0.7.5->ydata-profiling->pandas-profiling) (0.2.0)\n",
      "Requirement already satisfied: MarkupSafe>=0.23 in c:\\users\\aubhi\\anaconda3\\lib\\site-packages (from jinja2<3.2,>=2.11.1->ydata-profiling->pandas-profiling) (1.1.1)\n",
      "Requirement already satisfied: cycler>=0.10 in c:\\users\\aubhi\\anaconda3\\lib\\site-packages (from matplotlib<4,>=3.2->ydata-profiling->pandas-profiling) (0.10.0)\n",
      "Requirement already satisfied: kiwisolver>=1.0.1 in c:\\users\\aubhi\\anaconda3\\lib\\site-packages (from matplotlib<4,>=3.2->ydata-profiling->pandas-profiling) (1.3.1)\n",
      "Requirement already satisfied: pyparsing>=2.2.1 in c:\\users\\aubhi\\anaconda3\\lib\\site-packages (from matplotlib<4,>=3.2->ydata-profiling->pandas-profiling) (3.0.4)\n",
      "Requirement already satisfied: python-dateutil>=2.7 in c:\\users\\aubhi\\anaconda3\\lib\\site-packages (from matplotlib<4,>=3.2->ydata-profiling->pandas-profiling) (2.8.2)\n",
      "Requirement already satisfied: pytz>=2017.3 in c:\\users\\aubhi\\anaconda3\\lib\\site-packages (from pandas!=1.4.0,<2.1,>1.1->ydata-profiling->pandas-profiling) (2021.3)\n",
      "Requirement already satisfied: joblib>=0.14.1 in c:\\users\\aubhi\\anaconda3\\lib\\site-packages (from phik<0.13,>=0.11.1->ydata-profiling->pandas-profiling) (1.1.0)\n",
      "Requirement already satisfied: typing-extensions>=4.2.0 in c:\\users\\aubhi\\anaconda3\\lib\\site-packages (from pydantic<2,>=1.8.1->ydata-profiling->pandas-profiling) (4.7.1)\n",
      "Requirement already satisfied: urllib3<1.27,>=1.21.1 in c:\\users\\aubhi\\anaconda3\\lib\\site-packages (from requests<3,>=2.24.0->ydata-profiling->pandas-profiling) (1.26.7)\n",
      "Requirement already satisfied: certifi>=2017.4.17 in c:\\users\\aubhi\\anaconda3\\lib\\site-packages (from requests<3,>=2.24.0->ydata-profiling->pandas-profiling) (2023.5.7)\n",
      "Requirement already satisfied: charset-normalizer~=2.0.0 in c:\\users\\aubhi\\anaconda3\\lib\\site-packages (from requests<3,>=2.24.0->ydata-profiling->pandas-profiling) (2.0.4)\n",
      "Requirement already satisfied: idna<4,>=2.5 in c:\\users\\aubhi\\anaconda3\\lib\\site-packages (from requests<3,>=2.24.0->ydata-profiling->pandas-profiling) (3.2)\n",
      "Requirement already satisfied: patsy>=0.5.2 in c:\\users\\aubhi\\anaconda3\\lib\\site-packages (from statsmodels<1,>=0.13.2->ydata-profiling->pandas-profiling) (0.5.2)\n",
      "Requirement already satisfied: packaging>=21.3 in c:\\users\\aubhi\\anaconda3\\lib\\site-packages (from statsmodels<1,>=0.13.2->ydata-profiling->pandas-profiling) (23.0)\n",
      "Requirement already satisfied: colorama in c:\\users\\aubhi\\anaconda3\\lib\\site-packages (from tqdm<5,>=4.48.2->ydata-profiling->pandas-profiling) (0.4.4)\n",
      "Requirement already satisfied: six in c:\\users\\aubhi\\anaconda3\\lib\\site-packages (from cycler>=0.10->matplotlib<4,>=3.2->ydata-profiling->pandas-profiling) (1.16.0)\n",
      "Using cached pydantic-1.10.11-cp39-cp39-win_amd64.whl (2.2 MB)\n",
      "Installing collected packages: pydantic\n",
      "  Attempting uninstall: pydantic\n",
      "    Found existing installation: pydantic 2.0.3\n",
      "    Uninstalling pydantic-2.0.3:\n",
      "      Successfully uninstalled pydantic-2.0.3\n",
      "Successfully installed pydantic-1.10.11\n"
     ]
    }
   ],
   "source": [
    "pip install --upgrade pandas-profiling"
   ]
  },
  {
   "cell_type": "code",
   "execution_count": 12,
   "metadata": {},
   "outputs": [
    {
     "name": "stdout",
     "output_type": "stream",
     "text": [
      "Requirement already satisfied: pydantic-settings in c:\\users\\aubhi\\anaconda3\\lib\\site-packages (2.0.2)\n",
      "Requirement already satisfied: pydantic>=2.0.1 in c:\\users\\aubhi\\anaconda3\\lib\\site-packages (from pydantic-settings) (2.0.3)\n",
      "Requirement already satisfied: python-dotenv>=0.21.0 in c:\\users\\aubhi\\anaconda3\\lib\\site-packages (from pydantic-settings) (1.0.0)\n",
      "Requirement already satisfied: annotated-types>=0.4.0 in c:\\users\\aubhi\\anaconda3\\lib\\site-packages (from pydantic>=2.0.1->pydantic-settings) (0.5.0)\n",
      "Requirement already satisfied: pydantic-core==2.3.0 in c:\\users\\aubhi\\anaconda3\\lib\\site-packages (from pydantic>=2.0.1->pydantic-settings) (2.3.0)\n",
      "Requirement already satisfied: typing-extensions>=4.6.1 in c:\\users\\aubhi\\anaconda3\\lib\\site-packages (from pydantic>=2.0.1->pydantic-settings) (4.7.1)\n",
      "Note: you may need to restart the kernel to use updated packages.\n"
     ]
    },
    {
     "name": "stderr",
     "output_type": "stream",
     "text": [
      "WARNING: Ignoring invalid distribution -illow (c:\\users\\aubhi\\anaconda3\\lib\\site-packages)\n",
      "WARNING: Ignoring invalid distribution -illow (c:\\users\\aubhi\\anaconda3\\lib\\site-packages)\n",
      "DEPRECATION: pyodbc 4.0.0-unsupported has a non-standard version number. pip 23.3 will enforce this behaviour change. A possible replacement is to upgrade to a newer version of pyodbc or contact the author to suggest that they release a version with a conforming version number. Discussion can be found at https://github.com/pypa/pip/issues/12063\n"
     ]
    }
   ],
   "source": [
    "pip install pydantic-settings"
   ]
  },
  {
   "cell_type": "code",
   "execution_count": 13,
   "metadata": {},
   "outputs": [],
   "source": [
    "from pydantic_settings import BaseSettings # NEW"
   ]
  },
  {
   "cell_type": "code",
   "execution_count": 15,
   "metadata": {},
   "outputs": [
    {
     "name": "stdout",
     "output_type": "stream",
     "text": [
      "Collecting package metadata (current_repodata.json): ...working... done\n",
      "Note: you may need to restart the kernel to use updated packages.\n",
      "Solving environment: ...working... done\n",
      "\n",
      "## Package Plan ##\n",
      "\n",
      "  environment location: C:\\Users\\aubhi\\anaconda3\n",
      "\n",
      "  added / updated specs:\n",
      "    - pandas-profiling\n",
      "\n",
      "\n",
      "\n",
      "The following packages will be downloaded:\n",
      "\n",
      "    package                    |            build\n",
      "    ---------------------------|-----------------\n",
      "    ca-certificates-2019.11.28 |       hecc5488_0         182 KB  conda-forge/label/cf202003\n",
      "    confuse-1.0.0              |             py_0          19 KB  conda-forge/label/cf202003\n",
      "    htmlmin-0.1.12             |             py_1          21 KB  conda-forge/label/cf202003\n",
      "    missingno-0.4.2            |             py_1          12 KB  conda-forge/label/cf202003\n",
      "    pandas-profiling-2.4.0     |             py_1         134 KB  conda-forge/label/cf202003\n",
      "    phik-0.9.10                |             py_0         583 KB  conda-forge/label/cf202003\n",
      "    pytest-pylint-0.14.1       |             py_0           9 KB  conda-forge/label/cf202003\n",
      "    pytest-runner-5.2          |             py_0           9 KB  conda-forge/label/cf202003\n",
      "    ------------------------------------------------------------\n",
      "                                           Total:         968 KB\n",
      "\n",
      "The following NEW packages will be INSTALLED:\n",
      "\n",
      "  confuse            conda-forge/label/cf202003/noarch::confuse-1.0.0-py_0 \n",
      "  htmlmin            conda-forge/label/cf202003/noarch::htmlmin-0.1.12-py_1 \n",
      "  missingno          conda-forge/label/cf202003/noarch::missingno-0.4.2-py_1 \n",
      "  pandas-profiling   conda-forge/label/cf202003/noarch::pandas-profiling-2.4.0-py_1 \n",
      "  phik               conda-forge/label/cf202003/noarch::phik-0.9.10-py_0 \n",
      "  pytest-pylint      conda-forge/label/cf202003/noarch::pytest-pylint-0.14.1-py_0 \n",
      "  pytest-runner      conda-forge/label/cf202003/noarch::pytest-runner-5.2-py_0 \n",
      "\n",
      "The following packages will be SUPERSEDED by a higher-priority channel:\n",
      "\n",
      "  ca-certificates    conda-forge::ca-certificates-2023.5.7~ --> conda-forge/label/cf202003::ca-certificates-2019.11.28-hecc5488_0 \n",
      "\n",
      "\n",
      "\n",
      "Downloading and Extracting Packages\n",
      "\n",
      "phik-0.9.10          | 583 KB    |            |   0% \n",
      "\n",
      "pytest-pylint-0.14.1 | 9 KB      |            |   0% \u001b[A\n",
      "\n",
      "\n",
      "pytest-runner-5.2    | 9 KB      |            |   0% \u001b[A\u001b[A\n",
      "\n",
      "\n",
      "\n",
      "confuse-1.0.0        | 19 KB     |            |   0% \u001b[A\u001b[A\u001b[A\n",
      "\n",
      "\n",
      "\n",
      "\n",
      "ca-certificates-2019 | 182 KB    |            |   0% \u001b[A\u001b[A\u001b[A\u001b[A\n",
      "\n",
      "\n",
      "\n",
      "\n",
      "\n",
      "pandas-profiling-2.4 | 134 KB    |            |   0% \u001b[A\u001b[A\u001b[A\u001b[A\u001b[A\n",
      "\n",
      "\n",
      "\n",
      "\n",
      "\n",
      "\n",
      "htmlmin-0.1.12       | 21 KB     |            |   0% \u001b[A\u001b[A\u001b[A\u001b[A\u001b[A\u001b[A\n",
      "\n",
      "\n",
      "\n",
      "\n",
      "\n",
      "\n",
      "\n",
      "missingno-0.4.2      | 12 KB     |            |   0% \u001b[A\u001b[A\u001b[A\u001b[A\u001b[A\u001b[A\u001b[A\n",
      "\n",
      "\n",
      "pytest-runner-5.2    | 9 KB      | ########## | 100% \u001b[A\u001b[A\n",
      "\n",
      "pytest-pylint-0.14.1 | 9 KB      | ########## | 100% \u001b[A\n",
      "\n",
      "\n",
      "pytest-runner-5.2    | 9 KB      | ########## | 100% \u001b[A\u001b[A\n",
      "\n",
      "pytest-pylint-0.14.1 | 9 KB      | ########## | 100% \u001b[A\n",
      "\n",
      "\n",
      "\n",
      "confuse-1.0.0        | 19 KB     | ########6  |  86% \u001b[A\u001b[A\u001b[A\n",
      "\n",
      "\n",
      "\n",
      "confuse-1.0.0        | 19 KB     | ########## | 100% \u001b[A\u001b[A\u001b[A\n",
      "\n",
      "\n",
      "\n",
      "confuse-1.0.0        | 19 KB     | ########## | 100% \u001b[A\u001b[A\u001b[A\n",
      "phik-0.9.10          | 583 KB    | 2          |   3% \n",
      "\n",
      "\n",
      "\n",
      "\n",
      "ca-certificates-2019 | 182 KB    | 8          |   9% \u001b[A\u001b[A\u001b[A\u001b[A\n",
      "phik-0.9.10          | 583 KB    | ##4        |  25% \n",
      "\n",
      "\n",
      "\n",
      "\n",
      "\n",
      "\n",
      "htmlmin-0.1.12       | 21 KB     | #######7   |  78% \u001b[A\u001b[A\u001b[A\u001b[A\u001b[A\u001b[A\n",
      "\n",
      "\n",
      "\n",
      "\n",
      "\n",
      "\n",
      "htmlmin-0.1.12       | 21 KB     | ########## | 100% \u001b[A\u001b[A\u001b[A\u001b[A\u001b[A\u001b[A\n",
      "\n",
      "\n",
      "\n",
      "\n",
      "ca-certificates-2019 | 182 KB    | ###5       |  35% \u001b[A\u001b[A\u001b[A\u001b[A\n",
      "\n",
      "\n",
      "\n",
      "\n",
      "\n",
      "pandas-profiling-2.4 | 134 KB    | #1         |  12% \u001b[A\u001b[A\u001b[A\u001b[A\u001b[A\n",
      "phik-0.9.10          | 583 KB    | #########3 |  93% \n",
      "\n",
      "\n",
      "\n",
      "\n",
      "ca-certificates-2019 | 182 KB    | #######8   |  79% \u001b[A\u001b[A\u001b[A\u001b[A\n",
      "\n",
      "\n",
      "\n",
      "\n",
      "\n",
      "pandas-profiling-2.4 | 134 KB    | ##3        |  24% \u001b[A\u001b[A\u001b[A\u001b[A\u001b[A\n",
      "\n",
      "\n",
      "\n",
      "\n",
      "\n",
      "\n",
      "\n",
      "missingno-0.4.2      | 12 KB     | ########## | 100% \u001b[A\u001b[A\u001b[A\u001b[A\u001b[A\u001b[A\u001b[A\n",
      "phik-0.9.10          | 583 KB    | ########## | 100% \n",
      "\n",
      "\n",
      "\n",
      "\n",
      "\n",
      "\n",
      "\n",
      "missingno-0.4.2      | 12 KB     | ########## | 100% \u001b[A\u001b[A\u001b[A\u001b[A\u001b[A\u001b[A\u001b[A\n",
      "\n",
      "\n",
      "\n",
      "\n",
      "ca-certificates-2019 | 182 KB    | ########## | 100% \u001b[A\u001b[A\u001b[A\u001b[A\n",
      "\n",
      "\n",
      "\n",
      "\n",
      "\n",
      "pandas-profiling-2.4 | 134 KB    | ########## | 100% \u001b[A\u001b[A\u001b[A\u001b[A\u001b[A\n",
      "\n",
      "\n",
      "\n",
      "\n",
      "\n",
      "pandas-profiling-2.4 | 134 KB    | ########## | 100% \u001b[A\u001b[A\u001b[A\u001b[A\u001b[A\n",
      "                                                     \n",
      "\n",
      "\n",
      "                                                     \u001b[A\n",
      "\n",
      "\n",
      "                                                     \u001b[A\u001b[A\n",
      "\n",
      "\n",
      "\n",
      "                                                     \u001b[A\u001b[A\u001b[A\n",
      "\n",
      "\n",
      "\n",
      "\n",
      "                                                     \u001b[A\u001b[A\u001b[A\u001b[A\n",
      "\n",
      "\n",
      "\n",
      "\n",
      "\n",
      "                                                     \u001b[A\u001b[A\u001b[A\u001b[A\u001b[A\n",
      "\n",
      "\n",
      "\n",
      "\n",
      "\n",
      "\n",
      "                                                     \u001b[A\u001b[A\u001b[A\u001b[A\u001b[A\u001b[A\n",
      "\n",
      "\n",
      "\n",
      "\n",
      "\n",
      "\n",
      "\n",
      "                                                     \u001b[A\u001b[A\u001b[A\u001b[A\u001b[A\u001b[A\u001b[A\n",
      "\n",
      "Preparing transaction: ...working... done\n",
      "Verifying transaction: ...working... done\n",
      "Executing transaction: ...working... done\n"
     ]
    }
   ],
   "source": [
    "conda install -c conda-forge/label/cf202003 pandas-profiling"
   ]
  },
  {
   "cell_type": "code",
   "execution_count": 16,
   "metadata": {},
   "outputs": [],
   "source": [
    "#importing library\n",
    "from pandas_profiling import ProfileReport"
   ]
  },
  {
   "cell_type": "code",
   "execution_count": 124,
   "metadata": {},
   "outputs": [],
   "source": [
    "#defining the library\n",
    "profile_members = ProfileReport(members)\n",
    "profile_trans = ProfileReport(trans)\n",
    "profile_logs = ProfileReport(logs)\n",
    "profile_cutoff_times = ProfileReport(cutoff_times)"
   ]
  },
  {
   "cell_type": "code",
   "execution_count": 31,
   "metadata": {},
   "outputs": [],
   "source": [
    "# exporting your report as a html file\n",
    "profile_members.to_file(output_file='members_report.html')\n",
    "profile_trans.to_file(output_file='trans_report.html')\n",
    "profile_logs.to_file(output_file='logs_report.html')\n",
    "profile_cutoff_times.to_file(output_file='cutoff_times_report.html')"
   ]
  },
  {
   "cell_type": "code",
   "execution_count": 29,
   "metadata": {},
   "outputs": [
    {
     "data": {
      "application/vnd.jupyter.widget-view+json": {
       "model_id": "39cff81f6835432eba020a1ddbbe19b8",
       "version_major": 2,
       "version_minor": 0
      },
      "text/plain": [
       "Tab(children=(HTML(value='<div id=\"overview-content\" class=\"row variable spacing\">\\n    <div class=\"row\">\\n   …"
      ]
     },
     "metadata": {},
     "output_type": "display_data"
    },
    {
     "data": {
      "text/html": [
       "Report generated with <a href=\"https://github.com/pandas-profiling/pandas-profiling\">pandas-profiling</a>."
      ],
      "text/plain": [
       "<IPython.core.display.HTML object>"
      ]
     },
     "metadata": {},
     "output_type": "display_data"
    },
    {
     "data": {
      "text/plain": []
     },
     "execution_count": 29,
     "metadata": {},
     "output_type": "execute_result"
    }
   ],
   "source": [
    "profile_members"
   ]
  },
  {
   "cell_type": "markdown",
   "metadata": {
    "id": "dFg_yJxktkL8"
   },
   "source": [
    "The 3 data tables are represented by the following schema. \n",
    "\n",
    "![](https://github.com/springboard-curriculum/featuretools/blob/master/images/data_schema.png?raw=1)\n",
    "\n",
    "This schema is all the domain knowledge needed to perform automated feature engineering in Featuretools."
   ]
  },
  {
   "cell_type": "markdown",
   "metadata": {
    "id": "P5m_5hi5tkL9"
   },
   "source": [
    "# Define Entities and EntitySet\n",
    "\n",
    "The first step in using Featuretools is to make an `EntitySet` and add all the `entitys` - tables - to it. An EntitySet is a data structure that holds the tables and the relationships between them. This makes it easier to keep track of all the data in a problem with multiple relational tables."
   ]
  },
  {
   "cell_type": "code",
   "execution_count": 137,
   "metadata": {
    "id": "XC5nBVXktkL9"
   },
   "outputs": [],
   "source": [
    "import featuretools.variable_types as vtypes\n",
    "\n",
    "# Make empty entityset\n",
    "es = ft.EntitySet(id = 'customers')"
   ]
  },
  {
   "cell_type": "markdown",
   "metadata": {
    "id": "tok3yi8-tkL9"
   },
   "source": [
    "## Entities\n",
    "\n",
    "When creating entities from a dataframe, we need to make sure to include:\n",
    "\n",
    "* The `index` if there is one or a name for the created index. This is a unique identifier for each observation.\n",
    "* `make_index = True` if there is no index, we need to supply a name under `index` and set this to `True`.\n",
    "* A `time_index` if present. This is the time at which the information in the row becomes known. Featuretools will use the `time_index` and the `cutoff_time` to make valid features for each label.\n",
    "* `variable_types`. In some cases our data will have variables for which we should specify the type. An example would be a boolean that is represented as a float. This prevents Featuretools from making features such as the `min` or `max` of a True/False varaibles.\n",
    "\n",
    "For this problem these are the only arguments we'll need. There are additional arguments that can be used as shown in [the documentation](https://docs.featuretools.com/api_reference.html#entityset-entity-relationship-variable-types). \n",
    "\n",
    "### Members Table\n",
    "\n",
    "The `members` table holds basic information about each customer. The important point for this table is to specify that the `city` and `registered_via` columns are discrete, categorical variables and not numerical and that `registration_init_time` is the `time_index`. The `msno` is the unique index identifying each customer. "
   ]
  },
  {
   "cell_type": "code",
   "execution_count": null,
   "metadata": {
    "id": "pwi5jS3YtkL9",
    "outputId": "2735b2a0-8883-4ddb-8fdd-31966c87cba7"
   },
   "outputs": [
    {
     "data": {
      "text/html": [
       "<div>\n",
       "<style scoped>\n",
       "    .dataframe tbody tr th:only-of-type {\n",
       "        vertical-align: middle;\n",
       "    }\n",
       "\n",
       "    .dataframe tbody tr th {\n",
       "        vertical-align: top;\n",
       "    }\n",
       "\n",
       "    .dataframe thead th {\n",
       "        text-align: right;\n",
       "    }\n",
       "</style>\n",
       "<table border=\"1\" class=\"dataframe\">\n",
       "  <thead>\n",
       "    <tr style=\"text-align: right;\">\n",
       "      <th></th>\n",
       "      <th>msno</th>\n",
       "      <th>city</th>\n",
       "      <th>bd</th>\n",
       "      <th>gender</th>\n",
       "      <th>registered_via</th>\n",
       "      <th>registration_init_time</th>\n",
       "    </tr>\n",
       "  </thead>\n",
       "  <tbody>\n",
       "    <tr>\n",
       "      <th>0</th>\n",
       "      <td>8hW4+CV3D1oNM0CIsA39YljsF8M3m7g1LAX6AQd3C8I=</td>\n",
       "      <td>4</td>\n",
       "      <td>24</td>\n",
       "      <td>male</td>\n",
       "      <td>3</td>\n",
       "      <td>2014-11-04</td>\n",
       "    </tr>\n",
       "    <tr>\n",
       "      <th>1</th>\n",
       "      <td>yhcODfebyTYezE6KAPklcV1us9zdOYJ+7eHS7f/xgoU=</td>\n",
       "      <td>8</td>\n",
       "      <td>37</td>\n",
       "      <td>male</td>\n",
       "      <td>9</td>\n",
       "      <td>2007-02-11</td>\n",
       "    </tr>\n",
       "    <tr>\n",
       "      <th>2</th>\n",
       "      <td>sBlgSL0AIq49XsmBQ2KceKZNUyIxT1BwSkN/xYQLGMc=</td>\n",
       "      <td>15</td>\n",
       "      <td>21</td>\n",
       "      <td>male</td>\n",
       "      <td>3</td>\n",
       "      <td>2013-02-08</td>\n",
       "    </tr>\n",
       "    <tr>\n",
       "      <th>3</th>\n",
       "      <td>Xy3Au8sZKlEeHBQ+C7ro8Ni3X/dxgrtmx0Tt+jqM1zY=</td>\n",
       "      <td>1</td>\n",
       "      <td>0</td>\n",
       "      <td>NaN</td>\n",
       "      <td>9</td>\n",
       "      <td>2015-02-01</td>\n",
       "    </tr>\n",
       "    <tr>\n",
       "      <th>4</th>\n",
       "      <td>NiCu2GVWgT5QZbI85oYRBEDqHUZbzz2azS48jvM+khg=</td>\n",
       "      <td>12</td>\n",
       "      <td>21</td>\n",
       "      <td>male</td>\n",
       "      <td>3</td>\n",
       "      <td>2015-02-12</td>\n",
       "    </tr>\n",
       "  </tbody>\n",
       "</table>\n",
       "</div>"
      ],
      "text/plain": [
       "                                           msno  city  bd gender  \\\n",
       "0  8hW4+CV3D1oNM0CIsA39YljsF8M3m7g1LAX6AQd3C8I=     4  24   male   \n",
       "1  yhcODfebyTYezE6KAPklcV1us9zdOYJ+7eHS7f/xgoU=     8  37   male   \n",
       "2  sBlgSL0AIq49XsmBQ2KceKZNUyIxT1BwSkN/xYQLGMc=    15  21   male   \n",
       "3  Xy3Au8sZKlEeHBQ+C7ro8Ni3X/dxgrtmx0Tt+jqM1zY=     1   0    NaN   \n",
       "4  NiCu2GVWgT5QZbI85oYRBEDqHUZbzz2azS48jvM+khg=    12  21   male   \n",
       "\n",
       "   registered_via registration_init_time  \n",
       "0               3             2014-11-04  \n",
       "1               9             2007-02-11  \n",
       "2               3             2013-02-08  \n",
       "3               9             2015-02-01  \n",
       "4               3             2015-02-12  "
      ]
     },
     "execution_count": 5,
     "metadata": {},
     "output_type": "execute_result"
    }
   ],
   "source": [
    "members.head()"
   ]
  },
  {
   "cell_type": "code",
   "execution_count": 126,
   "metadata": {
    "id": "GK0SpDjZtkL-",
    "outputId": "69ff0f9d-e1d8-4044-e16b-26277730bdbf"
   },
   "outputs": [
    {
     "data": {
      "text/plain": [
       "True"
      ]
     },
     "execution_count": 126,
     "metadata": {},
     "output_type": "execute_result"
    }
   ],
   "source": [
    "members['msno'].is_unique"
   ]
  },
  {
   "cell_type": "code",
   "execution_count": 138,
   "metadata": {
    "id": "PtBfNK3ytkL-",
    "outputId": "73a155c9-55b9-41df-97d1-9c61cf6e3c80"
   },
   "outputs": [
    {
     "data": {
      "text/plain": [
       "Entityset: customers\n",
       "  Entities:\n",
       "    members [Rows: 6658, Columns: 6]\n",
       "  Relationships:\n",
       "    No relationships"
      ]
     },
     "execution_count": 138,
     "metadata": {},
     "output_type": "execute_result"
    }
   ],
   "source": [
    "# Create entity from members\n",
    "es.entity_from_dataframe(entity_id='members', dataframe=members,\n",
    "                         index = 'msno', time_index = 'registration_init_time', \n",
    "                         variable_types = {'city': vtypes.Categorical, \n",
    "                                           'registered_via': vtypes.Categorical})"
   ]
  },
  {
   "cell_type": "markdown",
   "metadata": {
    "id": "qoMYq5AltkL-"
   },
   "source": [
    "### Transactions Table\n",
    "\n",
    "The transactions table contains payments made by the customers. Each row records one payment. "
   ]
  },
  {
   "cell_type": "code",
   "execution_count": null,
   "metadata": {
    "id": "axXZyTrntkL-",
    "outputId": "1f83c031-e211-4a7e-9c8d-ae5c5999252f"
   },
   "outputs": [
    {
     "data": {
      "text/html": [
       "<div>\n",
       "<style scoped>\n",
       "    .dataframe tbody tr th:only-of-type {\n",
       "        vertical-align: middle;\n",
       "    }\n",
       "\n",
       "    .dataframe tbody tr th {\n",
       "        vertical-align: top;\n",
       "    }\n",
       "\n",
       "    .dataframe thead th {\n",
       "        text-align: right;\n",
       "    }\n",
       "</style>\n",
       "<table border=\"1\" class=\"dataframe\">\n",
       "  <thead>\n",
       "    <tr style=\"text-align: right;\">\n",
       "      <th></th>\n",
       "      <th>msno</th>\n",
       "      <th>payment_method_id</th>\n",
       "      <th>payment_plan_days</th>\n",
       "      <th>plan_list_price</th>\n",
       "      <th>actual_amount_paid</th>\n",
       "      <th>is_auto_renew</th>\n",
       "      <th>transaction_date</th>\n",
       "      <th>membership_expire_date</th>\n",
       "      <th>is_cancel</th>\n",
       "    </tr>\n",
       "  </thead>\n",
       "  <tbody>\n",
       "    <tr>\n",
       "      <th>0</th>\n",
       "      <td>5F7G3pHKf5ijGQpoKuko0G7Jm3Bde6ktfPKBZySWoDI=</td>\n",
       "      <td>41</td>\n",
       "      <td>30</td>\n",
       "      <td>99</td>\n",
       "      <td>99</td>\n",
       "      <td>1</td>\n",
       "      <td>2017-02-10</td>\n",
       "      <td>2017-03-10</td>\n",
       "      <td>0</td>\n",
       "    </tr>\n",
       "    <tr>\n",
       "      <th>1</th>\n",
       "      <td>DQMPoCSc6EB39ytgnKCRsUIZnR6ZWSrHeDmX7nbxAKs=</td>\n",
       "      <td>41</td>\n",
       "      <td>30</td>\n",
       "      <td>149</td>\n",
       "      <td>149</td>\n",
       "      <td>1</td>\n",
       "      <td>2016-02-01</td>\n",
       "      <td>2016-03-02</td>\n",
       "      <td>0</td>\n",
       "    </tr>\n",
       "    <tr>\n",
       "      <th>2</th>\n",
       "      <td>Lrais3nsgqYwpfpSoyK3fHuPutf6cloTI5T5dQfs4lA=</td>\n",
       "      <td>38</td>\n",
       "      <td>30</td>\n",
       "      <td>149</td>\n",
       "      <td>149</td>\n",
       "      <td>0</td>\n",
       "      <td>2016-02-23</td>\n",
       "      <td>2016-04-23</td>\n",
       "      <td>0</td>\n",
       "    </tr>\n",
       "    <tr>\n",
       "      <th>3</th>\n",
       "      <td>ZPOjgxQw1/J7v5xgBJTCLXWuwq5Xmk33nO6AoUO1+mY=</td>\n",
       "      <td>41</td>\n",
       "      <td>30</td>\n",
       "      <td>149</td>\n",
       "      <td>119</td>\n",
       "      <td>1</td>\n",
       "      <td>2015-09-06</td>\n",
       "      <td>2016-08-01</td>\n",
       "      <td>0</td>\n",
       "    </tr>\n",
       "    <tr>\n",
       "      <th>4</th>\n",
       "      <td>MvR23u4bIiWM+U+VE1Mvw3qqdj/0Ixs1sf7avavjhRs=</td>\n",
       "      <td>38</td>\n",
       "      <td>30</td>\n",
       "      <td>149</td>\n",
       "      <td>149</td>\n",
       "      <td>0</td>\n",
       "      <td>2016-10-28</td>\n",
       "      <td>2016-11-27</td>\n",
       "      <td>0</td>\n",
       "    </tr>\n",
       "  </tbody>\n",
       "</table>\n",
       "</div>"
      ],
      "text/plain": [
       "                                           msno  payment_method_id  \\\n",
       "0  5F7G3pHKf5ijGQpoKuko0G7Jm3Bde6ktfPKBZySWoDI=                 41   \n",
       "1  DQMPoCSc6EB39ytgnKCRsUIZnR6ZWSrHeDmX7nbxAKs=                 41   \n",
       "2  Lrais3nsgqYwpfpSoyK3fHuPutf6cloTI5T5dQfs4lA=                 38   \n",
       "3  ZPOjgxQw1/J7v5xgBJTCLXWuwq5Xmk33nO6AoUO1+mY=                 41   \n",
       "4  MvR23u4bIiWM+U+VE1Mvw3qqdj/0Ixs1sf7avavjhRs=                 38   \n",
       "\n",
       "   payment_plan_days  plan_list_price  actual_amount_paid  is_auto_renew  \\\n",
       "0                 30               99                  99              1   \n",
       "1                 30              149                 149              1   \n",
       "2                 30              149                 149              0   \n",
       "3                 30              149                 119              1   \n",
       "4                 30              149                 149              0   \n",
       "\n",
       "  transaction_date membership_expire_date  is_cancel  \n",
       "0       2017-02-10             2017-03-10          0  \n",
       "1       2016-02-01             2016-03-02          0  \n",
       "2       2016-02-23             2016-04-23          0  \n",
       "3       2015-09-06             2016-08-01          0  \n",
       "4       2016-10-28             2016-11-27          0  "
      ]
     },
     "execution_count": 8,
     "metadata": {},
     "output_type": "execute_result"
    }
   ],
   "source": [
    "trans.head()"
   ]
  },
  {
   "cell_type": "code",
   "execution_count": 40,
   "metadata": {},
   "outputs": [
    {
     "data": {
      "text/plain": [
       "0         99\n",
       "1        149\n",
       "2        149\n",
       "3        119\n",
       "4        149\n",
       "        ... \n",
       "22935    149\n",
       "22936     99\n",
       "22937     99\n",
       "22938     99\n",
       "22939     99\n",
       "Name: actual_amount_paid, Length: 22940, dtype: int64"
      ]
     },
     "execution_count": 40,
     "metadata": {},
     "output_type": "execute_result"
    }
   ],
   "source": [
    "trans.iloc[: , 4]"
   ]
  },
  {
   "cell_type": "code",
   "execution_count": 44,
   "metadata": {},
   "outputs": [
    {
     "data": {
      "text/plain": [
       "0         99\n",
       "1        149\n",
       "2        149\n",
       "3        119\n",
       "4        149\n",
       "        ... \n",
       "22935    149\n",
       "22936     99\n",
       "22937     99\n",
       "22938     99\n",
       "22939     99\n",
       "Name: actual_amount_paid, Length: 22940, dtype: int64"
      ]
     },
     "execution_count": 44,
     "metadata": {},
     "output_type": "execute_result"
    }
   ],
   "source": [
    "trans.loc [:, 'actual_amount_paid' ]"
   ]
  },
  {
   "cell_type": "code",
   "execution_count": 48,
   "metadata": {
    "id": "jciO2D1KtkL-",
    "outputId": "a7cc2abd-cde0-40c0-feff-1c08ac88eab9"
   },
   "outputs": [
    {
     "data": {
      "image/png": "[encoded data removed]",
      "text/plain": [
       "<Figure size 720x432 with 1 Axes>"
      ]
     },
     "metadata": {},
     "output_type": "display_data"
    }
   ],
   "source": [
    "import matplotlib.pyplot as plt\n",
    "%matplotlib inline\n",
    "plt.style.use('fivethirtyeight')\n",
    "#plt.rcParams['figure.figsize'] = (10, 6)\n",
    "params= plt.rcParams\n",
    "\n",
    "params['figure.figsize'] = (10, 6)\n",
    "params['font.family'] = 'arial'\n",
    "\n",
    "\n",
    "trans.loc[trans['actual_amount_paid'] < 250, 'actual_amount_paid'].dropna().plot.hist(bins = 30);\n",
    "plt.title('Paid actual amount distribution');"
   ]
  },
  {
   "cell_type": "markdown",
   "metadata": {
    "id": "YK7n9b_3tkL-"
   },
   "source": [
    "#### Domain Knowledge Features\n",
    "\n",
    "Before creating the entity from this dataframe, we can create a few new variables based on domain knowledge. Just because we are automatically going to make hundreds of features doesn't mean we can't use our own expertise. Featuretools will build on top of our knowledge by stacking more primitives on top of any variables that we define."
   ]
  },
  {
   "cell_type": "code",
   "execution_count": 139,
   "metadata": {
    "id": "lH6jhU2BtkL-",
    "outputId": "55c145d6-b664-4c92-d848-2503a2c2073f"
   },
   "outputs": [
    {
     "data": {
      "image/png": "[encoded data removed]",
      "text/plain": [
       "<Figure size 576x432 with 1 Axes>"
      ]
     },
     "metadata": {},
     "output_type": "display_data"
    }
   ],
   "source": [
    "# Difference between listing price and price paid\n",
    "trans['price_difference'] = trans['plan_list_price'] - trans['actual_amount_paid']\n",
    "\n",
    "# Planned price per day\n",
    "trans['planned_daily_price'] = trans['plan_list_price'] / trans['payment_plan_days']\n",
    "\n",
    "# Actual price per day\n",
    "trans['daily_price'] = trans['actual_amount_paid'] / trans['payment_plan_days']\n",
    "\n",
    "trans.loc[trans['price_difference'] > 0, 'price_difference'].plot.hist(bins = 30, \n",
    "                                                                       figsize = (8, 6));\n",
    "plt.title('Dfiference between List Price and Price Paid');"
   ]
  },
  {
   "cell_type": "markdown",
   "metadata": {
    "id": "7ADZ4uGNtkL-"
   },
   "source": [
    "There is no `index` in this dataframe so we have to specify to make an index and pass in a name. There is a `time_index`, the time of the transaction, which will be critical when filtering data based on cutoff times to make features. Again, we also need to specify several variable types.\n",
    "\n",
    "There is one slight anomaly with the transactions where some membership expire dates are after the transactions date, so we will filter those out."
   ]
  },
  {
   "cell_type": "code",
   "execution_count": 140,
   "metadata": {
    "id": "Gz5MMstZtkL_"
   },
   "outputs": [],
   "source": [
    "# Filter anomalies\n",
    "trans = trans[trans['membership_expire_date'] > trans['transaction_date']]"
   ]
  },
  {
   "cell_type": "code",
   "execution_count": 141,
   "metadata": {
    "id": "N7udfvXgtkL_",
    "outputId": "f2dcff29-cd72-476f-83d4-0abb4bbc7d8d"
   },
   "outputs": [
    {
     "data": {
      "text/plain": [
       "Entityset: customers\n",
       "  Entities:\n",
       "    members [Rows: 6658, Columns: 6]\n",
       "    transactions [Rows: 22329, Columns: 13]\n",
       "  Relationships:\n",
       "    No relationships"
      ]
     },
     "execution_count": 141,
     "metadata": {},
     "output_type": "execute_result"
    }
   ],
   "source": [
    "# Create entity from transactions\n",
    "es.entity_from_dataframe(entity_id='transactions', dataframe=trans,\n",
    "                         index = 'transactions_index', make_index = True,\n",
    "                         time_index = 'transaction_date', \n",
    "                         variable_types = {'payment_method_id': vtypes.Categorical, \n",
    "                                           'is_auto_renew': vtypes.Boolean, 'is_cancel': vtypes.Boolean})"
   ]
  },
  {
   "cell_type": "markdown",
   "metadata": {
    "id": "zoO5YJhTtkL_"
   },
   "source": [
    "### Logs\n",
    "\n",
    "The `logs` contain user listening behavior. As before we'll make a few domain knowledge columns before adding to the `EntitySet`. "
   ]
  },
  {
   "cell_type": "code",
   "execution_count": null,
   "metadata": {
    "id": "bPir9KxAtkL_",
    "outputId": "2d5d296e-9daf-4f45-c346-2392bbcf3f45"
   },
   "outputs": [
    {
     "data": {
      "text/html": [
       "<div>\n",
       "<style scoped>\n",
       "    .dataframe tbody tr th:only-of-type {\n",
       "        vertical-align: middle;\n",
       "    }\n",
       "\n",
       "    .dataframe tbody tr th {\n",
       "        vertical-align: top;\n",
       "    }\n",
       "\n",
       "    .dataframe thead th {\n",
       "        text-align: right;\n",
       "    }\n",
       "</style>\n",
       "<table border=\"1\" class=\"dataframe\">\n",
       "  <thead>\n",
       "    <tr style=\"text-align: right;\">\n",
       "      <th></th>\n",
       "      <th>msno</th>\n",
       "      <th>date</th>\n",
       "      <th>num_25</th>\n",
       "      <th>num_50</th>\n",
       "      <th>num_75</th>\n",
       "      <th>num_985</th>\n",
       "      <th>num_100</th>\n",
       "      <th>num_unq</th>\n",
       "      <th>total_secs</th>\n",
       "    </tr>\n",
       "  </thead>\n",
       "  <tbody>\n",
       "    <tr>\n",
       "      <th>0</th>\n",
       "      <td>6+/V1NwBbqjBOCvRSDueeJZ58F4DY7h7fG6fSZtHaAE=</td>\n",
       "      <td>2017-03-04</td>\n",
       "      <td>29</td>\n",
       "      <td>28</td>\n",
       "      <td>18</td>\n",
       "      <td>11</td>\n",
       "      <td>111</td>\n",
       "      <td>79</td>\n",
       "      <td>34727.142</td>\n",
       "    </tr>\n",
       "    <tr>\n",
       "      <th>1</th>\n",
       "      <td>E2aBGFTKR6jzp+1knh7JOOF39gLuu+CoZMWaAL/DA0M=</td>\n",
       "      <td>2017-03-27</td>\n",
       "      <td>1</td>\n",
       "      <td>0</td>\n",
       "      <td>2</td>\n",
       "      <td>0</td>\n",
       "      <td>184</td>\n",
       "      <td>173</td>\n",
       "      <td>33408.719</td>\n",
       "    </tr>\n",
       "    <tr>\n",
       "      <th>2</th>\n",
       "      <td>g7exJzakJlHXwzUydnShY5w24WXSwJyS6QqgoFeyr7g=</td>\n",
       "      <td>2017-03-15</td>\n",
       "      <td>0</td>\n",
       "      <td>0</td>\n",
       "      <td>0</td>\n",
       "      <td>0</td>\n",
       "      <td>21</td>\n",
       "      <td>21</td>\n",
       "      <td>4951.000</td>\n",
       "    </tr>\n",
       "    <tr>\n",
       "      <th>3</th>\n",
       "      <td>X+i9OmM3P42cETt5gPkOnz8vXGViQL5/M/NMiMQ+Olc=</td>\n",
       "      <td>2017-03-13</td>\n",
       "      <td>3</td>\n",
       "      <td>1</td>\n",
       "      <td>0</td>\n",
       "      <td>0</td>\n",
       "      <td>33</td>\n",
       "      <td>27</td>\n",
       "      <td>8755.599</td>\n",
       "    </tr>\n",
       "    <tr>\n",
       "      <th>4</th>\n",
       "      <td>tbl8blAVl6j4A8zW1Gnyg78Hc0LAQzzcYesmzgJ7ofs=</td>\n",
       "      <td>2017-03-27</td>\n",
       "      <td>6</td>\n",
       "      <td>5</td>\n",
       "      <td>0</td>\n",
       "      <td>0</td>\n",
       "      <td>2</td>\n",
       "      <td>6</td>\n",
       "      <td>1035.853</td>\n",
       "    </tr>\n",
       "  </tbody>\n",
       "</table>\n",
       "</div>"
      ],
      "text/plain": [
       "                                           msno       date  num_25  num_50  \\\n",
       "0  6+/V1NwBbqjBOCvRSDueeJZ58F4DY7h7fG6fSZtHaAE= 2017-03-04      29      28   \n",
       "1  E2aBGFTKR6jzp+1knh7JOOF39gLuu+CoZMWaAL/DA0M= 2017-03-27       1       0   \n",
       "2  g7exJzakJlHXwzUydnShY5w24WXSwJyS6QqgoFeyr7g= 2017-03-15       0       0   \n",
       "3  X+i9OmM3P42cETt5gPkOnz8vXGViQL5/M/NMiMQ+Olc= 2017-03-13       3       1   \n",
       "4  tbl8blAVl6j4A8zW1Gnyg78Hc0LAQzzcYesmzgJ7ofs= 2017-03-27       6       5   \n",
       "\n",
       "   num_75  num_985  num_100  num_unq  total_secs  \n",
       "0      18       11      111       79   34727.142  \n",
       "1       2        0      184      173   33408.719  \n",
       "2       0        0       21       21    4951.000  \n",
       "3       0        0       33       27    8755.599  \n",
       "4       0        0        2        6    1035.853  "
      ]
     },
     "execution_count": 13,
     "metadata": {},
     "output_type": "execute_result"
    }
   ],
   "source": [
    "logs.head()"
   ]
  },
  {
   "cell_type": "code",
   "execution_count": 52,
   "metadata": {
    "id": "D-hVTZNttkL_",
    "outputId": "f4f7f446-6cbc-4fd7-9fb3-628694162bad"
   },
   "outputs": [
    {
     "data": {
      "image/png": "[encoded data removed]",
      "text/plain": [
       "<Figure size 720x432 with 1 Axes>"
      ]
     },
     "metadata": {},
     "output_type": "display_data"
    }
   ],
   "source": [
    "# Make a few features by hand\n",
    "logs['total'] = logs[['num_25', 'num_50', 'num_75', 'num_985', 'num_100']].sum(axis = 1)\n",
    "logs['percent_100'] = logs['num_100'] / logs['total']\n",
    "logs['percent_unique'] = logs['num_unq'] / logs['total']\n",
    "logs['seconds_per_song'] = logs['total_secs'] / logs['total'] \n",
    "\n",
    "import seaborn as sns\n",
    "\n",
    "sns.kdeplot(logs['total']);\n",
    "plt.title('Distribution of Total Number of Songs');"
   ]
  },
  {
   "cell_type": "code",
   "execution_count": 110,
   "metadata": {
    "id": "rCaUTJv6tkL_",
    "outputId": "9e478577-62b4-463b-a882-26ac72d25053"
   },
   "outputs": [
    {
     "data": {
      "image/png": "[encoded data removed]",
      "text/plain": [
       "<Figure size 720x432 with 1 Axes>"
      ]
     },
     "metadata": {},
     "output_type": "display_data"
    }
   ],
   "source": [
    "sns.kdeplot(logs['percent_100']);\n",
    "plt.title('Distribution of Percentage of Songs Listened to Completion');"
   ]
  },
  {
   "cell_type": "markdown",
   "metadata": {
    "id": "PYV26SX3tkL_"
   },
   "source": [
    "There is `time_index` in the logs although no `index` present."
   ]
  },
  {
   "cell_type": "code",
   "execution_count": 142,
   "metadata": {
    "id": "UtRmrcp8tkL_",
    "outputId": "fbd7544b-1587-4b39-ea08-352c413100ee"
   },
   "outputs": [
    {
     "data": {
      "text/plain": [
       "Entityset: customers\n",
       "  Entities:\n",
       "    members [Rows: 6658, Columns: 6]\n",
       "    transactions [Rows: 22329, Columns: 13]\n",
       "    logs [Rows: 87658, Columns: 10]\n",
       "  Relationships:\n",
       "    No relationships"
      ]
     },
     "execution_count": 142,
     "metadata": {},
     "output_type": "execute_result"
    }
   ],
   "source": [
    "es.entity_from_dataframe(entity_id='logs', dataframe=logs,\n",
    "                         index = 'logs_index', make_index = True,\n",
    "                         time_index = 'date')"
   ]
  },
  {
   "cell_type": "code",
   "execution_count": 157,
   "metadata": {},
   "outputs": [
    {
     "data": {
      "text/html": [
       "<div>\n",
       "<style scoped>\n",
       "    .dataframe tbody tr th:only-of-type {\n",
       "        vertical-align: middle;\n",
       "    }\n",
       "\n",
       "    .dataframe tbody tr th {\n",
       "        vertical-align: top;\n",
       "    }\n",
       "\n",
       "    .dataframe thead th {\n",
       "        text-align: right;\n",
       "    }\n",
       "</style>\n",
       "<table border=\"1\" class=\"dataframe\">\n",
       "  <thead>\n",
       "    <tr style=\"text-align: right;\">\n",
       "      <th></th>\n",
       "      <th>msno</th>\n",
       "      <th>bd</th>\n",
       "      <th>gender</th>\n",
       "      <th>registration_init_time</th>\n",
       "      <th>city</th>\n",
       "      <th>registered_via</th>\n",
       "    </tr>\n",
       "  </thead>\n",
       "  <tbody>\n",
       "    <tr>\n",
       "      <th>0Av7bk+3pPmkXj4ZwXFvO1xGdyTXHdFC2rbl8RTcHik=</th>\n",
       "      <td>0Av7bk+3pPmkXj4ZwXFvO1xGdyTXHdFC2rbl8RTcHik=</td>\n",
       "      <td>28</td>\n",
       "      <td>female</td>\n",
       "      <td>2004-03-27</td>\n",
       "      <td>13</td>\n",
       "      <td>9</td>\n",
       "    </tr>\n",
       "    <tr>\n",
       "      <th>9N+q58Vl33+QW6zHwivroNlgJw88g9ghwX/ke+OhgtM=</th>\n",
       "      <td>9N+q58Vl33+QW6zHwivroNlgJw88g9ghwX/ke+OhgtM=</td>\n",
       "      <td>0</td>\n",
       "      <td>female</td>\n",
       "      <td>2004-03-27</td>\n",
       "      <td>15</td>\n",
       "      <td>9</td>\n",
       "    </tr>\n",
       "    <tr>\n",
       "      <th>9rzbu7TiCDnfkSXSx9O0DZhmEBSncZ0VBmS2l1b5kg8=</th>\n",
       "      <td>9rzbu7TiCDnfkSXSx9O0DZhmEBSncZ0VBmS2l1b5kg8=</td>\n",
       "      <td>34</td>\n",
       "      <td>male</td>\n",
       "      <td>2004-03-27</td>\n",
       "      <td>22</td>\n",
       "      <td>9</td>\n",
       "    </tr>\n",
       "    <tr>\n",
       "      <th>HGB6FSywR6chH7I0wfBTORrxsNnWzC1jld6z0irUd+8=</th>\n",
       "      <td>HGB6FSywR6chH7I0wfBTORrxsNnWzC1jld6z0irUd+8=</td>\n",
       "      <td>32</td>\n",
       "      <td>female</td>\n",
       "      <td>2004-03-27</td>\n",
       "      <td>5</td>\n",
       "      <td>9</td>\n",
       "    </tr>\n",
       "    <tr>\n",
       "      <th>EaWla77Wke5BymN0uy12PqXl//nysa4iU4m8Ac7WxqE=</th>\n",
       "      <td>EaWla77Wke5BymN0uy12PqXl//nysa4iU4m8Ac7WxqE=</td>\n",
       "      <td>25</td>\n",
       "      <td>male</td>\n",
       "      <td>2004-03-29</td>\n",
       "      <td>21</td>\n",
       "      <td>9</td>\n",
       "    </tr>\n",
       "    <tr>\n",
       "      <th>...</th>\n",
       "      <td>...</td>\n",
       "      <td>...</td>\n",
       "      <td>...</td>\n",
       "      <td>...</td>\n",
       "      <td>...</td>\n",
       "      <td>...</td>\n",
       "    </tr>\n",
       "    <tr>\n",
       "      <th>C018u6Z3bKhdLevKHfd4qTpjH1ErbpOfQEXE54McQ8Q=</th>\n",
       "      <td>C018u6Z3bKhdLevKHfd4qTpjH1ErbpOfQEXE54McQ8Q=</td>\n",
       "      <td>53</td>\n",
       "      <td>female</td>\n",
       "      <td>2017-04-28</td>\n",
       "      <td>5</td>\n",
       "      <td>3</td>\n",
       "    </tr>\n",
       "    <tr>\n",
       "      <th>ieEL4ucldp75Ej+cuuLQm0Lybq8eNfvvB2gubl0gX+Y=</th>\n",
       "      <td>ieEL4ucldp75Ej+cuuLQm0Lybq8eNfvvB2gubl0gX+Y=</td>\n",
       "      <td>26</td>\n",
       "      <td>female</td>\n",
       "      <td>2017-04-28</td>\n",
       "      <td>5</td>\n",
       "      <td>3</td>\n",
       "    </tr>\n",
       "    <tr>\n",
       "      <th>Emm3bVSldO9dEjGZxZl3s+CxNG97aLc4DlYxXyQxDIo=</th>\n",
       "      <td>Emm3bVSldO9dEjGZxZl3s+CxNG97aLc4DlYxXyQxDIo=</td>\n",
       "      <td>0</td>\n",
       "      <td>NaN</td>\n",
       "      <td>2017-04-29</td>\n",
       "      <td>1</td>\n",
       "      <td>9</td>\n",
       "    </tr>\n",
       "    <tr>\n",
       "      <th>WDlhgZYDaWFiJqmSwDc8lYjHqxZMJ9HVZpUAA1B34rU=</th>\n",
       "      <td>WDlhgZYDaWFiJqmSwDc8lYjHqxZMJ9HVZpUAA1B34rU=</td>\n",
       "      <td>44</td>\n",
       "      <td>female</td>\n",
       "      <td>2017-04-29</td>\n",
       "      <td>1</td>\n",
       "      <td>3</td>\n",
       "    </tr>\n",
       "    <tr>\n",
       "      <th>goCIpVI8tqU9yGFyCM1Ed3JqmcFi3zvJWPci8lV8R88=</th>\n",
       "      <td>goCIpVI8tqU9yGFyCM1Ed3JqmcFi3zvJWPci8lV8R88=</td>\n",
       "      <td>19</td>\n",
       "      <td>female</td>\n",
       "      <td>2017-04-29</td>\n",
       "      <td>1</td>\n",
       "      <td>3</td>\n",
       "    </tr>\n",
       "  </tbody>\n",
       "</table>\n",
       "<p>6658 rows × 6 columns</p>\n",
       "</div>"
      ],
      "text/plain": [
       "                                                                                      msno  \\\n",
       "0Av7bk+3pPmkXj4ZwXFvO1xGdyTXHdFC2rbl8RTcHik=  0Av7bk+3pPmkXj4ZwXFvO1xGdyTXHdFC2rbl8RTcHik=   \n",
       "9N+q58Vl33+QW6zHwivroNlgJw88g9ghwX/ke+OhgtM=  9N+q58Vl33+QW6zHwivroNlgJw88g9ghwX/ke+OhgtM=   \n",
       "9rzbu7TiCDnfkSXSx9O0DZhmEBSncZ0VBmS2l1b5kg8=  9rzbu7TiCDnfkSXSx9O0DZhmEBSncZ0VBmS2l1b5kg8=   \n",
       "HGB6FSywR6chH7I0wfBTORrxsNnWzC1jld6z0irUd+8=  HGB6FSywR6chH7I0wfBTORrxsNnWzC1jld6z0irUd+8=   \n",
       "EaWla77Wke5BymN0uy12PqXl//nysa4iU4m8Ac7WxqE=  EaWla77Wke5BymN0uy12PqXl//nysa4iU4m8Ac7WxqE=   \n",
       "...                                                                                    ...   \n",
       "C018u6Z3bKhdLevKHfd4qTpjH1ErbpOfQEXE54McQ8Q=  C018u6Z3bKhdLevKHfd4qTpjH1ErbpOfQEXE54McQ8Q=   \n",
       "ieEL4ucldp75Ej+cuuLQm0Lybq8eNfvvB2gubl0gX+Y=  ieEL4ucldp75Ej+cuuLQm0Lybq8eNfvvB2gubl0gX+Y=   \n",
       "Emm3bVSldO9dEjGZxZl3s+CxNG97aLc4DlYxXyQxDIo=  Emm3bVSldO9dEjGZxZl3s+CxNG97aLc4DlYxXyQxDIo=   \n",
       "WDlhgZYDaWFiJqmSwDc8lYjHqxZMJ9HVZpUAA1B34rU=  WDlhgZYDaWFiJqmSwDc8lYjHqxZMJ9HVZpUAA1B34rU=   \n",
       "goCIpVI8tqU9yGFyCM1Ed3JqmcFi3zvJWPci8lV8R88=  goCIpVI8tqU9yGFyCM1Ed3JqmcFi3zvJWPci8lV8R88=   \n",
       "\n",
       "                                              bd  gender  \\\n",
       "0Av7bk+3pPmkXj4ZwXFvO1xGdyTXHdFC2rbl8RTcHik=  28  female   \n",
       "9N+q58Vl33+QW6zHwivroNlgJw88g9ghwX/ke+OhgtM=   0  female   \n",
       "9rzbu7TiCDnfkSXSx9O0DZhmEBSncZ0VBmS2l1b5kg8=  34    male   \n",
       "HGB6FSywR6chH7I0wfBTORrxsNnWzC1jld6z0irUd+8=  32  female   \n",
       "EaWla77Wke5BymN0uy12PqXl//nysa4iU4m8Ac7WxqE=  25    male   \n",
       "...                                           ..     ...   \n",
       "C018u6Z3bKhdLevKHfd4qTpjH1ErbpOfQEXE54McQ8Q=  53  female   \n",
       "ieEL4ucldp75Ej+cuuLQm0Lybq8eNfvvB2gubl0gX+Y=  26  female   \n",
       "Emm3bVSldO9dEjGZxZl3s+CxNG97aLc4DlYxXyQxDIo=   0     NaN   \n",
       "WDlhgZYDaWFiJqmSwDc8lYjHqxZMJ9HVZpUAA1B34rU=  44  female   \n",
       "goCIpVI8tqU9yGFyCM1Ed3JqmcFi3zvJWPci8lV8R88=  19  female   \n",
       "\n",
       "                                             registration_init_time  city  \\\n",
       "0Av7bk+3pPmkXj4ZwXFvO1xGdyTXHdFC2rbl8RTcHik=             2004-03-27    13   \n",
       "9N+q58Vl33+QW6zHwivroNlgJw88g9ghwX/ke+OhgtM=             2004-03-27    15   \n",
       "9rzbu7TiCDnfkSXSx9O0DZhmEBSncZ0VBmS2l1b5kg8=             2004-03-27    22   \n",
       "HGB6FSywR6chH7I0wfBTORrxsNnWzC1jld6z0irUd+8=             2004-03-27     5   \n",
       "EaWla77Wke5BymN0uy12PqXl//nysa4iU4m8Ac7WxqE=             2004-03-29    21   \n",
       "...                                                             ...   ...   \n",
       "C018u6Z3bKhdLevKHfd4qTpjH1ErbpOfQEXE54McQ8Q=             2017-04-28     5   \n",
       "ieEL4ucldp75Ej+cuuLQm0Lybq8eNfvvB2gubl0gX+Y=             2017-04-28     5   \n",
       "Emm3bVSldO9dEjGZxZl3s+CxNG97aLc4DlYxXyQxDIo=             2017-04-29     1   \n",
       "WDlhgZYDaWFiJqmSwDc8lYjHqxZMJ9HVZpUAA1B34rU=             2017-04-29     1   \n",
       "goCIpVI8tqU9yGFyCM1Ed3JqmcFi3zvJWPci8lV8R88=             2017-04-29     1   \n",
       "\n",
       "                                              registered_via  \n",
       "0Av7bk+3pPmkXj4ZwXFvO1xGdyTXHdFC2rbl8RTcHik=               9  \n",
       "9N+q58Vl33+QW6zHwivroNlgJw88g9ghwX/ke+OhgtM=               9  \n",
       "9rzbu7TiCDnfkSXSx9O0DZhmEBSncZ0VBmS2l1b5kg8=               9  \n",
       "HGB6FSywR6chH7I0wfBTORrxsNnWzC1jld6z0irUd+8=               9  \n",
       "EaWla77Wke5BymN0uy12PqXl//nysa4iU4m8Ac7WxqE=               9  \n",
       "...                                                      ...  \n",
       "C018u6Z3bKhdLevKHfd4qTpjH1ErbpOfQEXE54McQ8Q=               3  \n",
       "ieEL4ucldp75Ej+cuuLQm0Lybq8eNfvvB2gubl0gX+Y=               3  \n",
       "Emm3bVSldO9dEjGZxZl3s+CxNG97aLc4DlYxXyQxDIo=               9  \n",
       "WDlhgZYDaWFiJqmSwDc8lYjHqxZMJ9HVZpUAA1B34rU=               3  \n",
       "goCIpVI8tqU9yGFyCM1Ed3JqmcFi3zvJWPci8lV8R88=               3  \n",
       "\n",
       "[6658 rows x 6 columns]"
      ]
     },
     "execution_count": 157,
     "metadata": {},
     "output_type": "execute_result"
    }
   ],
   "source": [
    "#Slicing into an entity as an example\n",
    "es['members'].df"
   ]
  },
  {
   "cell_type": "markdown",
   "metadata": {
    "id": "Uzw2VKp7tkL_"
   },
   "source": [
    "Making features by hand may seem counterintuitive if we are using automated feature engineering, but the benefits of doing this before using Featuretools is that these features can be stacked on top of to build deep features. Automated feature engineering will therefore take our existing hand-built features and extract more value from them by combining them with other features.\n",
    "\n",
    "Another method to improve the power of deep feature synthesis is through interesting values, which specify conditional statements used to build features."
   ]
  },
  {
   "cell_type": "markdown",
   "metadata": {
    "id": "KLVm6jhRtkMA"
   },
   "source": [
    "### Interesting Values\n",
    "\n",
    "In order to create conditional features, we can set interesting values for existing columns in the data. The following code will be used to build features conditional on the value of `is_cancel` and `is_auto_renew` in the transactions data. The primitives used for the conditional features are specified as `where_primitives` in the call to Deep Feature Synthesis. For example, if we used a `mean` primitive along with the following interesting values, we will get a mean of transactions where the transaction was cancelled, as well as the mean of transactions where the transaction was not cancelled. "
   ]
  },
  {
   "cell_type": "code",
   "execution_count": 158,
   "metadata": {
    "id": "diQ_4wujtkMA"
   },
   "outputs": [],
   "source": [
    "es['transactions']['is_cancel'].interesting_values = [0, 1]\n",
    "es['transactions']['is_auto_renew'].interesting_values = [0, 1]"
   ]
  },
  {
   "cell_type": "code",
   "execution_count": 159,
   "metadata": {},
   "outputs": [
    {
     "data": {
      "text/plain": [
       "Entityset: customers\n",
       "  Entities:\n",
       "    members [Rows: 6658, Columns: 6]\n",
       "    transactions [Rows: 22329, Columns: 13]\n",
       "    logs [Rows: 87658, Columns: 10]\n",
       "  Relationships:\n",
       "    No relationships"
      ]
     },
     "execution_count": 159,
     "metadata": {},
     "output_type": "execute_result"
    }
   ],
   "source": [
    "es"
   ]
  },
  {
   "cell_type": "markdown",
   "metadata": {
    "id": "lN-hndOPtkMA"
   },
   "source": [
    "# Relationships\n",
    "\n",
    "Table relationships should be familiar to anyone who has worked with relational databases and the idea is the same in Featuretools. We use relationships to specify how examples in one table relate to examples in other tables. The entityset structure for this problem is fairly simple as there are only three entities with two relationships.  `members` is the parent of `logs` and `transactions`. In both relationships, the parent and child variable is `msno`, the customer id.\n",
    "\n",
    "The two relationships are: one linking `members` to `transactions` and one linking `members` to `logs`. The order for relationships in featuretools is parent variable, child variable."
   ]
  },
  {
   "cell_type": "code",
   "execution_count": 160,
   "metadata": {
    "id": "4mB2ksRgtkMA",
    "outputId": "9c8fd30d-70f8-4c2c-d539-44322560ca0b"
   },
   "outputs": [
    {
     "data": {
      "text/plain": [
       "Entityset: customers\n",
       "  Entities:\n",
       "    members [Rows: 6658, Columns: 6]\n",
       "    transactions [Rows: 22329, Columns: 13]\n",
       "    logs [Rows: 87658, Columns: 10]\n",
       "  Relationships:\n",
       "    transactions.msno -> members.msno\n",
       "    logs.msno -> members.msno"
      ]
     },
     "execution_count": 160,
     "metadata": {},
     "output_type": "execute_result"
    }
   ],
   "source": [
    "# Relationships (parent, child)\n",
    "r_member_transactions = ft.Relationship(es['members']['msno'], es['transactions']['msno'])\n",
    "r_member_logs = ft.Relationship(es['members']['msno'], es['logs']['msno'])\n",
    "\n",
    "es.add_relationships([r_member_transactions, r_member_logs])"
   ]
  },
  {
   "cell_type": "markdown",
   "metadata": {
    "id": "TCEQS9u_tkMA"
   },
   "source": [
    "### Cutoff Times\n",
    "\n",
    "`cutoff_times` are a critical piece of any time based machine learning problem. The label times dataframe has columns of member id, cutoff time, and label. __For each cutoff time, only data from before the cutoff time can be used to build features for that label.__ This is one of the greatest advantages of Featuretools compared to manual feature engineering: __Featuretools automatically filters our data based on the cutoff times to ensure that all the features are valid for machine learning.__ Normally, we would have to take extreme care to make sure all of our features are valid, but Featreutools is able to implement the filtering logic behind the scenes for us.\n",
    "\n",
    "All we have to do is make sure to pass in the correct label times for the prediction problem we want to solve."
   ]
  },
  {
   "cell_type": "code",
   "execution_count": 165,
   "metadata": {},
   "outputs": [
    {
     "data": {
      "text/html": [
       "<div>\n",
       "<style scoped>\n",
       "    .dataframe tbody tr th:only-of-type {\n",
       "        vertical-align: middle;\n",
       "    }\n",
       "\n",
       "    .dataframe tbody tr th {\n",
       "        vertical-align: top;\n",
       "    }\n",
       "\n",
       "    .dataframe thead th {\n",
       "        text-align: right;\n",
       "    }\n",
       "</style>\n",
       "<table border=\"1\" class=\"dataframe\">\n",
       "  <thead>\n",
       "    <tr style=\"text-align: right;\">\n",
       "      <th></th>\n",
       "      <th>msno</th>\n",
       "      <th>time</th>\n",
       "      <th>label</th>\n",
       "      <th>days_to_churn</th>\n",
       "      <th>churn_date</th>\n",
       "    </tr>\n",
       "  </thead>\n",
       "  <tbody>\n",
       "    <tr>\n",
       "      <th>0</th>\n",
       "      <td>++bK0FRJecXCogqXdjtO2Kyb3jq7uLM7qThTk+nN8tE=</td>\n",
       "      <td>2015-08-01</td>\n",
       "      <td>0.0</td>\n",
       "      <td>NaN</td>\n",
       "      <td>NaN</td>\n",
       "    </tr>\n",
       "    <tr>\n",
       "      <th>1</th>\n",
       "      <td>++bK0FRJecXCogqXdjtO2Kyb3jq7uLM7qThTk+nN8tE=</td>\n",
       "      <td>2015-09-01</td>\n",
       "      <td>0.0</td>\n",
       "      <td>NaN</td>\n",
       "      <td>NaN</td>\n",
       "    </tr>\n",
       "    <tr>\n",
       "      <th>2</th>\n",
       "      <td>++bK0FRJecXCogqXdjtO2Kyb3jq7uLM7qThTk+nN8tE=</td>\n",
       "      <td>2015-10-01</td>\n",
       "      <td>0.0</td>\n",
       "      <td>NaN</td>\n",
       "      <td>NaN</td>\n",
       "    </tr>\n",
       "    <tr>\n",
       "      <th>3</th>\n",
       "      <td>++bK0FRJecXCogqXdjtO2Kyb3jq7uLM7qThTk+nN8tE=</td>\n",
       "      <td>2015-11-01</td>\n",
       "      <td>0.0</td>\n",
       "      <td>NaN</td>\n",
       "      <td>NaN</td>\n",
       "    </tr>\n",
       "    <tr>\n",
       "      <th>4</th>\n",
       "      <td>++bK0FRJecXCogqXdjtO2Kyb3jq7uLM7qThTk+nN8tE=</td>\n",
       "      <td>2015-12-01</td>\n",
       "      <td>0.0</td>\n",
       "      <td>NaN</td>\n",
       "      <td>NaN</td>\n",
       "    </tr>\n",
       "  </tbody>\n",
       "</table>\n",
       "</div>"
      ],
      "text/plain": [
       "                                           msno       time  label  \\\n",
       "0  ++bK0FRJecXCogqXdjtO2Kyb3jq7uLM7qThTk+nN8tE= 2015-08-01    0.0   \n",
       "1  ++bK0FRJecXCogqXdjtO2Kyb3jq7uLM7qThTk+nN8tE= 2015-09-01    0.0   \n",
       "2  ++bK0FRJecXCogqXdjtO2Kyb3jq7uLM7qThTk+nN8tE= 2015-10-01    0.0   \n",
       "3  ++bK0FRJecXCogqXdjtO2Kyb3jq7uLM7qThTk+nN8tE= 2015-11-01    0.0   \n",
       "4  ++bK0FRJecXCogqXdjtO2Kyb3jq7uLM7qThTk+nN8tE= 2015-12-01    0.0   \n",
       "\n",
       "   days_to_churn churn_date  \n",
       "0            NaN        NaN  \n",
       "1            NaN        NaN  \n",
       "2            NaN        NaN  \n",
       "3            NaN        NaN  \n",
       "4            NaN        NaN  "
      ]
     },
     "execution_count": 165,
     "metadata": {},
     "output_type": "execute_result"
    }
   ],
   "source": [
    "cutoff_times.rename(columns = {'cutoff_time' : 'time'}, inplace= True)\n",
    "cutoff_times.head()"
   ]
  },
  {
   "cell_type": "code",
   "execution_count": 167,
   "metadata": {
    "id": "9MupZXd_tkMA",
    "outputId": "54a8b157-989e-4bea-8b05-1ed0fbd23896"
   },
   "outputs": [
    {
     "data": {
      "text/html": [
       "<div>\n",
       "<style scoped>\n",
       "    .dataframe tbody tr th:only-of-type {\n",
       "        vertical-align: middle;\n",
       "    }\n",
       "\n",
       "    .dataframe tbody tr th {\n",
       "        vertical-align: top;\n",
       "    }\n",
       "\n",
       "    .dataframe thead th {\n",
       "        text-align: right;\n",
       "    }\n",
       "</style>\n",
       "<table border=\"1\" class=\"dataframe\">\n",
       "  <thead>\n",
       "    <tr style=\"text-align: right;\">\n",
       "      <th></th>\n",
       "      <th>msno</th>\n",
       "      <th>time</th>\n",
       "      <th>label</th>\n",
       "      <th>days_to_churn</th>\n",
       "      <th>churn_date</th>\n",
       "    </tr>\n",
       "  </thead>\n",
       "  <tbody>\n",
       "    <tr>\n",
       "      <th>0</th>\n",
       "      <td>++bK0FRJecXCogqXdjtO2Kyb3jq7uLM7qThTk+nN8tE=</td>\n",
       "      <td>2015-08-01</td>\n",
       "      <td>0.0</td>\n",
       "      <td>NaN</td>\n",
       "      <td>NaN</td>\n",
       "    </tr>\n",
       "    <tr>\n",
       "      <th>1</th>\n",
       "      <td>++bK0FRJecXCogqXdjtO2Kyb3jq7uLM7qThTk+nN8tE=</td>\n",
       "      <td>2015-09-01</td>\n",
       "      <td>0.0</td>\n",
       "      <td>NaN</td>\n",
       "      <td>NaN</td>\n",
       "    </tr>\n",
       "    <tr>\n",
       "      <th>2</th>\n",
       "      <td>++bK0FRJecXCogqXdjtO2Kyb3jq7uLM7qThTk+nN8tE=</td>\n",
       "      <td>2015-10-01</td>\n",
       "      <td>0.0</td>\n",
       "      <td>NaN</td>\n",
       "      <td>NaN</td>\n",
       "    </tr>\n",
       "    <tr>\n",
       "      <th>3</th>\n",
       "      <td>++bK0FRJecXCogqXdjtO2Kyb3jq7uLM7qThTk+nN8tE=</td>\n",
       "      <td>2015-11-01</td>\n",
       "      <td>0.0</td>\n",
       "      <td>NaN</td>\n",
       "      <td>NaN</td>\n",
       "    </tr>\n",
       "    <tr>\n",
       "      <th>4</th>\n",
       "      <td>++bK0FRJecXCogqXdjtO2Kyb3jq7uLM7qThTk+nN8tE=</td>\n",
       "      <td>2015-12-01</td>\n",
       "      <td>0.0</td>\n",
       "      <td>NaN</td>\n",
       "      <td>NaN</td>\n",
       "    </tr>\n",
       "  </tbody>\n",
       "</table>\n",
       "</div>"
      ],
      "text/plain": [
       "                                           msno       time  label  \\\n",
       "0  ++bK0FRJecXCogqXdjtO2Kyb3jq7uLM7qThTk+nN8tE= 2015-08-01    0.0   \n",
       "1  ++bK0FRJecXCogqXdjtO2Kyb3jq7uLM7qThTk+nN8tE= 2015-09-01    0.0   \n",
       "2  ++bK0FRJecXCogqXdjtO2Kyb3jq7uLM7qThTk+nN8tE= 2015-10-01    0.0   \n",
       "3  ++bK0FRJecXCogqXdjtO2Kyb3jq7uLM7qThTk+nN8tE= 2015-11-01    0.0   \n",
       "4  ++bK0FRJecXCogqXdjtO2Kyb3jq7uLM7qThTk+nN8tE= 2015-12-01    0.0   \n",
       "\n",
       "   days_to_churn churn_date  \n",
       "0            NaN        NaN  \n",
       "1            NaN        NaN  \n",
       "2            NaN        NaN  \n",
       "3            NaN        NaN  \n",
       "4            NaN        NaN  "
      ]
     },
     "execution_count": 167,
     "metadata": {},
     "output_type": "execute_result"
    }
   ],
   "source": [
    "cutoff_times = cutoff_times.drop_duplicates(subset = ['msno', 'time'])\n",
    "cutoff_times.head()"
   ]
  },
  {
   "cell_type": "markdown",
   "metadata": {
    "id": "ZVFoiIAstkMA"
   },
   "source": [
    "# Deep Feature Synthesis\n",
    "\n",
    "With the entities and relationships fully defined, we are ready to run [Deep Feature Synthesis (DFS)](https://www.featurelabs.com/blog/deep-feature-synthesis/). This process applies feature engineering building blocks called [feature primitives](https://docs.featuretools.com/automated_feature_engineering/primitives.html) to a dataset to build hundreds of features. Feature primitives are basic operations of two types - transforms and aggregations - that stack to build deep features (for more information see the previous linked resources). These includes many operations that we would traditionally carry out by hand, but automated feature engineering saves us from having to implement these features one at a time. \n",
    "\n",
    "The call to `ft.dfs` needs the entityset which holds all the tables and relationships between them, the `target_entity` to make features for, the specific primitives, the maximum stacking of primitives (`max_depth`), the `cutoff_times`, and a number of optional parameters.\n",
    "\n",
    "To start, we'll use the default aggregation and transformation primitives as well as two `where_primitives` and see how many features this generates. To only generate the definitions of the features, we pass in `features_only = True`.\n",
    "\n",
    "For full details on Deep Feature Synthesis, take a look at [the documentation](https://docs.featuretools.com/api_reference.html#deep-feature-synthesis). "
   ]
  },
  {
   "cell_type": "code",
   "execution_count": 168,
   "metadata": {
    "id": "GgLc91q8tkMA"
   },
   "outputs": [],
   "source": [
    "feature_defs = ft.dfs(entityset=es, target_entity='members', \n",
    "                      cutoff_time = cutoff_times,\n",
    "                      where_primitives = ['sum', 'mean'],\n",
    "                      max_depth=2, features_only=True)"
   ]
  },
  {
   "cell_type": "code",
   "execution_count": 169,
   "metadata": {
    "id": "Hil8mYvMtkMA",
    "outputId": "ea827fe9-b20c-45e5-b574-e1b147f1afc0"
   },
   "outputs": [
    {
     "name": "stdout",
     "output_type": "stream",
     "text": [
      "This will generate 164 features.\n"
     ]
    }
   ],
   "source": [
    "print(f'This will generate {len(feature_defs)} features.')"
   ]
  },
  {
   "cell_type": "code",
   "execution_count": 170,
   "metadata": {},
   "outputs": [
    {
     "name": "stdout",
     "output_type": "stream",
     "text": [
      "This will generate 212 features.\n"
     ]
    }
   ],
   "source": [
    "feature_defs_2 = ft.dfs(entityset=es, target_entity='members', \n",
    "                      cutoff_time = cutoff_times,\n",
    "                      where_primitives = ['sum', 'mean', 'max', 'min'],\n",
    "                      max_depth=4, features_only=True)\n",
    "print(f'This will generate {len(feature_defs_2)} features.')"
   ]
  },
  {
   "cell_type": "code",
   "execution_count": 171,
   "metadata": {
    "id": "UuMw1TzDtkMA",
    "outputId": "c9add1a5-fd3f-44ef-9db2-82d8946f3498"
   },
   "outputs": [
    {
     "data": {
      "text/plain": [
       "[<Feature: NUM_UNIQUE(logs.YEAR(date))>,\n",
       " <Feature: SKEW(transactions.daily_price)>,\n",
       " <Feature: MAX(transactions.daily_price)>,\n",
       " <Feature: SKEW(logs.num_75)>,\n",
       " <Feature: MIN(logs.num_50)>,\n",
       " <Feature: MEAN(logs.num_985)>,\n",
       " <Feature: STD(transactions.payment_plan_days)>,\n",
       " <Feature: PERCENT_TRUE(transactions.is_cancel)>,\n",
       " <Feature: SUM(transactions.daily_price WHERE is_auto_renew = 1)>,\n",
       " <Feature: MIN(transactions.price_difference)>]"
      ]
     },
     "execution_count": 171,
     "metadata": {},
     "output_type": "execute_result"
    }
   ],
   "source": [
    "import random; random.seed(42)\n",
    "random.sample(feature_defs, 10)"
   ]
  },
  {
   "cell_type": "markdown",
   "metadata": {
    "id": "07k_RQn1tkMA"
   },
   "source": [
    "We can see that Featuretools has built almost 200 features automatically for us using the table relationships and feature primitives. If built by hand, each of these features would require minutes of work, totaling many hours to build 188 features. Moreover, although the features are not necessarily intuitive, they are easy to explain in natural language because they are simple operations stacked on top of each other."
   ]
  },
  {
   "cell_type": "markdown",
   "metadata": {
    "id": "B5SntxX6tkMA"
   },
   "source": [
    "## Specify Primitives \n",
    "\n",
    "Now we'll do a call to `ft.dfs` specifying the primitives to use. Often, these will depend on the problem and can involve domain knowledge. The best way to choose primitives is by trying out a variety and seeing which perform the best. Like many operations in machine learning, choosing primitives is still largely an empirical, rather than theoretical, practice."
   ]
  },
  {
   "cell_type": "markdown",
   "metadata": {
    "id": "m34CTUN6tkMA"
   },
   "source": [
    "### Aggregation Primitives"
   ]
  },
  {
   "cell_type": "code",
   "execution_count": 66,
   "metadata": {
    "id": "RsG4RSyetkMA",
    "outputId": "abe50223-8cf3-426f-ab25-953b989e18ca"
   },
   "outputs": [
    {
     "data": {
      "text/html": [
       "<div>\n",
       "<style scoped>\n",
       "    .dataframe tbody tr th:only-of-type {\n",
       "        vertical-align: middle;\n",
       "    }\n",
       "\n",
       "    .dataframe tbody tr th {\n",
       "        vertical-align: top;\n",
       "    }\n",
       "\n",
       "    .dataframe thead th {\n",
       "        text-align: right;\n",
       "    }\n",
       "</style>\n",
       "<table border=\"1\" class=\"dataframe\">\n",
       "  <thead>\n",
       "    <tr style=\"text-align: right;\">\n",
       "      <th></th>\n",
       "      <th>name</th>\n",
       "      <th>type</th>\n",
       "      <th>dask_compatible</th>\n",
       "      <th>koalas_compatible</th>\n",
       "      <th>description</th>\n",
       "      <th>valid_inputs</th>\n",
       "      <th>return_type</th>\n",
       "    </tr>\n",
       "  </thead>\n",
       "  <tbody>\n",
       "    <tr>\n",
       "      <th>0</th>\n",
       "      <td>first</td>\n",
       "      <td>aggregation</td>\n",
       "      <td>False</td>\n",
       "      <td>False</td>\n",
       "      <td>Determines the first value in a list.</td>\n",
       "      <td>Variable</td>\n",
       "      <td>None</td>\n",
       "    </tr>\n",
       "    <tr>\n",
       "      <th>1</th>\n",
       "      <td>avg_time_between</td>\n",
       "      <td>aggregation</td>\n",
       "      <td>False</td>\n",
       "      <td>False</td>\n",
       "      <td>Computes the average number of seconds between consecutive events.</td>\n",
       "      <td>DatetimeTimeIndex</td>\n",
       "      <td>Numeric</td>\n",
       "    </tr>\n",
       "    <tr>\n",
       "      <th>2</th>\n",
       "      <td>skew</td>\n",
       "      <td>aggregation</td>\n",
       "      <td>False</td>\n",
       "      <td>False</td>\n",
       "      <td>Computes the extent to which a distribution differs from a normal distribution.</td>\n",
       "      <td>Numeric</td>\n",
       "      <td>Numeric</td>\n",
       "    </tr>\n",
       "    <tr>\n",
       "      <th>3</th>\n",
       "      <td>any</td>\n",
       "      <td>aggregation</td>\n",
       "      <td>True</td>\n",
       "      <td>False</td>\n",
       "      <td>Determines if any value is 'True' in a list.</td>\n",
       "      <td>Boolean</td>\n",
       "      <td>Boolean</td>\n",
       "    </tr>\n",
       "    <tr>\n",
       "      <th>4</th>\n",
       "      <td>last</td>\n",
       "      <td>aggregation</td>\n",
       "      <td>False</td>\n",
       "      <td>False</td>\n",
       "      <td>Determines the last value in a list.</td>\n",
       "      <td>Variable</td>\n",
       "      <td>None</td>\n",
       "    </tr>\n",
       "  </tbody>\n",
       "</table>\n",
       "</div>"
      ],
      "text/plain": [
       "               name         type  dask_compatible  koalas_compatible  \\\n",
       "0             first  aggregation            False              False   \n",
       "1  avg_time_between  aggregation            False              False   \n",
       "2              skew  aggregation            False              False   \n",
       "3               any  aggregation             True              False   \n",
       "4              last  aggregation            False              False   \n",
       "\n",
       "                                                                       description  \\\n",
       "0                                            Determines the first value in a list.   \n",
       "1               Computes the average number of seconds between consecutive events.   \n",
       "2  Computes the extent to which a distribution differs from a normal distribution.   \n",
       "3                                     Determines if any value is 'True' in a list.   \n",
       "4                                             Determines the last value in a list.   \n",
       "\n",
       "        valid_inputs return_type  \n",
       "0           Variable        None  \n",
       "1  DatetimeTimeIndex     Numeric  \n",
       "2            Numeric     Numeric  \n",
       "3            Boolean     Boolean  \n",
       "4           Variable        None  "
      ]
     },
     "execution_count": 66,
     "metadata": {},
     "output_type": "execute_result"
    }
   ],
   "source": [
    "all_p = ft.list_primitives()\n",
    "trans_p = all_p.loc[all_p['type'] == 'transform'].copy()\n",
    "agg_p = all_p.loc[all_p['type'] == 'aggregation'].copy()\n",
    "\n",
    "pd.options.display.max_colwidth = 100\n",
    "agg_p.head()"
   ]
  },
  {
   "cell_type": "markdown",
   "metadata": {
    "id": "Z9rbSANstkMB"
   },
   "source": [
    "## Transform Primitives"
   ]
  },
  {
   "cell_type": "code",
   "execution_count": 67,
   "metadata": {
    "id": "2Kcct9-VtkMB",
    "outputId": "9b413382-6e34-4a58-f97e-0f38f53a5041"
   },
   "outputs": [
    {
     "data": {
      "text/html": [
       "<div>\n",
       "<style scoped>\n",
       "    .dataframe tbody tr th:only-of-type {\n",
       "        vertical-align: middle;\n",
       "    }\n",
       "\n",
       "    .dataframe tbody tr th {\n",
       "        vertical-align: top;\n",
       "    }\n",
       "\n",
       "    .dataframe thead th {\n",
       "        text-align: right;\n",
       "    }\n",
       "</style>\n",
       "<table border=\"1\" class=\"dataframe\">\n",
       "  <thead>\n",
       "    <tr style=\"text-align: right;\">\n",
       "      <th></th>\n",
       "      <th>name</th>\n",
       "      <th>type</th>\n",
       "      <th>dask_compatible</th>\n",
       "      <th>koalas_compatible</th>\n",
       "      <th>description</th>\n",
       "      <th>valid_inputs</th>\n",
       "      <th>return_type</th>\n",
       "    </tr>\n",
       "  </thead>\n",
       "  <tbody>\n",
       "    <tr>\n",
       "      <th>79</th>\n",
       "      <td>url_to_domain</td>\n",
       "      <td>transform</td>\n",
       "      <td>False</td>\n",
       "      <td>False</td>\n",
       "      <td>Determines the domain of a url.</td>\n",
       "      <td>URL</td>\n",
       "      <td>Categorical</td>\n",
       "    </tr>\n",
       "    <tr>\n",
       "      <th>80</th>\n",
       "      <td>time_since</td>\n",
       "      <td>transform</td>\n",
       "      <td>True</td>\n",
       "      <td>False</td>\n",
       "      <td>Calculates time from a value to a specified cutoff datetime.</td>\n",
       "      <td>Datetime</td>\n",
       "      <td>Numeric</td>\n",
       "    </tr>\n",
       "    <tr>\n",
       "      <th>81</th>\n",
       "      <td>or</td>\n",
       "      <td>transform</td>\n",
       "      <td>True</td>\n",
       "      <td>True</td>\n",
       "      <td>Element-wise logical OR of two lists.</td>\n",
       "      <td>Boolean</td>\n",
       "      <td>Boolean</td>\n",
       "    </tr>\n",
       "    <tr>\n",
       "      <th>82</th>\n",
       "      <td>not_equal_scalar</td>\n",
       "      <td>transform</td>\n",
       "      <td>True</td>\n",
       "      <td>True</td>\n",
       "      <td>Determines if values in a list are not equal to a given scalar.</td>\n",
       "      <td>Variable</td>\n",
       "      <td>Boolean</td>\n",
       "    </tr>\n",
       "    <tr>\n",
       "      <th>83</th>\n",
       "      <td>scalar_subtract_numeric_feature</td>\n",
       "      <td>transform</td>\n",
       "      <td>True</td>\n",
       "      <td>True</td>\n",
       "      <td>Subtract each value in the list from a given scalar.</td>\n",
       "      <td>Numeric</td>\n",
       "      <td>Numeric</td>\n",
       "    </tr>\n",
       "  </tbody>\n",
       "</table>\n",
       "</div>"
      ],
      "text/plain": [
       "                               name       type  dask_compatible  \\\n",
       "79                    url_to_domain  transform            False   \n",
       "80                       time_since  transform             True   \n",
       "81                               or  transform             True   \n",
       "82                 not_equal_scalar  transform             True   \n",
       "83  scalar_subtract_numeric_feature  transform             True   \n",
       "\n",
       "    koalas_compatible  \\\n",
       "79              False   \n",
       "80              False   \n",
       "81               True   \n",
       "82               True   \n",
       "83               True   \n",
       "\n",
       "                                                        description  \\\n",
       "79                                  Determines the domain of a url.   \n",
       "80     Calculates time from a value to a specified cutoff datetime.   \n",
       "81                            Element-wise logical OR of two lists.   \n",
       "82  Determines if values in a list are not equal to a given scalar.   \n",
       "83             Subtract each value in the list from a given scalar.   \n",
       "\n",
       "   valid_inputs  return_type  \n",
       "79          URL  Categorical  \n",
       "80     Datetime      Numeric  \n",
       "81      Boolean      Boolean  \n",
       "82     Variable      Boolean  \n",
       "83      Numeric      Numeric  "
      ]
     },
     "execution_count": 67,
     "metadata": {},
     "output_type": "execute_result"
    }
   ],
   "source": [
    "trans_p.tail()"
   ]
  },
  {
   "cell_type": "code",
   "execution_count": 172,
   "metadata": {
    "id": "FsZj-X_-tkMA"
   },
   "outputs": [],
   "source": [
    "# Specify aggregation primitives\n",
    "#agg_primitives = ['sum', 'time_since_last', 'avg_time_between', 'all', 'mode', 'num_unique', 'min', 'last', 'mean', 'percent_true', 'max', 'std', 'count']\n",
    "agg_primitives = ['sum', 'time_since_last', 'avg_time_between', 'all', 'mode', 'num_unique', 'min', 'last', \n",
    "                  'mean', 'percent_true', 'max', 'std', 'count']"
   ]
  },
  {
   "cell_type": "code",
   "execution_count": 173,
   "metadata": {
    "id": "LwJc9AuJtkMB"
   },
   "outputs": [],
   "source": [
    "# Specify transformation primitives\n",
    "trans_primitives = ['cum_sum', 'day', 'month', 'diff', 'time_since_previous']\n",
    "#trans_primitives = ['weekend', 'cum_sum', 'day', 'month', 'diff', 'percentile','IsWeekend', 'time_since_previous']"
   ]
  },
  {
   "cell_type": "markdown",
   "metadata": {
    "id": "e7IlrlBttkMB"
   },
   "source": [
    "### Where Primitives\n",
    "\n",
    "These primitives are applied to the `interesting_values` to build conditional features. "
   ]
  },
  {
   "cell_type": "code",
   "execution_count": 174,
   "metadata": {
    "id": "0APyvgq1tkMC"
   },
   "outputs": [],
   "source": [
    "# Specify where primitives\n",
    "where_primitives = ['sum', 'mean', 'percent_true', 'all', 'any']\n",
    "#where_primitives = ['sum', 'mean', 'percent_true', 'all', 'any', 'where_not_equal', 'where_equal', \n",
    "                    #'where_greater_than', 'where_greater_than_equal', 'where_less_than', 'where_less_than_equal']"
   ]
  },
  {
   "cell_type": "markdown",
   "metadata": {
    "id": "RkHbG937tkMC"
   },
   "source": [
    "## Custom Primitives\n",
    "\n",
    "[Custom primitives](https://docs.featuretools.com/automated_feature_engineering/primitives.html#defining-custom-primitives) are one of the most powerful options in Featuretools. We use custom primitives to write our own functions based on domain knowledge and then pass them to `dfs` like any other primitives. Featuretools will then stack our custom primitives with the other primitives, again, in effect, amplifying our domain knowledge.\n",
    "\n",
    "For this problem, I wrote a custom primitive that calculates the sum of a value in the month prior to the cutoff time. This is actually a primitive I [wrote for another problem](https://github.com/Featuretools/Automated-Manual-Comparison/tree/master/Retail%20Spending) but I can apply it to this problem because primitives are data agnostic. That's one of the benefits of feature primitives: they can work for any problem and writing a custom primitive will pay off many times over."
   ]
  },
  {
   "cell_type": "code",
   "execution_count": 72,
   "metadata": {
    "id": "FzQ9vgo5tkMC"
   },
   "outputs": [],
   "source": [
    "from featuretools.primitives import make_agg_primitive\n",
    "\n",
    "def total_previous_month(numeric, datetime, time):\n",
    "    \"\"\"Return total of `numeric` column in the month prior to `time`.\"\"\"\n",
    "    df = pd.DataFrame({'value': numeric, 'date': datetime})\n",
    "    previous_month = time.month - 1\n",
    "    year = time.year\n",
    "   \n",
    "    # Handle January\n",
    "    if previous_month == 0:\n",
    "        previous_month = 12\n",
    "        year = time.year - 1\n",
    "        \n",
    "    # Filter data and sum up total\n",
    "    df = df[(df['date'].dt.month == previous_month) & (df['date'].dt.year == year)]\n",
    "    total = df['value'].sum()\n",
    "    \n",
    "    return total"
   ]
  },
  {
   "cell_type": "code",
   "execution_count": 78,
   "metadata": {
    "id": "V8EcPeDAtkMC",
    "outputId": "18651218-b7b5-4c30-9c62-dccc047e258d"
   },
   "outputs": [
    {
     "name": "stdout",
     "output_type": "stream",
     "text": [
      "   value                date\n",
      "0     10 2018-01-01 00:00:00\n",
      "1     12 2018-01-07 13:20:00\n",
      "2     14 2018-01-14 02:40:00\n",
      "3     15 2018-01-20 16:00:00\n",
      "4     19 2018-01-27 05:20:00\n",
      "5     22 2018-02-02 18:40:00\n",
      "   value                date\n",
      "0     10 2018-01-01 00:00:00\n",
      "1     12 2018-01-12 19:12:00\n",
      "2     14 2018-01-24 14:24:00\n",
      "3      5 2018-02-05 09:36:00\n",
      "4      7 2018-02-17 04:48:00\n",
      "5      8 2018-03-01 00:00:00\n",
      "70\n",
      "12\n"
     ]
    }
   ],
   "source": [
    "# testing the defined function\n",
    "numeric_1 = [10, 12, 14, 15, 19, 22, 9, 8, 8, 11]\n",
    "numeric_2 = [10, 12, 14, 5, 7, 8]\n",
    "dates_1 = pd.date_range('2018-01-01', '2018-03-01', periods = len(numeric_1))\n",
    "dates_2 = pd.date_range('2018-01-01', '2018-03-01', periods = len(numeric_2))\n",
    "print (pd.DataFrame({'value': numeric_1, 'date': dates_1}).head(6))\n",
    "print (pd.DataFrame({'value': numeric_2, 'date': dates_2}).head(6))\n",
    "print (total_previous_month(numeric_1, dates_1, pd.datetime(2018, 2, 1)))\n",
    "print (total_previous_month(numeric_2, dates_2, pd.datetime(2018, 3, 1)))"
   ]
  },
  {
   "cell_type": "markdown",
   "metadata": {
    "id": "2cxaCWHstkMC"
   },
   "source": [
    "### Custom Primitive Implementation\n",
    "\n",
    "Making a custom primitive is simple: first we define a function (`total_previous_month`) and then we `make_agg_primitive` with `input_type[s]`, a `return_type`, and whether or not the primitive requires the `cutoff_time` through `uses_calc_time`. \n",
    "\n",
    "This primitive is an aggregation primitive because it takes in multiple numbers - transactions for the previous month - and returns a single number - the total of the transactions. "
   ]
  },
  {
   "cell_type": "code",
   "execution_count": 79,
   "metadata": {
    "id": "vWK77B9ctkMC"
   },
   "outputs": [],
   "source": [
    "# Takes in a number and outputs a number\n",
    "total_previous = make_agg_primitive(total_previous_month, input_types = [ft.variable_types.Numeric,\n",
    "                                                                         ft.variable_types.Datetime],\n",
    "                                    return_type = ft.variable_types.Numeric, \n",
    "                                    uses_calc_time = True)"
   ]
  },
  {
   "cell_type": "markdown",
   "metadata": {
    "id": "-Mw5mhEMtkMC"
   },
   "source": [
    "Now just have to pass this in as another aggregation primitive for Featuretools to use it in calculations.\n",
    "\n",
    "\n",
    "The second custom primitive finds the time since a previous true value. This is originally intended for the `is_cancel` variable in the `transactions` dataframe, but it can work for any Boolean variable. It simply finds the time between True examples."
   ]
  },
  {
   "cell_type": "code",
   "execution_count": 80,
   "metadata": {
    "id": "51woBwmBtkMC"
   },
   "outputs": [],
   "source": [
    "def time_since_true(boolean, datetime):\n",
    "    \"\"\"Calculate time since previous true value\"\"\"\n",
    "    \n",
    "    if np.any(np.array(list(boolean)) == 1):\n",
    "        # Create dataframe sorted from oldest to newest \n",
    "        df = pd.DataFrame({'value': boolean, 'date': datetime}).\\\n",
    "                sort_values('date', ascending = False).reset_index()\n",
    "\n",
    "        older_date = None\n",
    "\n",
    "        # Iterate through each date in reverse order\n",
    "        for date in df.loc[df['value'] == 1, 'date']:\n",
    "\n",
    "            # If there was no older true value\n",
    "            if older_date == None:\n",
    "                # Subset to times on or after true\n",
    "                times_after_idx = df.loc[df['date'] >= date].index\n",
    "\n",
    "            else:\n",
    "                # Subset to times on or after true but before previous true\n",
    "                times_after_idx = df.loc[(df['date'] >= date) & (df['date'] < older_date)].index\n",
    "            older_date = date\n",
    "            # Calculate time since previous true\n",
    "            df.loc[times_after_idx, 'time_since_previous'] = (df.loc[times_after_idx, 'date'] - date).dt.total_seconds()\n",
    "\n",
    "        return list(df['time_since_previous'])[::-1]\n",
    "    \n",
    "    # Handle case with no true values\n",
    "    else:\n",
    "        return [np.nan for _ in range(len(boolean))]"
   ]
  },
  {
   "cell_type": "code",
   "execution_count": null,
   "metadata": {
    "id": "xfAU3VCUtkMC",
    "outputId": "38929a84-7e35-487d-9930-ae16d362d934"
   },
   "outputs": [
    {
     "data": {
      "text/plain": [
       "[]"
      ]
     },
     "execution_count": 33,
     "metadata": {},
     "output_type": "execute_result"
    }
   ],
   "source": [
    "booleans = []\n",
    "dates = []\n",
    "df = pd.DataFrame({'value': booleans, 'date': dates})\n",
    "time_since_true(df['value'], df['date'])"
   ]
  },
  {
   "cell_type": "code",
   "execution_count": 82,
   "metadata": {
    "id": "g-xuL8fdtkMC",
    "outputId": "d81cf5ee-6458-4a5a-c619-1321c582b249"
   },
   "outputs": [
    {
     "data": {
      "text/plain": [
       "[0.0,\n",
       " 509760.00000000006,\n",
       " 1019520.0000000001,\n",
       " 1529280.0,\n",
       " 2039040.0000000002,\n",
       " 0.0,\n",
       " 0.0,\n",
       " 0.0,\n",
       " 509760.00000000006,\n",
       " 1019520.0000000001,\n",
       " 1529280.0]"
      ]
     },
     "execution_count": 82,
     "metadata": {},
     "output_type": "execute_result"
    }
   ],
   "source": [
    "#testing the function\n",
    "booleans = [1, 0, 0, 0, 0, 1, 1, 1, 0, 0, 0]\n",
    "dates = pd.date_range('2018-01-01', '2018-03-01', periods = len(booleans))\n",
    "df = pd.DataFrame({'value': booleans, 'date': dates})\n",
    "time_since_true(df['value'], df['date'])"
   ]
  },
  {
   "cell_type": "code",
   "execution_count": 83,
   "metadata": {
    "id": "MeuKMEBctkMC",
    "outputId": "df9324ef-bc75-4a8d-f616-cf8ac577fe9c"
   },
   "outputs": [
    {
     "data": {
      "text/plain": [
       "[0.0, 2548800.0, 5097600.0]"
      ]
     },
     "execution_count": 83,
     "metadata": {},
     "output_type": "execute_result"
    }
   ],
   "source": [
    "booleans = [1, 0, 0]\n",
    "dates = pd.date_range('2018-01-01', '2018-03-01', periods = len(booleans))\n",
    "time_since_true(booleans, dates)"
   ]
  },
  {
   "cell_type": "code",
   "execution_count": 84,
   "metadata": {
    "id": "6_jJNFLetkMC",
    "outputId": "f576e09c-38d9-4265-c98f-acfcec3e32e1"
   },
   "outputs": [
    {
     "data": {
      "text/plain": [
       "[nan, nan]"
      ]
     },
     "execution_count": 84,
     "metadata": {},
     "output_type": "execute_result"
    }
   ],
   "source": [
    "booleans = [0, 0]\n",
    "dates = pd.date_range('2018-01-01', '2018-03-01', periods = len(booleans))\n",
    "time_since_true(booleans, dates)"
   ]
  },
  {
   "cell_type": "markdown",
   "metadata": {
    "id": "QX8Ok_K0tkMC"
   },
   "source": [
    "This is a transformation primitive since it acts on multiple columns in the same table. The returned list is the same length as the original column."
   ]
  },
  {
   "cell_type": "code",
   "execution_count": 85,
   "metadata": {
    "id": "F2xrGCn3tkMC"
   },
   "outputs": [],
   "source": [
    "from featuretools.primitives import make_trans_primitive\n",
    "\n",
    "# Specify the inputs and return\n",
    "time_since = make_trans_primitive(time_since_true, \n",
    "                                  input_types = [vtypes.Boolean, vtypes.Datetime],\n",
    "                                  return_type = vtypes.Numeric)"
   ]
  },
  {
   "cell_type": "markdown",
   "metadata": {
    "id": "0uQKI0GWtkMD"
   },
   "source": [
    "Let's add the two custom primitives to the respective lists. In the final version of feature engineering, I did not use the `time_since` primitive. I ran into problems with the implementation but would encourage anyone to try and fix it or build their own custom primitive[s]."
   ]
  },
  {
   "cell_type": "code",
   "execution_count": 175,
   "metadata": {
    "id": "GVYKNWqOtkMD"
   },
   "outputs": [],
   "source": [
    "agg_primitives.append(total_previous)\n",
    "#trans_primitives.append(time_since)"
   ]
  },
  {
   "cell_type": "markdown",
   "metadata": {
    "id": "M3fD2SGntkMD"
   },
   "source": [
    "## Deep Feature Synthesis with Specified Primitives\n",
    "\n",
    "We'll again run Deep Feature Synthesis to make the feature definitions this time using the selected primitives and the custom primitives. "
   ]
  },
  {
   "cell_type": "code",
   "execution_count": 176,
   "metadata": {
    "id": "n50OPEpUtkMD"
   },
   "outputs": [],
   "source": [
    "feature_defs = ft.dfs(entityset=es, target_entity='members', \n",
    "                      cutoff_time = cutoff_times, \n",
    "                      agg_primitives = agg_primitives,\n",
    "                      trans_primitives = trans_primitives,\n",
    "                      where_primitives = where_primitives,\n",
    "                      chunk_size = len(cutoff_times), \n",
    "                      cutoff_time_in_index = True,\n",
    "                      max_depth = 2, features_only = True)"
   ]
  },
  {
   "cell_type": "code",
   "execution_count": 177,
   "metadata": {
    "id": "phQJ5uihtkMD",
    "outputId": "5e516e33-d6e1-4485-e837-89c075d2945a"
   },
   "outputs": [
    {
     "name": "stdout",
     "output_type": "stream",
     "text": [
      "This will generate 728 features.\n"
     ]
    }
   ],
   "source": [
    "print(f'This will generate {len(feature_defs)} features.')"
   ]
  },
  {
   "cell_type": "code",
   "execution_count": 178,
   "metadata": {
    "id": "6ZfT7qmrtkMD",
    "outputId": "2efee93c-7ff7-4af1-f8e3-ba0b0b6c1173"
   },
   "outputs": [
    {
     "data": {
      "text/plain": [
       "[<Feature: CUM_SUM(TOTAL_PREVIOUS_MONTH(transactions.actual_amount_paid, membership_expire_date))>,\n",
       " <Feature: MEAN(logs.CUM_SUM(num_25))>,\n",
       " <Feature: MIN(transactions.payment_plan_days)>,\n",
       " <Feature: MIN(transactions.actual_amount_paid)>,\n",
       " <Feature: MIN(logs.total_secs)>,\n",
       " <Feature: MEAN(transactions.actual_amount_paid WHERE is_auto_renew = 0)>,\n",
       " <Feature: MEAN(transactions.planned_daily_price WHERE is_cancel = 1)>,\n",
       " <Feature: CUM_SUM(LAST(logs.num_75))>,\n",
       " <Feature: DAY(LAST(logs.date))>,\n",
       " <Feature: MEAN(transactions.plan_list_price)>,\n",
       " <Feature: CUM_SUM(STD(logs.num_unq))>,\n",
       " <Feature: MEAN(transactions.DIFF(plan_list_price) WHERE is_cancel = 1)>,\n",
       " <Feature: DIFF(MIN(logs.num_75))>,\n",
       " <Feature: DIFF(TOTAL_PREVIOUS_MONTH(transactions.payment_plan_days, transaction_date))>,\n",
       " <Feature: CUM_SUM(MIN(logs.num_unq))>]"
      ]
     },
     "execution_count": 178,
     "metadata": {},
     "output_type": "execute_result"
    }
   ],
   "source": [
    "random.sample(feature_defs, 15)"
   ]
  },
  {
   "cell_type": "markdown",
   "metadata": {
    "id": "57dORxiDtkMD"
   },
   "source": [
    "We can see that our custom primitive `TOTAL_PREVIOUS_MONTH` has been applied to create more features. The benefit of custom primitives are that they can be used to encode specific domain knowledge into the feature engineering process. Moreover, we don't get just the custom primitive itself, we also get features that are stacked on top of the primitive."
   ]
  },
  {
   "cell_type": "markdown",
   "metadata": {
    "id": "m25aTo6HtkMD"
   },
   "source": [
    "# Run Deep Feature Synthesis\n",
    "\n",
    "Once we're happy with the features that will be generated, we can run deep feature synthesis to make the actual features. We need to change `feature_only` to `False` and then we're good to go."
   ]
  },
  {
   "cell_type": "code",
   "execution_count": 179,
   "metadata": {
    "id": "9Pq2jruutkMD",
    "outputId": "08e35f85-8b03-4fd0-9006-fd2b5d08981e"
   },
   "outputs": [
    {
     "name": "stdout",
     "output_type": "stream",
     "text": [
      "Built 179 features\n",
      "Elapsed: 13:20 | Progress: 100%|██████████\n",
      "800 seconds elapsed.\n"
     ]
    }
   ],
   "source": [
    "from timeit import default_timer as timer\n",
    "\n",
    "start = timer()\n",
    "feature_matrix, feature_defs = ft.dfs(entityset=es, target_entity='members', \n",
    "                                      cutoff_time = cutoff_times, \n",
    "                                      agg_primitives = agg_primitives,\n",
    "                                      trans_primitives = trans_primitives,\n",
    "                                      where_primitives = where_primitives,\n",
    "                                      max_depth = 1, features_only = False,\n",
    "                                      verbose = 1, chunk_size = 100,  \n",
    "                                      n_jobs = 1,\n",
    "                                      cutoff_time_in_index = True)\n",
    "end = timer()\n",
    "print(f'{round(end - start)} seconds elapsed.')"
   ]
  },
  {
   "cell_type": "markdown",
   "metadata": {
    "id": "iXvs42-ctkMD"
   },
   "source": [
    "The `chunk_size` is a parameter that may need to be adjusted to optimize the calculation. I suggest playing around with this parameter to find the optimal value. Generally I've found that a large value makes the calculation proceed quicker although it depends on the machine in use and the number of unique cutoff times. "
   ]
  },
  {
   "cell_type": "code",
   "execution_count": 180,
   "metadata": {
    "id": "foi9z5kStkMD",
    "outputId": "98af49a2-9f76-4fe1-8e25-62ae4a56d45c"
   },
   "outputs": [
    {
     "data": {
      "text/html": [
       "<div>\n",
       "<style scoped>\n",
       "    .dataframe tbody tr th:only-of-type {\n",
       "        vertical-align: middle;\n",
       "    }\n",
       "\n",
       "    .dataframe tbody tr th {\n",
       "        vertical-align: top;\n",
       "    }\n",
       "\n",
       "    .dataframe thead th {\n",
       "        text-align: right;\n",
       "    }\n",
       "</style>\n",
       "<table border=\"1\" class=\"dataframe\">\n",
       "  <thead>\n",
       "    <tr style=\"text-align: right;\">\n",
       "      <th></th>\n",
       "      <th></th>\n",
       "      <th>bd</th>\n",
       "      <th>gender</th>\n",
       "      <th>city</th>\n",
       "      <th>registered_via</th>\n",
       "      <th>ALL(transactions.is_auto_renew)</th>\n",
       "      <th>ALL(transactions.is_cancel)</th>\n",
       "      <th>AVG_TIME_BETWEEN(transactions.transaction_date)</th>\n",
       "      <th>COUNT(transactions)</th>\n",
       "      <th>LAST(transactions.actual_amount_paid)</th>\n",
       "      <th>LAST(transactions.daily_price)</th>\n",
       "      <th>...</th>\n",
       "      <th>SUM(transactions.planned_daily_price WHERE is_auto_renew = 0)</th>\n",
       "      <th>SUM(transactions.planned_daily_price WHERE is_cancel = 0)</th>\n",
       "      <th>SUM(transactions.planned_daily_price WHERE is_auto_renew = 1)</th>\n",
       "      <th>SUM(transactions.price_difference WHERE is_cancel = 1)</th>\n",
       "      <th>SUM(transactions.price_difference WHERE is_auto_renew = 0)</th>\n",
       "      <th>SUM(transactions.price_difference WHERE is_cancel = 0)</th>\n",
       "      <th>SUM(transactions.price_difference WHERE is_auto_renew = 1)</th>\n",
       "      <th>label</th>\n",
       "      <th>days_to_churn</th>\n",
       "      <th>churn_date</th>\n",
       "    </tr>\n",
       "    <tr>\n",
       "      <th>msno</th>\n",
       "      <th>time</th>\n",
       "      <th></th>\n",
       "      <th></th>\n",
       "      <th></th>\n",
       "      <th></th>\n",
       "      <th></th>\n",
       "      <th></th>\n",
       "      <th></th>\n",
       "      <th></th>\n",
       "      <th></th>\n",
       "      <th></th>\n",
       "      <th></th>\n",
       "      <th></th>\n",
       "      <th></th>\n",
       "      <th></th>\n",
       "      <th></th>\n",
       "      <th></th>\n",
       "      <th></th>\n",
       "      <th></th>\n",
       "      <th></th>\n",
       "      <th></th>\n",
       "      <th></th>\n",
       "    </tr>\n",
       "  </thead>\n",
       "  <tbody>\n",
       "    <tr>\n",
       "      <th rowspan=\"5\" valign=\"top\">++bK0FRJecXCogqXdjtO2Kyb3jq7uLM7qThTk+nN8tE=</th>\n",
       "      <th>2015-08-01</th>\n",
       "      <td>NaN</td>\n",
       "      <td>NaN</td>\n",
       "      <td>NaN</td>\n",
       "      <td>NaN</td>\n",
       "      <td>NaN</td>\n",
       "      <td>NaN</td>\n",
       "      <td>NaN</td>\n",
       "      <td>0.0</td>\n",
       "      <td>NaN</td>\n",
       "      <td>NaN</td>\n",
       "      <td>...</td>\n",
       "      <td>0.0</td>\n",
       "      <td>0.0</td>\n",
       "      <td>0.0</td>\n",
       "      <td>0.0</td>\n",
       "      <td>0.0</td>\n",
       "      <td>0.0</td>\n",
       "      <td>0.0</td>\n",
       "      <td>0.0</td>\n",
       "      <td>NaN</td>\n",
       "      <td>NaN</td>\n",
       "    </tr>\n",
       "    <tr>\n",
       "      <th>2015-09-01</th>\n",
       "      <td>NaN</td>\n",
       "      <td>NaN</td>\n",
       "      <td>NaN</td>\n",
       "      <td>NaN</td>\n",
       "      <td>NaN</td>\n",
       "      <td>NaN</td>\n",
       "      <td>NaN</td>\n",
       "      <td>0.0</td>\n",
       "      <td>NaN</td>\n",
       "      <td>NaN</td>\n",
       "      <td>...</td>\n",
       "      <td>0.0</td>\n",
       "      <td>0.0</td>\n",
       "      <td>0.0</td>\n",
       "      <td>0.0</td>\n",
       "      <td>0.0</td>\n",
       "      <td>0.0</td>\n",
       "      <td>0.0</td>\n",
       "      <td>0.0</td>\n",
       "      <td>NaN</td>\n",
       "      <td>NaN</td>\n",
       "    </tr>\n",
       "    <tr>\n",
       "      <th>2015-10-01</th>\n",
       "      <td>NaN</td>\n",
       "      <td>NaN</td>\n",
       "      <td>NaN</td>\n",
       "      <td>NaN</td>\n",
       "      <td>NaN</td>\n",
       "      <td>NaN</td>\n",
       "      <td>NaN</td>\n",
       "      <td>0.0</td>\n",
       "      <td>NaN</td>\n",
       "      <td>NaN</td>\n",
       "      <td>...</td>\n",
       "      <td>0.0</td>\n",
       "      <td>0.0</td>\n",
       "      <td>0.0</td>\n",
       "      <td>0.0</td>\n",
       "      <td>0.0</td>\n",
       "      <td>0.0</td>\n",
       "      <td>0.0</td>\n",
       "      <td>0.0</td>\n",
       "      <td>NaN</td>\n",
       "      <td>NaN</td>\n",
       "    </tr>\n",
       "    <tr>\n",
       "      <th>2015-11-01</th>\n",
       "      <td>NaN</td>\n",
       "      <td>NaN</td>\n",
       "      <td>NaN</td>\n",
       "      <td>NaN</td>\n",
       "      <td>NaN</td>\n",
       "      <td>NaN</td>\n",
       "      <td>NaN</td>\n",
       "      <td>0.0</td>\n",
       "      <td>NaN</td>\n",
       "      <td>NaN</td>\n",
       "      <td>...</td>\n",
       "      <td>0.0</td>\n",
       "      <td>0.0</td>\n",
       "      <td>0.0</td>\n",
       "      <td>0.0</td>\n",
       "      <td>0.0</td>\n",
       "      <td>0.0</td>\n",
       "      <td>0.0</td>\n",
       "      <td>0.0</td>\n",
       "      <td>NaN</td>\n",
       "      <td>NaN</td>\n",
       "    </tr>\n",
       "    <tr>\n",
       "      <th>2015-12-01</th>\n",
       "      <td>NaN</td>\n",
       "      <td>NaN</td>\n",
       "      <td>NaN</td>\n",
       "      <td>NaN</td>\n",
       "      <td>NaN</td>\n",
       "      <td>NaN</td>\n",
       "      <td>NaN</td>\n",
       "      <td>0.0</td>\n",
       "      <td>NaN</td>\n",
       "      <td>NaN</td>\n",
       "      <td>...</td>\n",
       "      <td>0.0</td>\n",
       "      <td>0.0</td>\n",
       "      <td>0.0</td>\n",
       "      <td>0.0</td>\n",
       "      <td>0.0</td>\n",
       "      <td>0.0</td>\n",
       "      <td>0.0</td>\n",
       "      <td>0.0</td>\n",
       "      <td>NaN</td>\n",
       "      <td>NaN</td>\n",
       "    </tr>\n",
       "  </tbody>\n",
       "</table>\n",
       "<p>5 rows × 182 columns</p>\n",
       "</div>"
      ],
      "text/plain": [
       "                                                         bd gender  city  \\\n",
       "msno                                         time                          \n",
       "++bK0FRJecXCogqXdjtO2Kyb3jq7uLM7qThTk+nN8tE= 2015-08-01 NaN    NaN   NaN   \n",
       "                                             2015-09-01 NaN    NaN   NaN   \n",
       "                                             2015-10-01 NaN    NaN   NaN   \n",
       "                                             2015-11-01 NaN    NaN   NaN   \n",
       "                                             2015-12-01 NaN    NaN   NaN   \n",
       "\n",
       "                                                         registered_via  \\\n",
       "msno                                         time                         \n",
       "++bK0FRJecXCogqXdjtO2Kyb3jq7uLM7qThTk+nN8tE= 2015-08-01             NaN   \n",
       "                                             2015-09-01             NaN   \n",
       "                                             2015-10-01             NaN   \n",
       "                                             2015-11-01             NaN   \n",
       "                                             2015-12-01             NaN   \n",
       "\n",
       "                                                        ALL(transactions.is_auto_renew)  \\\n",
       "msno                                         time                                         \n",
       "++bK0FRJecXCogqXdjtO2Kyb3jq7uLM7qThTk+nN8tE= 2015-08-01                             NaN   \n",
       "                                             2015-09-01                             NaN   \n",
       "                                             2015-10-01                             NaN   \n",
       "                                             2015-11-01                             NaN   \n",
       "                                             2015-12-01                             NaN   \n",
       "\n",
       "                                                        ALL(transactions.is_cancel)  \\\n",
       "msno                                         time                                     \n",
       "++bK0FRJecXCogqXdjtO2Kyb3jq7uLM7qThTk+nN8tE= 2015-08-01                         NaN   \n",
       "                                             2015-09-01                         NaN   \n",
       "                                             2015-10-01                         NaN   \n",
       "                                             2015-11-01                         NaN   \n",
       "                                             2015-12-01                         NaN   \n",
       "\n",
       "                                                         AVG_TIME_BETWEEN(transactions.transaction_date)  \\\n",
       "msno                                         time                                                          \n",
       "++bK0FRJecXCogqXdjtO2Kyb3jq7uLM7qThTk+nN8tE= 2015-08-01                                              NaN   \n",
       "                                             2015-09-01                                              NaN   \n",
       "                                             2015-10-01                                              NaN   \n",
       "                                             2015-11-01                                              NaN   \n",
       "                                             2015-12-01                                              NaN   \n",
       "\n",
       "                                                         COUNT(transactions)  \\\n",
       "msno                                         time                              \n",
       "++bK0FRJecXCogqXdjtO2Kyb3jq7uLM7qThTk+nN8tE= 2015-08-01                  0.0   \n",
       "                                             2015-09-01                  0.0   \n",
       "                                             2015-10-01                  0.0   \n",
       "                                             2015-11-01                  0.0   \n",
       "                                             2015-12-01                  0.0   \n",
       "\n",
       "                                                         LAST(transactions.actual_amount_paid)  \\\n",
       "msno                                         time                                                \n",
       "++bK0FRJecXCogqXdjtO2Kyb3jq7uLM7qThTk+nN8tE= 2015-08-01                                    NaN   \n",
       "                                             2015-09-01                                    NaN   \n",
       "                                             2015-10-01                                    NaN   \n",
       "                                             2015-11-01                                    NaN   \n",
       "                                             2015-12-01                                    NaN   \n",
       "\n",
       "                                                         LAST(transactions.daily_price)  \\\n",
       "msno                                         time                                         \n",
       "++bK0FRJecXCogqXdjtO2Kyb3jq7uLM7qThTk+nN8tE= 2015-08-01                             NaN   \n",
       "                                             2015-09-01                             NaN   \n",
       "                                             2015-10-01                             NaN   \n",
       "                                             2015-11-01                             NaN   \n",
       "                                             2015-12-01                             NaN   \n",
       "\n",
       "                                                         ...  \\\n",
       "msno                                         time        ...   \n",
       "++bK0FRJecXCogqXdjtO2Kyb3jq7uLM7qThTk+nN8tE= 2015-08-01  ...   \n",
       "                                             2015-09-01  ...   \n",
       "                                             2015-10-01  ...   \n",
       "                                             2015-11-01  ...   \n",
       "                                             2015-12-01  ...   \n",
       "\n",
       "                                                         SUM(transactions.planned_daily_price WHERE is_auto_renew = 0)  \\\n",
       "msno                                         time                                                                        \n",
       "++bK0FRJecXCogqXdjtO2Kyb3jq7uLM7qThTk+nN8tE= 2015-08-01                                                            0.0   \n",
       "                                             2015-09-01                                                            0.0   \n",
       "                                             2015-10-01                                                            0.0   \n",
       "                                             2015-11-01                                                            0.0   \n",
       "                                             2015-12-01                                                            0.0   \n",
       "\n",
       "                                                         SUM(transactions.planned_daily_price WHERE is_cancel = 0)  \\\n",
       "msno                                         time                                                                    \n",
       "++bK0FRJecXCogqXdjtO2Kyb3jq7uLM7qThTk+nN8tE= 2015-08-01                                                        0.0   \n",
       "                                             2015-09-01                                                        0.0   \n",
       "                                             2015-10-01                                                        0.0   \n",
       "                                             2015-11-01                                                        0.0   \n",
       "                                             2015-12-01                                                        0.0   \n",
       "\n",
       "                                                         SUM(transactions.planned_daily_price WHERE is_auto_renew = 1)  \\\n",
       "msno                                         time                                                                        \n",
       "++bK0FRJecXCogqXdjtO2Kyb3jq7uLM7qThTk+nN8tE= 2015-08-01                                                            0.0   \n",
       "                                             2015-09-01                                                            0.0   \n",
       "                                             2015-10-01                                                            0.0   \n",
       "                                             2015-11-01                                                            0.0   \n",
       "                                             2015-12-01                                                            0.0   \n",
       "\n",
       "                                                         SUM(transactions.price_difference WHERE is_cancel = 1)  \\\n",
       "msno                                         time                                                                 \n",
       "++bK0FRJecXCogqXdjtO2Kyb3jq7uLM7qThTk+nN8tE= 2015-08-01                                                     0.0   \n",
       "                                             2015-09-01                                                     0.0   \n",
       "                                             2015-10-01                                                     0.0   \n",
       "                                             2015-11-01                                                     0.0   \n",
       "                                             2015-12-01                                                     0.0   \n",
       "\n",
       "                                                         SUM(transactions.price_difference WHERE is_auto_renew = 0)  \\\n",
       "msno                                         time                                                                     \n",
       "++bK0FRJecXCogqXdjtO2Kyb3jq7uLM7qThTk+nN8tE= 2015-08-01                                                         0.0   \n",
       "                                             2015-09-01                                                         0.0   \n",
       "                                             2015-10-01                                                         0.0   \n",
       "                                             2015-11-01                                                         0.0   \n",
       "                                             2015-12-01                                                         0.0   \n",
       "\n",
       "                                                         SUM(transactions.price_difference WHERE is_cancel = 0)  \\\n",
       "msno                                         time                                                                 \n",
       "++bK0FRJecXCogqXdjtO2Kyb3jq7uLM7qThTk+nN8tE= 2015-08-01                                                     0.0   \n",
       "                                             2015-09-01                                                     0.0   \n",
       "                                             2015-10-01                                                     0.0   \n",
       "                                             2015-11-01                                                     0.0   \n",
       "                                             2015-12-01                                                     0.0   \n",
       "\n",
       "                                                         SUM(transactions.price_difference WHERE is_auto_renew = 1)  \\\n",
       "msno                                         time                                                                     \n",
       "++bK0FRJecXCogqXdjtO2Kyb3jq7uLM7qThTk+nN8tE= 2015-08-01                                                         0.0   \n",
       "                                             2015-09-01                                                         0.0   \n",
       "                                             2015-10-01                                                         0.0   \n",
       "                                             2015-11-01                                                         0.0   \n",
       "                                             2015-12-01                                                         0.0   \n",
       "\n",
       "                                                         label  days_to_churn  \\\n",
       "msno                                         time                               \n",
       "++bK0FRJecXCogqXdjtO2Kyb3jq7uLM7qThTk+nN8tE= 2015-08-01    0.0            NaN   \n",
       "                                             2015-09-01    0.0            NaN   \n",
       "                                             2015-10-01    0.0            NaN   \n",
       "                                             2015-11-01    0.0            NaN   \n",
       "                                             2015-12-01    0.0            NaN   \n",
       "\n",
       "                                                         churn_date  \n",
       "msno                                         time                    \n",
       "++bK0FRJecXCogqXdjtO2Kyb3jq7uLM7qThTk+nN8tE= 2015-08-01         NaN  \n",
       "                                             2015-09-01         NaN  \n",
       "                                             2015-10-01         NaN  \n",
       "                                             2015-11-01         NaN  \n",
       "                                             2015-12-01         NaN  \n",
       "\n",
       "[5 rows x 182 columns]"
      ]
     },
     "execution_count": 180,
     "metadata": {},
     "output_type": "execute_result"
    }
   ],
   "source": [
    "feature_matrix.head()"
   ]
  },
  {
   "cell_type": "code",
   "execution_count": 183,
   "metadata": {},
   "outputs": [
    {
     "data": {
      "text/plain": [
       "Index(['bd', 'gender', 'city', 'registered_via',\n",
       "       'ALL(transactions.is_auto_renew)', 'ALL(transactions.is_cancel)',\n",
       "       'AVG_TIME_BETWEEN(transactions.transaction_date)',\n",
       "       'COUNT(transactions)', 'LAST(transactions.actual_amount_paid)',\n",
       "       'LAST(transactions.daily_price)',\n",
       "       ...\n",
       "       'SUM(transactions.planned_daily_price WHERE is_auto_renew = 0)',\n",
       "       'SUM(transactions.planned_daily_price WHERE is_cancel = 0)',\n",
       "       'SUM(transactions.planned_daily_price WHERE is_auto_renew = 1)',\n",
       "       'SUM(transactions.price_difference WHERE is_cancel = 1)',\n",
       "       'SUM(transactions.price_difference WHERE is_auto_renew = 0)',\n",
       "       'SUM(transactions.price_difference WHERE is_cancel = 0)',\n",
       "       'SUM(transactions.price_difference WHERE is_auto_renew = 1)', 'label',\n",
       "       'days_to_churn', 'churn_date'],\n",
       "      dtype='object', length=182)"
      ]
     },
     "execution_count": 183,
     "metadata": {},
     "output_type": "execute_result"
    }
   ],
   "source": [
    "feature_matrix.columns"
   ]
  },
  {
   "cell_type": "code",
   "execution_count": null,
   "metadata": {},
   "outputs": [],
   "source": [
    "feature"
   ]
  },
  {
   "cell_type": "markdown",
   "metadata": {
    "id": "n1sAEKu6tkMD"
   },
   "source": [
    "We can save these feature definitions as a binary file which will allow us to make the same exact features for another entityset of the same format. This is useful when we have multiple partitions and we want to make the same features for each. Instead of remaking the feature definitions, we pass in the same feature definitions to a call to `calculate_feature_matrix`."
   ]
  },
  {
   "cell_type": "code",
   "execution_count": 181,
   "metadata": {
    "id": "6GZHGkLItkMD"
   },
   "outputs": [],
   "source": [
    "ft.save_features(feature_defs, './data/churn/features.txt')"
   ]
  },
  {
   "cell_type": "code",
   "execution_count": 182,
   "metadata": {
    "id": "ZhXOo6QatkMD",
    "outputId": "5f1763ea-3594-40e5-a235-ac1fb59fda8f"
   },
   "outputs": [
    {
     "data": {
      "image/png": "[encoded data removed]",
      "text/plain": [
       "<Figure size 720x432 with 1 Axes>"
      ]
     },
     "metadata": {},
     "output_type": "display_data"
    }
   ],
   "source": [
    "feature_matrix.loc[feature_matrix['SUM(logs.num_100)'] < 10000, 'SUM(logs.num_100)'].plot.hist();\n",
    "plt.title('% of Sum of Number of Songs Listened to 100 %');"
   ]
  },
  {
   "cell_type": "code",
   "execution_count": 184,
   "metadata": {
    "id": "NGoeF-7DtkMD",
    "outputId": "ceb85eb2-783a-46e3-acc0-939cbf722fec"
   },
   "outputs": [
    {
     "data": {
      "image/png": "[encoded data removed]",
      "text/plain": [
       "<Figure size 720x432 with 1 Axes>"
      ]
     },
     "metadata": {},
     "output_type": "display_data"
    }
   ],
   "source": [
    "feature_matrix['TOTAL_PREVIOUS_MONTH(logs.num_unq, date)'].plot.hist()\n",
    "plt.title('Number of Unique Songs Listened to in Past Month');"
   ]
  },
  {
   "cell_type": "code",
   "execution_count": 185,
   "metadata": {
    "id": "DRbif0Z5tkME",
    "outputId": "9114efc7-b501-4b51-92c6-76061c55f39b"
   },
   "outputs": [
    {
     "data": {
      "text/plain": [
       "count    19149.000000\n",
       "mean       105.669121\n",
       "std        207.530922\n",
       "min          0.000000\n",
       "25%          0.000000\n",
       "50%          9.000000\n",
       "75%        140.000000\n",
       "max       5137.000000\n",
       "Name: TOTAL_PREVIOUS_MONTH(logs.num_unq, date), dtype: float64"
      ]
     },
     "execution_count": 185,
     "metadata": {},
     "output_type": "execute_result"
    }
   ],
   "source": [
    "feature_matrix['TOTAL_PREVIOUS_MONTH(logs.num_unq, date)'].describe()"
   ]
  },
  {
   "cell_type": "code",
   "execution_count": 186,
   "metadata": {
    "id": "9_MRj_qutkME",
    "outputId": "8e35e016-0cfe-4710-8866-b0a34bf2016a"
   },
   "outputs": [
    {
     "data": {
      "image/png": "[encoded data removed]",
      "text/plain": [
       "<Figure size 432x576 with 1 Axes>"
      ]
     },
     "metadata": {},
     "output_type": "display_data"
    }
   ],
   "source": [
    "plt.figure(figsize = (6, 8))\n",
    "sns.boxplot(y = feature_matrix['TOTAL_PREVIOUS_MONTH(logs.num_unq, date)']);"
   ]
  },
  {
   "cell_type": "code",
   "execution_count": 187,
   "metadata": {
    "id": "nr7652EVtkME",
    "outputId": "5449a7d3-6322-4a16-eafb-58bb85cd6529"
   },
   "outputs": [
    {
     "name": "stdout",
     "output_type": "stream",
     "text": [
      "There are 179 features.\n"
     ]
    }
   ],
   "source": [
    "feature_defs = ft.load_features('./data/churn/features.txt')\n",
    "print(f'There are {len(feature_defs)} features.')"
   ]
  },
  {
   "cell_type": "markdown",
   "metadata": {
    "id": "paINxoJmtkME"
   },
   "source": [
    "# Conclusions\n",
    "\n",
    "Automated feature engineering is a significant improvement over manual feature engineering in terms of both time and modeling performance. In this notebook, we implemented an automated feature engineering workflow with Featuretools for the customer churn problem. Given customer data and label times, we can now calculate a feature matrix with several hundred relevant features for predicting customer churn while ensuring that our features are made with valid data for each cutoff time. \n",
    "\n",
    "Along the way, we implemented a number of Featuretools concepts:\n",
    "\n",
    "1. An entityset and entities\n",
    "2. Relationships between entities\n",
    "3. Cutoff times\n",
    "4. Feature primitives\n",
    "5. Custom primitives\n",
    "6. Deep feature synthesis\n",
    "\n",
    "These concepts will serve us well in future machine learning projects that we can tackle with automated feature engineering.\n",
    "\n",
    "## Next Steps\n",
    "\n",
    "Although we often hear that \"data is the fuel of machine learning\", data is not exactly a fuel but more like crude oil. _Features_ are the refined product that we feed into a machine learning model to make accurate predictions. After performing prediction engineering and automated feature engineering, the next step is to use these features in a predictive model to estimate the _label_ using the _features_. \n",
    "\n",
    "Generating hundreds of features automatically is impressive, but if those features cannot allow a model to learn our prediction problem then they are not mcuch help! The next step is to use our features and labeled historical examples to train a machine learning model to make predictions of customer churn. We'll make sure to test our model using a hold-out testing set to estimate performance on new data. Then, after validating our model, we can use it on new examples by passing the data through the feature engineering process. "
   ]
  },
  {
   "cell_type": "code",
   "execution_count": null,
   "metadata": {
    "id": "GlC-9EQntkMF"
   },
   "outputs": [],
   "source": []
  }
 ],
 "metadata": {
  "colab": {
   "provenance": [
    {
     "file_id": "https://github.com/springboard-curriculum/featuretools/blob/master/Feature%20Engineering.ipynb",
     "timestamp": 1680887669547
    }
   ]
  },
  "interpreter": {
   "hash": "4974b06b67eebfe4c4fc28149be42606bd9b389e2147ff957b8a0b3a8dd2815e"
  },
  "kernelspec": {
   "display_name": "Python 3 (ipykernel)",
   "language": "python",
   "name": "python3"
  },
  "language_info": {
   "codemirror_mode": {
    "name": "ipython",
    "version": 3
   },
   "file_extension": ".py",
   "mimetype": "text/x-python",
   "name": "python",
   "nbconvert_exporter": "python",
   "pygments_lexer": "ipython3",
   "version": "3.9.7"
  },
  "toc": {
   "base_numbering": 1,
   "nav_menu": {},
   "number_sections": true,
   "sideBar": true,
   "skip_h1_title": false,
   "title_cell": "Table of Contents",
   "title_sidebar": "Contents",
   "toc_cell": false,
   "toc_position": {},
   "toc_section_display": true,
   "toc_window_display": false
  },
  "varInspector": {
   "cols": {
    "lenName": 16,
    "lenType": 16,
    "lenVar": 40
   },
   "kernels_config": {
    "python": {
     "delete_cmd_postfix": "",
     "delete_cmd_prefix": "del ",
     "library": "var_list.py",
     "varRefreshCmd": "print(var_dic_list())"
    },
    "r": {
     "delete_cmd_postfix": ") ",
     "delete_cmd_prefix": "rm(",
     "library": "var_list.r",
     "varRefreshCmd": "cat(var_dic_list()) "
    }
   },
   "types_to_exclude": [
    "module",
    "function",
    "builtin_function_or_method",
    "instance",
    "_Feature"
   ],
   "window_display": false
  }
 },
 "nbformat": 4,
 "nbformat_minor": 1
}
